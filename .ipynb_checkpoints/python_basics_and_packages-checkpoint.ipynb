{
 "cells": [
  {
   "cell_type": "markdown",
   "id": "6a0405e6",
   "metadata": {},
   "source": [
    "# Solutions"
   ]
  },
  {
   "cell_type": "markdown",
   "id": "cbf764eb",
   "metadata": {},
   "source": [
    "### solution to calculator problem"
   ]
  },
  {
   "cell_type": "code",
   "execution_count": 43,
   "id": "fc9d44d2",
   "metadata": {},
   "outputs": [
    {
     "name": "stdout",
     "output_type": "stream",
     "text": [
      "Advanced Calculator\n",
      "Operations: \n",
      "1. Add\n",
      "2. Subtract\n",
      "3. Multiply\n",
      "4. Divide\n",
      "5. Exit\n",
      "Enter the operation number (1,2,3,4) or '5' to exit: 5\n",
      "Goodbye!\n"
     ]
    }
   ],
   "source": [
    "def add(x, y):\n",
    "    return x + y\n",
    "\n",
    "def subtract(x, y):\n",
    "    return x - y\n",
    "\n",
    "def multiply(x, y):\n",
    "    return x * y\n",
    "\n",
    "def divide(x, y):\n",
    "    return x / y\n",
    "\n",
    "def calculator():\n",
    "    print(\"Advanced Calculator\")\n",
    "    print(\"Operations: \")\n",
    "    print(\"1. Add\")\n",
    "    print(\"2. Subtract\")\n",
    "    print(\"3. Multiply\")\n",
    "    print(\"4. Divide\")\n",
    "    print(\"5. Exit\")\n",
    "\n",
    "    while True: ## what is this doing? is it infinite?\n",
    "        operation = input(\"Enter the operation number (1,2,3,4) or '5' to exit: \")\n",
    "\n",
    "        if operation == '5':\n",
    "            print(\"Goodbye!\")\n",
    "            break\n",
    "\n",
    "        if operation in ['1', '2', '3', '4']:\n",
    "            try:\n",
    "                num1 = float(input(\"Enter the first number: \"))\n",
    "                num2 = float(input(\"Enter the second number: \"))\n",
    "\n",
    "                if operation == '1':\n",
    "                    result = add(num1, num2)\n",
    "                elif operation == '2':\n",
    "                    result = subtract(num1, num2)\n",
    "                elif operation == '3':\n",
    "                    result = multiply(num1, num2)\n",
    "                else:\n",
    "                    result = divide(num1, num2)\n",
    "\n",
    "                print(\"Result:\", result)\n",
    "            except ValueError:\n",
    "                print(\"Invalid input. Please enter valid numbers.\")\n",
    "        else:\n",
    "            print(\"Invalid operation number. Please try again.\")\n",
    "\n",
    "if __name__ == \"__main__\":\n",
    "    calculator()\n"
   ]
  },
  {
   "cell_type": "markdown",
   "id": "6ede7a04",
   "metadata": {},
   "source": [
    "## --- in class code for python basics ---"
   ]
  },
  {
   "cell_type": "code",
   "execution_count": 13,
   "id": "7cd2e9d3",
   "metadata": {},
   "outputs": [
    {
     "name": "stdout",
     "output_type": "stream",
     "text": [
      "      *\n",
      "     ***\n",
      "    *****\n",
      "   *******\n",
      "  *********\n",
      " ***********\n"
     ]
    }
   ],
   "source": [
    "tree = 6\n",
    "for i in range(6):\n",
    "    print(\" \" * tree , end = '*' )\n",
    "    print('*'*2*i)\n",
    "    tree -=1 "
   ]
  },
  {
   "cell_type": "code",
   "execution_count": 3,
   "id": "d97c524b",
   "metadata": {},
   "outputs": [
    {
     "name": "stdout",
     "output_type": "stream",
     "text": [
      "            * \n",
      "           * * \n",
      "          * * * \n",
      "         * * * * \n",
      "        * * * * * \n",
      "       * * * * * * \n",
      "      * * * * * * * \n",
      "     * * * * * * * * \n",
      "    * * * * * * * * * \n",
      "   * * * * * * * * * * \n"
     ]
    }
   ],
   "source": [
    "tree = 10 \n",
    "z = tree + 2 \n",
    "x = 1 \n",
    "for n in range(0,tree):\n",
    "    for n in range(0,z):\n",
    "        print(' ', end = '')\n",
    "    for n in range(0,x):\n",
    "        print('* ', end = '')\n",
    "    x= x + 1\n",
    "    z = z -1 \n",
    "    print()"
   ]
  },
  {
   "cell_type": "code",
   "execution_count": 8,
   "id": "f5903728",
   "metadata": {},
   "outputs": [
    {
     "name": "stdout",
     "output_type": "stream",
     "text": [
      "         \n",
      "    *    \n",
      "   * *   \n",
      "   ***   \n",
      "  ** **  \n",
      "  *****  \n",
      " *** *** \n",
      " ******* \n",
      "**** ****\n",
      "   !!   \n"
     ]
    }
   ],
   "source": [
    "import math \n",
    "for n in range(0,9):\n",
    "    i = math.floor(n/2)\n",
    "    s = math.floor((9-n)/2)\n",
    "    if (n/2).is_integer():\n",
    "        tree_even = ' '*s + '*'*i + ' ' + '*'*i  + ' '*s\n",
    "        print(tree_even)\n",
    "    else: \n",
    "        tree_odd = ' '*s + '*'*n + ' '*s \n",
    "        print(tree_odd)\n",
    "print('   !!   ')"
   ]
  },
  {
   "cell_type": "code",
   "execution_count": 16,
   "id": "f02260bf",
   "metadata": {},
   "outputs": [
    {
     "name": "stdout",
     "output_type": "stream",
     "text": [
      "                   *                    \n",
      "                  ***                   \n",
      "                 *****                  \n",
      "                *******                 \n",
      "               *********                \n",
      "              ***********               \n",
      "             *************              \n",
      "            ***************             \n",
      "           *****************            \n",
      "          *******************           \n",
      "         *********************          \n",
      "        ***********************         \n",
      "                  ***                   \n",
      "                  ***                   \n",
      "                  ***                   \n"
     ]
    }
   ],
   "source": [
    "i = 0 \n",
    "star = '*'\n",
    "tree_size = 12\n",
    "trunk = 3 \n",
    "\n",
    "while i < tree_size: \n",
    "    print(star.center(40))\n",
    "    star += '**' \n",
    "    i += 1 \n",
    "\n",
    "while i < (tree_size + trunk):\n",
    "    print('***'.center(40))\n",
    "    i = i +1 \n",
    "    "
   ]
  },
  {
   "cell_type": "code",
   "execution_count": 11,
   "id": "603bdae1",
   "metadata": {},
   "outputs": [
    {
     "name": "stdout",
     "output_type": "stream",
     "text": [
      "\n",
      "1\n",
      "22\n",
      "333\n",
      "4444\n",
      "55555\n"
     ]
    }
   ],
   "source": [
    "rows = 5 \n",
    "for i in range(rows+1):\n",
    "    for j in range(i):\n",
    "        print(i, end = '')\n",
    "    print('')"
   ]
  },
  {
   "cell_type": "code",
   "execution_count": 14,
   "id": "c844298a",
   "metadata": {},
   "outputs": [
    {
     "name": "stdout",
     "output_type": "stream",
     "text": [
      "++++ +++++\n",
      "++++ 1+++++\n",
      "+++ 22++++\n",
      "+++ 333++++\n",
      "++ 4444+++\n",
      "++ 55555+++\n",
      "+ 666666++\n",
      "+ 7777777++\n",
      " 88888888+\n"
     ]
    }
   ],
   "source": [
    "list_number = [1,2,3,4,5,6,7,8,9]\n",
    "i = 10 \n",
    "for number in range(9):\n",
    "    print((int((i-1)/2))*'+', str(number)*number + (int((i+1)/2))*'+')\n",
    "    i -= 1"
   ]
  },
  {
   "cell_type": "markdown",
   "id": "7c235997",
   "metadata": {},
   "source": [
    "## Continue : skips to the next iteration of the loop"
   ]
  },
  {
   "cell_type": "code",
   "execution_count": 18,
   "id": "1e24a40d",
   "metadata": {},
   "outputs": [
    {
     "name": "stdout",
     "output_type": "stream",
     "text": [
      "apples\n",
      "cherry\n"
     ]
    }
   ],
   "source": [
    "fruits = ['bananas', 'apples', 'cherry']\n",
    "for x in fruits:\n",
    "    if x == 'bananas':\n",
    "       continue\n",
    "    print(x)"
   ]
  },
  {
   "cell_type": "code",
   "execution_count": 19,
   "id": "d2937ab0",
   "metadata": {},
   "outputs": [
    {
     "name": "stdout",
     "output_type": "stream",
     "text": [
      "1\n",
      "2\n",
      "4\n",
      "5\n",
      "6\n"
     ]
    }
   ],
   "source": [
    "i = 0 \n",
    "while i < 6: \n",
    "    i = i + 1\n",
    "    if i == 3:\n",
    "        continue\n",
    "    print(i)"
   ]
  },
  {
   "cell_type": "markdown",
   "id": "ad5ea85e",
   "metadata": {},
   "source": [
    "## Break stops the Loop"
   ]
  },
  {
   "cell_type": "code",
   "execution_count": 24,
   "id": "af801d31",
   "metadata": {},
   "outputs": [
    {
     "name": "stdout",
     "output_type": "stream",
     "text": [
      "bananas\n",
      "apples\n"
     ]
    }
   ],
   "source": [
    "fruits = ['bananas', 'apples', 'cherry']\n",
    "\n",
    "for x in fruits:\n",
    "    print(x)\n",
    "    if x == 'apples': \n",
    "        break\n",
    "    "
   ]
  },
  {
   "cell_type": "code",
   "execution_count": 25,
   "id": "99547131",
   "metadata": {},
   "outputs": [
    {
     "name": "stdout",
     "output_type": "stream",
     "text": [
      "1\n",
      "2\n",
      "3\n"
     ]
    }
   ],
   "source": [
    "i = 1 \n",
    "while i < 6:\n",
    "    print(i)\n",
    "    if i == 3:\n",
    "        break\n",
    "    i += 1"
   ]
  },
  {
   "cell_type": "markdown",
   "id": "c430402a",
   "metadata": {},
   "source": [
    "## Pass empty for loop"
   ]
  },
  {
   "cell_type": "code",
   "execution_count": 35,
   "id": "644a2a82",
   "metadata": {},
   "outputs": [
    {
     "data": {
      "text/plain": [
       "[]"
      ]
     },
     "execution_count": 35,
     "metadata": {},
     "output_type": "execute_result"
    }
   ],
   "source": [
    "mylist = []\n",
    "for x in [1,2,3]:\n",
    "  pass\n",
    "\n",
    "mylist"
   ]
  },
  {
   "cell_type": "code",
   "execution_count": 34,
   "id": "bed49b97",
   "metadata": {},
   "outputs": [
    {
     "data": {
      "text/plain": [
       "[]"
      ]
     },
     "execution_count": 34,
     "metadata": {},
     "output_type": "execute_result"
    }
   ],
   "source": [
    "mylist = []\n",
    "for x in [1,2,3]:\n",
    "    break\n",
    "    mylist.append(x)\n",
    "\n",
    "\n",
    "\n",
    "mylist"
   ]
  },
  {
   "cell_type": "markdown",
   "id": "449edae5",
   "metadata": {},
   "source": [
    "## Nested For loops"
   ]
  },
  {
   "cell_type": "code",
   "execution_count": 37,
   "id": "21954932",
   "metadata": {},
   "outputs": [
    {
     "name": "stdout",
     "output_type": "stream",
     "text": [
      "Jon eats in Japanese\n",
      "Jon eats in Mexican\n",
      "Jon eats in French\n",
      "Pete eats in Japanese\n",
      "Pete eats in Mexican\n",
      "Pete eats in French\n",
      "Mary eats in Japanese\n",
      "Mary eats in Mexican\n",
      "Mary eats in French\n"
     ]
    }
   ],
   "source": [
    "persons = ['Jon', 'Pete', 'Mary']\n",
    "food = ['Japanese', 'Mexican', 'French']\n",
    "\n",
    "for person in persons:\n",
    "    for restaurant in food:\n",
    "        print(person + ' eats in ' + restaurant)\n",
    "        \n",
    "        \n"
   ]
  },
  {
   "cell_type": "markdown",
   "id": "dad25717",
   "metadata": {},
   "source": [
    "## Nested if statements"
   ]
  },
  {
   "cell_type": "code",
   "execution_count": 47,
   "id": "05f1f036",
   "metadata": {},
   "outputs": [
    {
     "name": "stdout",
     "output_type": "stream",
     "text": [
      "Enter a number:14\n",
      "Not a number please try again\n"
     ]
    },
    {
     "ename": "TypeError",
     "evalue": "'>=' not supported between instances of 'str' and 'int'",
     "output_type": "error",
     "traceback": [
      "\u001b[0;31m---------------------------------------------------------------------------\u001b[0m",
      "\u001b[0;31mTypeError\u001b[0m                                 Traceback (most recent call last)",
      "\u001b[0;32m<ipython-input-47-e3c5748c4fac>\u001b[0m in \u001b[0;36m<module>\u001b[0;34m\u001b[0m\n\u001b[1;32m      4\u001b[0m     \u001b[0mprint\u001b[0m\u001b[0;34m(\u001b[0m\u001b[0;34m'Not a number please try again'\u001b[0m\u001b[0;34m)\u001b[0m\u001b[0;34m\u001b[0m\u001b[0;34m\u001b[0m\u001b[0m\n\u001b[1;32m      5\u001b[0m \u001b[0;34m\u001b[0m\u001b[0m\n\u001b[0;32m----> 6\u001b[0;31m \u001b[0;32mif\u001b[0m \u001b[0mnum\u001b[0m \u001b[0;34m>=\u001b[0m \u001b[0;36m0\u001b[0m\u001b[0;34m:\u001b[0m\u001b[0;34m\u001b[0m\u001b[0;34m\u001b[0m\u001b[0m\n\u001b[0m\u001b[1;32m      7\u001b[0m     \u001b[0;32mif\u001b[0m \u001b[0mnum\u001b[0m \u001b[0;34m==\u001b[0m \u001b[0;36m0\u001b[0m\u001b[0;34m:\u001b[0m\u001b[0;34m\u001b[0m\u001b[0;34m\u001b[0m\u001b[0m\n\u001b[1;32m      8\u001b[0m         \u001b[0mprint\u001b[0m\u001b[0;34m(\u001b[0m\u001b[0;34m'Number is zero'\u001b[0m\u001b[0;34m)\u001b[0m\u001b[0;34m\u001b[0m\u001b[0;34m\u001b[0m\u001b[0m\n",
      "\u001b[0;31mTypeError\u001b[0m: '>=' not supported between instances of 'str' and 'int'"
     ]
    }
   ],
   "source": [
    "num = float(input('Enter a number:'))\n",
    "\n",
    "if (type(num) != int):\n",
    "    print('Not a number please try again')\n",
    "    \n",
    "if num >= 0: \n",
    "    if num == 0: \n",
    "        print('Number is zero')\n",
    "    else: \n",
    "        print('Positive')\n",
    "if num < 0: \n",
    "    print('Number is negative')\n",
    "\n"
   ]
  },
  {
   "cell_type": "code",
   "execution_count": 49,
   "id": "030ec2e8",
   "metadata": {},
   "outputs": [
    {
     "data": {
      "text/plain": [
       "14.0"
      ]
     },
     "execution_count": 49,
     "metadata": {},
     "output_type": "execute_result"
    }
   ],
   "source": [
    "float('14')"
   ]
  },
  {
   "cell_type": "markdown",
   "id": "fbf4f60a",
   "metadata": {},
   "source": [
    "# FUNctions"
   ]
  },
  {
   "cell_type": "code",
   "execution_count": 53,
   "id": "9b141e7f",
   "metadata": {},
   "outputs": [
    {
     "name": "stdout",
     "output_type": "stream",
     "text": [
      "Hello students!\n"
     ]
    }
   ],
   "source": [
    "def print_greeting():\n",
    "    print('Hello students!')\n",
    "    \n",
    "print_greeting()"
   ]
  },
  {
   "cell_type": "code",
   "execution_count": 60,
   "id": "201bf0b1",
   "metadata": {},
   "outputs": [
    {
     "name": "stdout",
     "output_type": "stream",
     "text": [
      "2021/8/13\n"
     ]
    }
   ],
   "source": [
    "def print_date(month, day , year):\n",
    "    joined = str(year) + '/' + str(month) +'/' + str(day)\n",
    "    print(joined)\n",
    "\n",
    "print_date(8,13,2021)"
   ]
  },
  {
   "cell_type": "code",
   "execution_count": 61,
   "id": "f25db67e",
   "metadata": {},
   "outputs": [],
   "source": [
    "def averages(values):\n",
    "    if len(values) == 0: \n",
    "        return None\n",
    "    return(sum(values)/len(values))"
   ]
  },
  {
   "cell_type": "code",
   "execution_count": 62,
   "id": "da0f4705",
   "metadata": {},
   "outputs": [
    {
     "data": {
      "text/plain": [
       "7.0"
      ]
     },
     "execution_count": 62,
     "metadata": {},
     "output_type": "execute_result"
    }
   ],
   "source": [
    "averages([5,6,7,10])"
   ]
  },
  {
   "cell_type": "code",
   "execution_count": 63,
   "id": "340cdb11",
   "metadata": {},
   "outputs": [
    {
     "ename": "TypeError",
     "evalue": "unsupported operand type(s) for +: 'int' and 'str'",
     "output_type": "error",
     "traceback": [
      "\u001b[0;31m---------------------------------------------------------------------------\u001b[0m",
      "\u001b[0;31mTypeError\u001b[0m                                 Traceback (most recent call last)",
      "\u001b[0;32m<ipython-input-63-624559abe31e>\u001b[0m in \u001b[0;36m<module>\u001b[0;34m\u001b[0m\n\u001b[0;32m----> 1\u001b[0;31m \u001b[0maverages\u001b[0m\u001b[0;34m(\u001b[0m\u001b[0;34m'hello'\u001b[0m\u001b[0;34m)\u001b[0m\u001b[0;34m\u001b[0m\u001b[0;34m\u001b[0m\u001b[0m\n\u001b[0m",
      "\u001b[0;32m<ipython-input-61-97af3c6a5d68>\u001b[0m in \u001b[0;36maverages\u001b[0;34m(values)\u001b[0m\n\u001b[1;32m      2\u001b[0m     \u001b[0;32mif\u001b[0m \u001b[0mlen\u001b[0m\u001b[0;34m(\u001b[0m\u001b[0mvalues\u001b[0m\u001b[0;34m)\u001b[0m \u001b[0;34m==\u001b[0m \u001b[0;36m0\u001b[0m\u001b[0;34m:\u001b[0m\u001b[0;34m\u001b[0m\u001b[0;34m\u001b[0m\u001b[0m\n\u001b[1;32m      3\u001b[0m         \u001b[0;32mreturn\u001b[0m \u001b[0;32mNone\u001b[0m\u001b[0;34m\u001b[0m\u001b[0;34m\u001b[0m\u001b[0m\n\u001b[0;32m----> 4\u001b[0;31m     \u001b[0;32mreturn\u001b[0m\u001b[0;34m(\u001b[0m\u001b[0msum\u001b[0m\u001b[0;34m(\u001b[0m\u001b[0mvalues\u001b[0m\u001b[0;34m)\u001b[0m\u001b[0;34m/\u001b[0m\u001b[0mlen\u001b[0m\u001b[0;34m(\u001b[0m\u001b[0mvalues\u001b[0m\u001b[0;34m)\u001b[0m\u001b[0;34m)\u001b[0m\u001b[0;34m\u001b[0m\u001b[0;34m\u001b[0m\u001b[0m\n\u001b[0m",
      "\u001b[0;31mTypeError\u001b[0m: unsupported operand type(s) for +: 'int' and 'str'"
     ]
    }
   ],
   "source": [
    "averages('hello')"
   ]
  },
  {
   "cell_type": "code",
   "execution_count": 64,
   "id": "10e84984",
   "metadata": {},
   "outputs": [],
   "source": [
    "def birthday_func(month, date):\n",
    "    print('My birthday is on the month of : '+ str(month))\n",
    "    print('My birthday is on the : ' + str(date))\n",
    "    "
   ]
  },
  {
   "cell_type": "code",
   "execution_count": 65,
   "id": "e73490f7",
   "metadata": {},
   "outputs": [
    {
     "name": "stdout",
     "output_type": "stream",
     "text": [
      "My birthday is on the month of : 7\n",
      "My birthday is on the : 14\n"
     ]
    }
   ],
   "source": [
    "birthday_func(7,14)"
   ]
  },
  {
   "cell_type": "code",
   "execution_count": 67,
   "id": "84ce814b",
   "metadata": {},
   "outputs": [
    {
     "name": "stdout",
     "output_type": "stream",
     "text": [
      "My birthday is on the month of : July\n",
      "My birthday is on the : 14\n"
     ]
    }
   ],
   "source": [
    "birthday_func('July', 14)"
   ]
  },
  {
   "cell_type": "code",
   "execution_count": 68,
   "id": "3264efe4",
   "metadata": {},
   "outputs": [
    {
     "name": "stdout",
     "output_type": "stream",
     "text": [
      "My birthday is on the month of : July\n",
      "My birthday is on the : 14\n"
     ]
    }
   ],
   "source": [
    "birthday_func('July', '14')"
   ]
  },
  {
   "cell_type": "code",
   "execution_count": 69,
   "id": "45d3b3f3",
   "metadata": {},
   "outputs": [
    {
     "name": "stdout",
     "output_type": "stream",
     "text": [
      "My birthday is on the month of : 7\n",
      "My birthday is on the : 14\n"
     ]
    }
   ],
   "source": [
    "birthday_func(7, '14')"
   ]
  },
  {
   "cell_type": "code",
   "execution_count": 26,
   "id": "00bf101e",
   "metadata": {},
   "outputs": [
    {
     "name": "stdout",
     "output_type": "stream",
     "text": [
      "-1\n",
      "None\n"
     ]
    }
   ],
   "source": [
    "def first_negative(values):\n",
    "    for v in values:\n",
    "        if v < 0:\n",
    "            return v\n",
    "\n",
    "print(first_negative([5, 6,-1, 9 , 10]))\n",
    "print(first_negative([]))"
   ]
  },
  {
   "cell_type": "code",
   "execution_count": 28,
   "id": "6269d298",
   "metadata": {},
   "outputs": [
    {
     "name": "stdout",
     "output_type": "stream",
     "text": [
      "-1\n"
     ]
    },
    {
     "ename": "AssertionError",
     "evalue": "",
     "output_type": "error",
     "traceback": [
      "\u001b[0;31m---------------------------------------------------------------------------\u001b[0m",
      "\u001b[0;31mAssertionError\u001b[0m                            Traceback (most recent call last)",
      "\u001b[0;32m/var/folders/q2/2v_9qp1s1n9635tlzjm697gc0000gr/T/ipykernel_80446/702084639.py\u001b[0m in \u001b[0;36m<module>\u001b[0;34m\u001b[0m\n\u001b[1;32m      9\u001b[0m \u001b[0mprint\u001b[0m\u001b[0;34m(\u001b[0m\u001b[0mresult\u001b[0m\u001b[0;34m)\u001b[0m  \u001b[0;31m# Output: -1\u001b[0m\u001b[0;34m\u001b[0m\u001b[0;34m\u001b[0m\u001b[0m\n\u001b[1;32m     10\u001b[0m \u001b[0;34m\u001b[0m\u001b[0m\n\u001b[0;32m---> 11\u001b[0;31m \u001b[0mresult\u001b[0m \u001b[0;34m=\u001b[0m \u001b[0mfirst_negative\u001b[0m\u001b[0;34m(\u001b[0m\u001b[0;34m[\u001b[0m\u001b[0;34m]\u001b[0m\u001b[0;34m)\u001b[0m  \u001b[0;31m# Raises an AssertionError since the input list is empty\u001b[0m\u001b[0;34m\u001b[0m\u001b[0;34m\u001b[0m\u001b[0m\n\u001b[0m",
      "\u001b[0;32m/var/folders/q2/2v_9qp1s1n9635tlzjm697gc0000gr/T/ipykernel_80446/702084639.py\u001b[0m in \u001b[0;36mfirst_negative\u001b[0;34m(values)\u001b[0m\n\u001b[1;32m      1\u001b[0m \u001b[0;32mdef\u001b[0m \u001b[0mfirst_negative\u001b[0m\u001b[0;34m(\u001b[0m\u001b[0mvalues\u001b[0m\u001b[0;34m)\u001b[0m\u001b[0;34m:\u001b[0m\u001b[0;34m\u001b[0m\u001b[0;34m\u001b[0m\u001b[0m\n\u001b[0;32m----> 2\u001b[0;31m     \u001b[0;32massert\u001b[0m \u001b[0mvalues\u001b[0m \u001b[0;34m!=\u001b[0m \u001b[0;34m[\u001b[0m\u001b[0;34m]\u001b[0m  \u001b[0;31m# Check if the input list is not empty\u001b[0m\u001b[0;34m\u001b[0m\u001b[0;34m\u001b[0m\u001b[0m\n\u001b[0m\u001b[1;32m      3\u001b[0m     \u001b[0;32mfor\u001b[0m \u001b[0mv\u001b[0m \u001b[0;32min\u001b[0m \u001b[0mvalues\u001b[0m\u001b[0;34m:\u001b[0m    \u001b[0;31m# Iterate through each element in the list\u001b[0m\u001b[0;34m\u001b[0m\u001b[0;34m\u001b[0m\u001b[0m\n\u001b[1;32m      4\u001b[0m         \u001b[0;32mif\u001b[0m \u001b[0mv\u001b[0m \u001b[0;34m<\u001b[0m \u001b[0;36m0\u001b[0m\u001b[0;34m:\u001b[0m       \u001b[0;31m# Check if the element is negative\u001b[0m\u001b[0;34m\u001b[0m\u001b[0;34m\u001b[0m\u001b[0m\n\u001b[1;32m      5\u001b[0m             \u001b[0;32mreturn\u001b[0m \u001b[0mv\u001b[0m    \u001b[0;31m# Return the first negative element\u001b[0m\u001b[0;34m\u001b[0m\u001b[0;34m\u001b[0m\u001b[0m\n",
      "\u001b[0;31mAssertionError\u001b[0m: "
     ]
    }
   ],
   "source": [
    "def first_negative(values):\n",
    "    assert values != []  # Check if the input list is not empty\n",
    "    for v in values:    # Iterate through each element in the list\n",
    "        if v < 0:       # Check if the element is negative\n",
    "            return v    # Return the first negative element\n",
    "\n",
    "# Example usage:\n",
    "result = first_negative([5, 6, -1, 9, 10])\n",
    "print(result)  # Output: -1\n",
    "\n",
    "result = first_negative([])  # Raises an AssertionError since the input list is empty\n"
   ]
  },
  {
   "cell_type": "code",
   "execution_count": 29,
   "id": "37860a93",
   "metadata": {},
   "outputs": [],
   "source": [
    "mylist = [] \n",
    "def first_negative(values):\n",
    "    for v in values:\n",
    "        if v >= 0:\n",
    "            print('I am in this if statement block')\n",
    "            continue\n",
    "        else:\n",
    "            mylist.append(v)\n",
    "            break\n",
    "            \n",
    "    if len(mylist) == 1 : \n",
    "        return mylist\n",
    "    else:\n",
    "        return'There are no negatives'\n",
    "    \n",
    "        "
   ]
  },
  {
   "cell_type": "code",
   "execution_count": 30,
   "id": "5ca9196b",
   "metadata": {},
   "outputs": [
    {
     "name": "stdout",
     "output_type": "stream",
     "text": [
      "I am in this if statement block\n",
      "I am in this if statement block\n",
      "I am in this if statement block\n",
      "I am in this if statement block\n"
     ]
    },
    {
     "data": {
      "text/plain": [
       "'There are no negatives'"
      ]
     },
     "execution_count": 30,
     "metadata": {},
     "output_type": "execute_result"
    }
   ],
   "source": [
    "first_negative([1,2,3,4])\n"
   ]
  },
  {
   "cell_type": "code",
   "execution_count": 89,
   "id": "26fc2177",
   "metadata": {},
   "outputs": [
    {
     "data": {
      "text/plain": [
       "[-5]"
      ]
     },
     "execution_count": 89,
     "metadata": {},
     "output_type": "execute_result"
    }
   ],
   "source": [
    "mylist"
   ]
  },
  {
   "cell_type": "markdown",
   "id": "27f26d97",
   "metadata": {},
   "source": [
    "## The point of (No) returns"
   ]
  },
  {
   "cell_type": "code",
   "execution_count": 101,
   "id": "743c6e2a",
   "metadata": {},
   "outputs": [
    {
     "name": "stdout",
     "output_type": "stream",
     "text": [
      "hello\n",
      "hello\n",
      "hello\n",
      "hello\n"
     ]
    }
   ],
   "source": [
    "def func_returns(): \n",
    "    print('hello')\n",
    "    print('hello')\n",
    "    print('hello')\n",
    "    print('hello')\n",
    "func_returns()"
   ]
  },
  {
   "cell_type": "code",
   "execution_count": null,
   "id": "018cde6f",
   "metadata": {},
   "outputs": [],
   "source": []
  },
  {
   "cell_type": "code",
   "execution_count": 109,
   "id": "87739e99",
   "metadata": {},
   "outputs": [],
   "source": [
    "def func_returns(a): \n",
    "    if(a <= 5):\n",
    "        return('hello')\n",
    "    if(a >= 10):\n",
    "        return('bye')\n",
    "\n",
    "func_returns()"
   ]
  },
  {
   "cell_type": "markdown",
   "id": "e8ee9038",
   "metadata": {},
   "source": [
    "## Local/Global variables"
   ]
  },
  {
   "cell_type": "code",
   "execution_count": 115,
   "id": "948ec5ff",
   "metadata": {},
   "outputs": [
    {
     "name": "stdout",
     "output_type": "stream",
     "text": [
      "15\n",
      "15\n"
     ]
    },
    {
     "ename": "NameError",
     "evalue": "name 'y' is not defined",
     "output_type": "error",
     "traceback": [
      "\u001b[0;31m---------------------------------------------------------------------------\u001b[0m",
      "\u001b[0;31mNameError\u001b[0m                                 Traceback (most recent call last)",
      "\u001b[0;32m<ipython-input-115-f115e8ead91e>\u001b[0m in \u001b[0;36m<module>\u001b[0;34m\u001b[0m\n\u001b[1;32m      6\u001b[0m \u001b[0;34m\u001b[0m\u001b[0m\n\u001b[1;32m      7\u001b[0m \u001b[0mprint\u001b[0m\u001b[0;34m(\u001b[0m\u001b[0mmath_ploy\u001b[0m\u001b[0;34m(\u001b[0m\u001b[0;36m5\u001b[0m\u001b[0;34m)\u001b[0m\u001b[0;34m)\u001b[0m\u001b[0;34m\u001b[0m\u001b[0;34m\u001b[0m\u001b[0m\n\u001b[0;32m----> 8\u001b[0;31m \u001b[0mprint\u001b[0m\u001b[0;34m(\u001b[0m\u001b[0my\u001b[0m\u001b[0;34m)\u001b[0m\u001b[0;34m\u001b[0m\u001b[0;34m\u001b[0m\u001b[0m\n\u001b[0m",
      "\u001b[0;31mNameError\u001b[0m: name 'y' is not defined"
     ]
    }
   ],
   "source": [
    "b = 10\n",
    "def math_ploy(x1):\n",
    "    y = x1 + b \n",
    "    print(y)\n",
    "    return y\n",
    "\n",
    "print(math_ploy(5))\n",
    "print(y)"
   ]
  },
  {
   "cell_type": "code",
   "execution_count": 129,
   "id": "1c03f351",
   "metadata": {},
   "outputs": [],
   "source": [
    "var = 5\n",
    "var2 =4\n",
    "\n",
    "def func_type1():\n",
    "    return 'hello'\n",
    "\n",
    "def func_type2(var):\n",
    "    print(var)\n",
    "\n",
    "def func_type3(cat = var, dog = var2):\n",
    "    print(cat -1)\n",
    "    print(dog -1)"
   ]
  },
  {
   "cell_type": "code",
   "execution_count": 119,
   "id": "bba9657b",
   "metadata": {},
   "outputs": [
    {
     "data": {
      "text/plain": [
       "'hello'"
      ]
     },
     "execution_count": 119,
     "metadata": {},
     "output_type": "execute_result"
    }
   ],
   "source": [
    "func_type1()"
   ]
  },
  {
   "cell_type": "code",
   "execution_count": 123,
   "id": "b25666f9",
   "metadata": {},
   "outputs": [
    {
     "name": "stdout",
     "output_type": "stream",
     "text": [
      "5\n"
     ]
    }
   ],
   "source": [
    "func_type2(5)"
   ]
  },
  {
   "cell_type": "code",
   "execution_count": 130,
   "id": "5306eda8",
   "metadata": {},
   "outputs": [
    {
     "name": "stdout",
     "output_type": "stream",
     "text": [
      "9\n",
      "5\n"
     ]
    }
   ],
   "source": [
    "func_type3(cat=10, dog = 6)"
   ]
  },
  {
   "cell_type": "code",
   "execution_count": 137,
   "id": "0f6bae80",
   "metadata": {},
   "outputs": [
    {
     "name": "stdout",
     "output_type": "stream",
     "text": [
      "5\n",
      "this is my nested function\n"
     ]
    }
   ],
   "source": [
    "def a():\n",
    "    return 5\n",
    "\n",
    "def b(y):\n",
    "    print('this is my nested function')\n",
    "    \n",
    "y = a()\n",
    "print(y)\n",
    "b(y)"
   ]
  },
  {
   "cell_type": "markdown",
   "id": "63b3b873",
   "metadata": {},
   "source": [
    "# --- in class code for python packages lesson --------------------"
   ]
  },
  {
   "cell_type": "markdown",
   "id": "480de278",
   "metadata": {},
   "source": [
    "## IMPORTS"
   ]
  },
  {
   "cell_type": "code",
   "execution_count": 1,
   "id": "734bdb55",
   "metadata": {},
   "outputs": [
    {
     "name": "stdout",
     "output_type": "stream",
     "text": [
      "pi is  3.141592653589793\n"
     ]
    }
   ],
   "source": [
    "import math \n",
    "print('pi is ', math.pi)"
   ]
  },
  {
   "cell_type": "code",
   "execution_count": 4,
   "id": "e4471466",
   "metadata": {},
   "outputs": [
    {
     "data": {
      "text/plain": [
       "-1.0"
      ]
     },
     "execution_count": 4,
     "metadata": {},
     "output_type": "execute_result"
    }
   ],
   "source": [
    "math.cos(math.pi)"
   ]
  },
  {
   "cell_type": "code",
   "execution_count": 5,
   "id": "2b1f7a07",
   "metadata": {},
   "outputs": [
    {
     "name": "stdout",
     "output_type": "stream",
     "text": [
      "-1.0\n"
     ]
    }
   ],
   "source": [
    "from math import cos, pi\n",
    "print(cos(pi))"
   ]
  },
  {
   "cell_type": "code",
   "execution_count": 6,
   "id": "fc412b8d",
   "metadata": {},
   "outputs": [
    {
     "data": {
      "text/plain": [
       "-1.0"
      ]
     },
     "execution_count": 6,
     "metadata": {},
     "output_type": "execute_result"
    }
   ],
   "source": [
    "math.cos(math.pi)"
   ]
  },
  {
   "cell_type": "code",
   "execution_count": 8,
   "id": "afd6ae9e",
   "metadata": {},
   "outputs": [
    {
     "ename": "NameError",
     "evalue": "name 'sin' is not defined",
     "output_type": "error",
     "traceback": [
      "\u001b[0;31m---------------------------------------------------------------------------\u001b[0m",
      "\u001b[0;31mNameError\u001b[0m                                 Traceback (most recent call last)",
      "\u001b[0;32m<ipython-input-8-25560f9ce61b>\u001b[0m in \u001b[0;36m<module>\u001b[0;34m\u001b[0m\n\u001b[0;32m----> 1\u001b[0;31m \u001b[0msin\u001b[0m\u001b[0;34m(\u001b[0m\u001b[0;34m)\u001b[0m\u001b[0;34m\u001b[0m\u001b[0;34m\u001b[0m\u001b[0m\n\u001b[0m",
      "\u001b[0;31mNameError\u001b[0m: name 'sin' is not defined"
     ]
    }
   ],
   "source": [
    "sin()"
   ]
  },
  {
   "cell_type": "code",
   "execution_count": 148,
   "id": "61573b80",
   "metadata": {},
   "outputs": [
    {
     "name": "stdout",
     "output_type": "stream",
     "text": [
      "-1.0\n"
     ]
    }
   ],
   "source": [
    "import math as m\n",
    "print(m.cos(m.pi))"
   ]
  },
  {
   "cell_type": "code",
   "execution_count": 9,
   "id": "88cfc07a",
   "metadata": {
    "scrolled": true
   },
   "outputs": [
    {
     "ename": "NameError",
     "evalue": "name 'sin' is not defined",
     "output_type": "error",
     "traceback": [
      "\u001b[0;31m---------------------------------------------------------------------------\u001b[0m",
      "\u001b[0;31mNameError\u001b[0m                                 Traceback (most recent call last)",
      "\u001b[0;32m<ipython-input-9-1de0726db8ae>\u001b[0m in \u001b[0;36m<module>\u001b[0;34m\u001b[0m\n\u001b[1;32m      1\u001b[0m \u001b[0;32mfrom\u001b[0m \u001b[0mmath\u001b[0m \u001b[0;32mimport\u001b[0m \u001b[0mcos\u001b[0m\u001b[0;34m,\u001b[0m \u001b[0mpi\u001b[0m\u001b[0;34m\u001b[0m\u001b[0;34m\u001b[0m\u001b[0m\n\u001b[1;32m      2\u001b[0m \u001b[0;34m\u001b[0m\u001b[0m\n\u001b[0;32m----> 3\u001b[0;31m \u001b[0msin\u001b[0m\u001b[0;34m(\u001b[0m\u001b[0mpi\u001b[0m\u001b[0;34m)\u001b[0m\u001b[0;34m\u001b[0m\u001b[0;34m\u001b[0m\u001b[0m\n\u001b[0m",
      "\u001b[0;31mNameError\u001b[0m: name 'sin' is not defined"
     ]
    }
   ],
   "source": [
    "from math import cos, pi\n",
    "\n",
    "sin(pi)"
   ]
  },
  {
   "cell_type": "code",
   "execution_count": 153,
   "id": "24bdffc3",
   "metadata": {},
   "outputs": [
    {
     "data": {
      "text/plain": [
       "1.2246467991473532e-16"
      ]
     },
     "execution_count": 153,
     "metadata": {},
     "output_type": "execute_result"
    }
   ],
   "source": [
    "sin(pi)"
   ]
  },
  {
   "cell_type": "markdown",
   "id": "3ae435ec",
   "metadata": {},
   "source": [
    "# NUMPY\n",
    "## Arrays and more arrays\n",
    "### Vectors"
   ]
  },
  {
   "cell_type": "code",
   "execution_count": 10,
   "id": "9d0acd9e",
   "metadata": {},
   "outputs": [],
   "source": [
    "import numpy as np"
   ]
  },
  {
   "cell_type": "code",
   "execution_count": 13,
   "id": "21317b3d",
   "metadata": {},
   "outputs": [
    {
     "name": "stdout",
     "output_type": "stream",
     "text": [
      "[1 2 3 4 5]\n"
     ]
    },
    {
     "data": {
      "text/plain": [
       "numpy.ndarray"
      ]
     },
     "execution_count": 13,
     "metadata": {},
     "output_type": "execute_result"
    }
   ],
   "source": [
    "a = np.array([1,2,3,4,5])\n",
    "print(a)\n",
    "type(a)"
   ]
  },
  {
   "cell_type": "code",
   "execution_count": 16,
   "id": "d3df3c85",
   "metadata": {},
   "outputs": [
    {
     "data": {
      "text/plain": [
       "numpy.ndarray"
      ]
     },
     "execution_count": 16,
     "metadata": {},
     "output_type": "execute_result"
    }
   ],
   "source": [
    "a = np.array([[1,2,3,4], [5,6,7,8], [9,10,11,12]])\n",
    "type(a)"
   ]
  },
  {
   "cell_type": "code",
   "execution_count": 20,
   "id": "6d51f6fd",
   "metadata": {},
   "outputs": [
    {
     "data": {
      "text/plain": [
       "array([ 1,  2,  3,  4,  5,  6,  7,  8,  9, 10])"
      ]
     },
     "execution_count": 20,
     "metadata": {},
     "output_type": "execute_result"
    }
   ],
   "source": [
    "#np.arange(start, stop, step)\n",
    "\n",
    "np.arange(1, 11, 1)"
   ]
  },
  {
   "cell_type": "code",
   "execution_count": 26,
   "id": "92e48233",
   "metadata": {},
   "outputs": [
    {
     "name": "stdout",
     "output_type": "stream",
     "text": [
      "[  0.    0.5   1.    1.5   2.    2.5   3.    3.5   4.    4.5   5.    5.5\n",
      "   6.    6.5   7.    7.5   8.    8.5   9.    9.5  10.   10.5  11.   11.5\n",
      "  12.   12.5  13.   13.5  14.   14.5  15.   15.5  16.   16.5  17.   17.5\n",
      "  18.   18.5  19.   19.5  20.   20.5  21.   21.5  22.   22.5  23.   23.5\n",
      "  24.   24.5  25.   25.5  26.   26.5  27.   27.5  28.   28.5  29.   29.5\n",
      "  30.   30.5  31.   31.5  32.   32.5  33.   33.5  34.   34.5  35.   35.5\n",
      "  36.   36.5  37.   37.5  38.   38.5  39.   39.5  40.   40.5  41.   41.5\n",
      "  42.   42.5  43.   43.5  44.   44.5  45.   45.5  46.   46.5  47.   47.5\n",
      "  48.   48.5  49.   49.5  50.   50.5  51.   51.5  52.   52.5  53.   53.5\n",
      "  54.   54.5  55.   55.5  56.   56.5  57.   57.5  58.   58.5  59.   59.5\n",
      "  60.   60.5  61.   61.5  62.   62.5  63.   63.5  64.   64.5  65.   65.5\n",
      "  66.   66.5  67.   67.5  68.   68.5  69.   69.5  70.   70.5  71.   71.5\n",
      "  72.   72.5  73.   73.5  74.   74.5  75.   75.5  76.   76.5  77.   77.5\n",
      "  78.   78.5  79.   79.5  80.   80.5  81.   81.5  82.   82.5  83.   83.5\n",
      "  84.   84.5  85.   85.5  86.   86.5  87.   87.5  88.   88.5  89.   89.5\n",
      "  90.   90.5  91.   91.5  92.   92.5  93.   93.5  94.   94.5  95.   95.5\n",
      "  96.   96.5  97.   97.5  98.   98.5  99.   99.5 100. ]\n"
     ]
    },
    {
     "data": {
      "text/plain": [
       "201"
      ]
     },
     "execution_count": 26,
     "metadata": {},
     "output_type": "execute_result"
    }
   ],
   "source": [
    "#np.linspace(start, stop, n_elements)\n",
    "start = 0 \n",
    "stop = 100 \n",
    "n_elements = 201\n",
    "x = np.linspace(start, stop, n_elements)\n",
    "print(x)\n",
    "len(x)"
   ]
  },
  {
   "cell_type": "code",
   "execution_count": 28,
   "id": "4d13ff9a",
   "metadata": {},
   "outputs": [
    {
     "name": "stdout",
     "output_type": "stream",
     "text": [
      "(array([  0,  10,  20,  30,  40,  50,  60,  70,  80,  90, 100, 110, 120,\n",
      "       130, 140, 150, 160, 170, 180, 190, 200]),)\n"
     ]
    },
    {
     "data": {
      "text/plain": [
       "tuple"
      ]
     },
     "execution_count": 28,
     "metadata": {},
     "output_type": "execute_result"
    }
   ],
   "source": [
    "x_5 = np.where(x %5 == 0)\n",
    "print(x_5)\n",
    "type(x_5)\n",
    "#will return the indeces where in the x array it is divisible by 5"
   ]
  },
  {
   "cell_type": "code",
   "execution_count": 27,
   "id": "10f18f17",
   "metadata": {},
   "outputs": [
    {
     "data": {
      "text/plain": [
       "array([  0.,   5.,  10.,  15.,  20.,  25.,  30.,  35.,  40.,  45.,  50.,\n",
       "        55.,  60.,  65.,  70.,  75.,  80.,  85.,  90.,  95., 100.])"
      ]
     },
     "execution_count": 27,
     "metadata": {},
     "output_type": "execute_result"
    }
   ],
   "source": [
    "x[x_5]"
   ]
  },
  {
   "cell_type": "code",
   "execution_count": 36,
   "id": "1610a917",
   "metadata": {},
   "outputs": [
    {
     "name": "stdout",
     "output_type": "stream",
     "text": [
      "x [  0.    0.2   0.4   0.6   0.8   1.    1.2   1.4   1.6   1.8   2.    2.2\n",
      "   2.4   2.6   2.8   3.    3.2   3.4   3.6   3.8   4.    4.2   4.4   4.6\n",
      "   4.8   5.    5.2   5.4   5.6   5.8   6.    6.2   6.4   6.6   6.8   7.\n",
      "   7.2   7.4   7.6   7.8   8.    8.2   8.4   8.6   8.8   9.    9.2   9.4\n",
      "   9.6   9.8  10.   10.2  10.4  10.6  10.8  11.   11.2  11.4  11.6  11.8\n",
      "  12.   12.2  12.4  12.6  12.8  13.   13.2  13.4  13.6  13.8  14.   14.2\n",
      "  14.4  14.6  14.8  15.   15.2  15.4  15.6  15.8  16.   16.2  16.4  16.6\n",
      "  16.8  17.   17.2  17.4  17.6  17.8  18.   18.2  18.4  18.6  18.8  19.\n",
      "  19.2  19.4  19.6  19.8  20.   20.2  20.4  20.6  20.8  21.   21.2  21.4\n",
      "  21.6  21.8  22.   22.2  22.4  22.6  22.8  23.   23.2  23.4  23.6  23.8\n",
      "  24.   24.2  24.4  24.6  24.8  25.   25.2  25.4  25.6  25.8  26.   26.2\n",
      "  26.4  26.6  26.8  27.   27.2  27.4  27.6  27.8  28.   28.2  28.4  28.6\n",
      "  28.8  29.   29.2  29.4  29.6  29.8  30.   30.2  30.4  30.6  30.8  31.\n",
      "  31.2  31.4  31.6  31.8  32.   32.2  32.4  32.6  32.8  33.   33.2  33.4\n",
      "  33.6  33.8  34.   34.2  34.4  34.6  34.8  35.   35.2  35.4  35.6  35.8\n",
      "  36.   36.2  36.4  36.6  36.8  37.   37.2  37.4  37.6  37.8  38.   38.2\n",
      "  38.4  38.6  38.8  39.   39.2  39.4  39.6  39.8  40.   40.2  40.4  40.6\n",
      "  40.8  41.   41.2  41.4  41.6  41.8  42.   42.2  42.4  42.6  42.8  43.\n",
      "  43.2  43.4  43.6  43.8  44.   44.2  44.4  44.6  44.8  45.   45.2  45.4\n",
      "  45.6  45.8  46.   46.2  46.4  46.6  46.8  47.   47.2  47.4  47.6  47.8\n",
      "  48.   48.2  48.4  48.6  48.8  49.   49.2  49.4  49.6  49.8  50.   50.2\n",
      "  50.4  50.6  50.8  51.   51.2  51.4  51.6  51.8  52.   52.2  52.4  52.6\n",
      "  52.8  53.   53.2  53.4  53.6  53.8  54.   54.2  54.4  54.6  54.8  55.\n",
      "  55.2  55.4  55.6  55.8  56.   56.2  56.4  56.6  56.8  57.   57.2  57.4\n",
      "  57.6  57.8  58.   58.2  58.4  58.6  58.8  59.   59.2  59.4  59.6  59.8\n",
      "  60.   60.2  60.4  60.6  60.8  61.   61.2  61.4  61.6  61.8  62.   62.2\n",
      "  62.4  62.6  62.8  63.   63.2  63.4  63.6  63.8  64.   64.2  64.4  64.6\n",
      "  64.8  65.   65.2  65.4  65.6  65.8  66.   66.2  66.4  66.6  66.8  67.\n",
      "  67.2  67.4  67.6  67.8  68.   68.2  68.4  68.6  68.8  69.   69.2  69.4\n",
      "  69.6  69.8  70.   70.2  70.4  70.6  70.8  71.   71.2  71.4  71.6  71.8\n",
      "  72.   72.2  72.4  72.6  72.8  73.   73.2  73.4  73.6  73.8  74.   74.2\n",
      "  74.4  74.6  74.8  75.   75.2  75.4  75.6  75.8  76.   76.2  76.4  76.6\n",
      "  76.8  77.   77.2  77.4  77.6  77.8  78.   78.2  78.4  78.6  78.8  79.\n",
      "  79.2  79.4  79.6  79.8  80.   80.2  80.4  80.6  80.8  81.   81.2  81.4\n",
      "  81.6  81.8  82.   82.2  82.4  82.6  82.8  83.   83.2  83.4  83.6  83.8\n",
      "  84.   84.2  84.4  84.6  84.8  85.   85.2  85.4  85.6  85.8  86.   86.2\n",
      "  86.4  86.6  86.8  87.   87.2  87.4  87.6  87.8  88.   88.2  88.4  88.6\n",
      "  88.8  89.   89.2  89.4  89.6  89.8  90.   90.2  90.4  90.6  90.8  91.\n",
      "  91.2  91.4  91.6  91.8  92.   92.2  92.4  92.6  92.8  93.   93.2  93.4\n",
      "  93.6  93.8  94.   94.2  94.4  94.6  94.8  95.   95.2  95.4  95.6  95.8\n",
      "  96.   96.2  96.4  96.6  96.8  97.   97.2  97.4  97.6  97.8  98.   98.2\n",
      "  98.4  98.6  98.8  99.   99.2  99.4  99.6  99.8 100. ]\n",
      "y [ 3.000000e+00  2.000400e+00  1.001600e+00  3.600000e-03 -9.936000e-01\n",
      " -1.990000e+00 -2.985600e+00 -3.980400e+00 -4.974400e+00 -5.967600e+00\n",
      " -6.960000e+00 -7.951600e+00 -8.942400e+00 -9.932400e+00 -1.092160e+01\n",
      " -1.191000e+01 -1.289760e+01 -1.388440e+01 -1.487040e+01 -1.585560e+01\n",
      " -1.684000e+01 -1.782360e+01 -1.880640e+01 -1.978840e+01 -2.076960e+01\n",
      " -2.175000e+01 -2.272960e+01 -2.370840e+01 -2.468640e+01 -2.566360e+01\n",
      " -2.664000e+01 -2.761560e+01 -2.859040e+01 -2.956440e+01 -3.053760e+01\n",
      " -3.151000e+01 -3.248160e+01 -3.345240e+01 -3.442240e+01 -3.539160e+01\n",
      " -3.636000e+01 -3.732760e+01 -3.829440e+01 -3.926040e+01 -4.022560e+01\n",
      " -4.119000e+01 -4.215360e+01 -4.311640e+01 -4.407840e+01 -4.503960e+01\n",
      " -4.600000e+01 -4.695960e+01 -4.791840e+01 -4.887640e+01 -4.983360e+01\n",
      " -5.079000e+01 -5.174560e+01 -5.270040e+01 -5.365440e+01 -5.460760e+01\n",
      " -5.556000e+01 -5.651160e+01 -5.746240e+01 -5.841240e+01 -5.936160e+01\n",
      " -6.031000e+01 -6.125760e+01 -6.220440e+01 -6.315040e+01 -6.409560e+01\n",
      " -6.504000e+01 -6.598360e+01 -6.692640e+01 -6.786840e+01 -6.880960e+01\n",
      " -6.975000e+01 -7.068960e+01 -7.162840e+01 -7.256640e+01 -7.350360e+01\n",
      " -7.444000e+01 -7.537560e+01 -7.631040e+01 -7.724440e+01 -7.817760e+01\n",
      " -7.911000e+01 -8.004160e+01 -8.097240e+01 -8.190240e+01 -8.283160e+01\n",
      " -8.376000e+01 -8.468760e+01 -8.561440e+01 -8.654040e+01 -8.746560e+01\n",
      " -8.839000e+01 -8.931360e+01 -9.023640e+01 -9.115840e+01 -9.207960e+01\n",
      " -9.300000e+01 -9.391960e+01 -9.483840e+01 -9.575640e+01 -9.667360e+01\n",
      " -9.759000e+01 -9.850560e+01 -9.942040e+01 -1.003344e+02 -1.012476e+02\n",
      " -1.021600e+02 -1.030716e+02 -1.039824e+02 -1.048924e+02 -1.058016e+02\n",
      " -1.067100e+02 -1.076176e+02 -1.085244e+02 -1.094304e+02 -1.103356e+02\n",
      " -1.112400e+02 -1.121436e+02 -1.130464e+02 -1.139484e+02 -1.148496e+02\n",
      " -1.157500e+02 -1.166496e+02 -1.175484e+02 -1.184464e+02 -1.193436e+02\n",
      " -1.202400e+02 -1.211356e+02 -1.220304e+02 -1.229244e+02 -1.238176e+02\n",
      " -1.247100e+02 -1.256016e+02 -1.264924e+02 -1.273824e+02 -1.282716e+02\n",
      " -1.291600e+02 -1.300476e+02 -1.309344e+02 -1.318204e+02 -1.327056e+02\n",
      " -1.335900e+02 -1.344736e+02 -1.353564e+02 -1.362384e+02 -1.371196e+02\n",
      " -1.380000e+02 -1.388796e+02 -1.397584e+02 -1.406364e+02 -1.415136e+02\n",
      " -1.423900e+02 -1.432656e+02 -1.441404e+02 -1.450144e+02 -1.458876e+02\n",
      " -1.467600e+02 -1.476316e+02 -1.485024e+02 -1.493724e+02 -1.502416e+02\n",
      " -1.511100e+02 -1.519776e+02 -1.528444e+02 -1.537104e+02 -1.545756e+02\n",
      " -1.554400e+02 -1.563036e+02 -1.571664e+02 -1.580284e+02 -1.588896e+02\n",
      " -1.597500e+02 -1.606096e+02 -1.614684e+02 -1.623264e+02 -1.631836e+02\n",
      " -1.640400e+02 -1.648956e+02 -1.657504e+02 -1.666044e+02 -1.674576e+02\n",
      " -1.683100e+02 -1.691616e+02 -1.700124e+02 -1.708624e+02 -1.717116e+02\n",
      " -1.725600e+02 -1.734076e+02 -1.742544e+02 -1.751004e+02 -1.759456e+02\n",
      " -1.767900e+02 -1.776336e+02 -1.784764e+02 -1.793184e+02 -1.801596e+02\n",
      " -1.810000e+02 -1.818396e+02 -1.826784e+02 -1.835164e+02 -1.843536e+02\n",
      " -1.851900e+02 -1.860256e+02 -1.868604e+02 -1.876944e+02 -1.885276e+02\n",
      " -1.893600e+02 -1.901916e+02 -1.910224e+02 -1.918524e+02 -1.926816e+02\n",
      " -1.935100e+02 -1.943376e+02 -1.951644e+02 -1.959904e+02 -1.968156e+02\n",
      " -1.976400e+02 -1.984636e+02 -1.992864e+02 -2.001084e+02 -2.009296e+02\n",
      " -2.017500e+02 -2.025696e+02 -2.033884e+02 -2.042064e+02 -2.050236e+02\n",
      " -2.058400e+02 -2.066556e+02 -2.074704e+02 -2.082844e+02 -2.090976e+02\n",
      " -2.099100e+02 -2.107216e+02 -2.115324e+02 -2.123424e+02 -2.131516e+02\n",
      " -2.139600e+02 -2.147676e+02 -2.155744e+02 -2.163804e+02 -2.171856e+02\n",
      " -2.179900e+02 -2.187936e+02 -2.195964e+02 -2.203984e+02 -2.211996e+02\n",
      " -2.220000e+02 -2.227996e+02 -2.235984e+02 -2.243964e+02 -2.251936e+02\n",
      " -2.259900e+02 -2.267856e+02 -2.275804e+02 -2.283744e+02 -2.291676e+02\n",
      " -2.299600e+02 -2.307516e+02 -2.315424e+02 -2.323324e+02 -2.331216e+02\n",
      " -2.339100e+02 -2.346976e+02 -2.354844e+02 -2.362704e+02 -2.370556e+02\n",
      " -2.378400e+02 -2.386236e+02 -2.394064e+02 -2.401884e+02 -2.409696e+02\n",
      " -2.417500e+02 -2.425296e+02 -2.433084e+02 -2.440864e+02 -2.448636e+02\n",
      " -2.456400e+02 -2.464156e+02 -2.471904e+02 -2.479644e+02 -2.487376e+02\n",
      " -2.495100e+02 -2.502816e+02 -2.510524e+02 -2.518224e+02 -2.525916e+02\n",
      " -2.533600e+02 -2.541276e+02 -2.548944e+02 -2.556604e+02 -2.564256e+02\n",
      " -2.571900e+02 -2.579536e+02 -2.587164e+02 -2.594784e+02 -2.602396e+02\n",
      " -2.610000e+02 -2.617596e+02 -2.625184e+02 -2.632764e+02 -2.640336e+02\n",
      " -2.647900e+02 -2.655456e+02 -2.663004e+02 -2.670544e+02 -2.678076e+02\n",
      " -2.685600e+02 -2.693116e+02 -2.700624e+02 -2.708124e+02 -2.715616e+02\n",
      " -2.723100e+02 -2.730576e+02 -2.738044e+02 -2.745504e+02 -2.752956e+02\n",
      " -2.760400e+02 -2.767836e+02 -2.775264e+02 -2.782684e+02 -2.790096e+02\n",
      " -2.797500e+02 -2.804896e+02 -2.812284e+02 -2.819664e+02 -2.827036e+02\n",
      " -2.834400e+02 -2.841756e+02 -2.849104e+02 -2.856444e+02 -2.863776e+02\n",
      " -2.871100e+02 -2.878416e+02 -2.885724e+02 -2.893024e+02 -2.900316e+02\n",
      " -2.907600e+02 -2.914876e+02 -2.922144e+02 -2.929404e+02 -2.936656e+02\n",
      " -2.943900e+02 -2.951136e+02 -2.958364e+02 -2.965584e+02 -2.972796e+02\n",
      " -2.980000e+02 -2.987196e+02 -2.994384e+02 -3.001564e+02 -3.008736e+02\n",
      " -3.015900e+02 -3.023056e+02 -3.030204e+02 -3.037344e+02 -3.044476e+02\n",
      " -3.051600e+02 -3.058716e+02 -3.065824e+02 -3.072924e+02 -3.080016e+02\n",
      " -3.087100e+02 -3.094176e+02 -3.101244e+02 -3.108304e+02 -3.115356e+02\n",
      " -3.122400e+02 -3.129436e+02 -3.136464e+02 -3.143484e+02 -3.150496e+02\n",
      " -3.157500e+02 -3.164496e+02 -3.171484e+02 -3.178464e+02 -3.185436e+02\n",
      " -3.192400e+02 -3.199356e+02 -3.206304e+02 -3.213244e+02 -3.220176e+02\n",
      " -3.227100e+02 -3.234016e+02 -3.240924e+02 -3.247824e+02 -3.254716e+02\n",
      " -3.261600e+02 -3.268476e+02 -3.275344e+02 -3.282204e+02 -3.289056e+02\n",
      " -3.295900e+02 -3.302736e+02 -3.309564e+02 -3.316384e+02 -3.323196e+02\n",
      " -3.330000e+02 -3.336796e+02 -3.343584e+02 -3.350364e+02 -3.357136e+02\n",
      " -3.363900e+02 -3.370656e+02 -3.377404e+02 -3.384144e+02 -3.390876e+02\n",
      " -3.397600e+02 -3.404316e+02 -3.411024e+02 -3.417724e+02 -3.424416e+02\n",
      " -3.431100e+02 -3.437776e+02 -3.444444e+02 -3.451104e+02 -3.457756e+02\n",
      " -3.464400e+02 -3.471036e+02 -3.477664e+02 -3.484284e+02 -3.490896e+02\n",
      " -3.497500e+02 -3.504096e+02 -3.510684e+02 -3.517264e+02 -3.523836e+02\n",
      " -3.530400e+02 -3.536956e+02 -3.543504e+02 -3.550044e+02 -3.556576e+02\n",
      " -3.563100e+02 -3.569616e+02 -3.576124e+02 -3.582624e+02 -3.589116e+02\n",
      " -3.595600e+02 -3.602076e+02 -3.608544e+02 -3.615004e+02 -3.621456e+02\n",
      " -3.627900e+02 -3.634336e+02 -3.640764e+02 -3.647184e+02 -3.653596e+02\n",
      " -3.660000e+02 -3.666396e+02 -3.672784e+02 -3.679164e+02 -3.685536e+02\n",
      " -3.691900e+02 -3.698256e+02 -3.704604e+02 -3.710944e+02 -3.717276e+02\n",
      " -3.723600e+02 -3.729916e+02 -3.736224e+02 -3.742524e+02 -3.748816e+02\n",
      " -3.755100e+02 -3.761376e+02 -3.767644e+02 -3.773904e+02 -3.780156e+02\n",
      " -3.786400e+02 -3.792636e+02 -3.798864e+02 -3.805084e+02 -3.811296e+02\n",
      " -3.817500e+02 -3.823696e+02 -3.829884e+02 -3.836064e+02 -3.842236e+02\n",
      " -3.848400e+02 -3.854556e+02 -3.860704e+02 -3.866844e+02 -3.872976e+02\n",
      " -3.879100e+02 -3.885216e+02 -3.891324e+02 -3.897424e+02 -3.903516e+02\n",
      " -3.909600e+02 -3.915676e+02 -3.921744e+02 -3.927804e+02 -3.933856e+02\n",
      " -3.939900e+02 -3.945936e+02 -3.951964e+02 -3.957984e+02 -3.963996e+02\n",
      " -3.970000e+02]\n"
     ]
    }
   ],
   "source": [
    "start =0 \n",
    "end = 100\n",
    "n_elem = 501\n",
    "\n",
    "x = np.linspace(start, end, n_elem)\n",
    "print('x', x)\n",
    "y = (.1*x)**2 - (5*x) + 3 \n",
    "print('y', y)\n",
    "\n",
    "np.savetxt('my_text_file.txt', np.transpose([x,y]))\n",
    "\n",
    "\n"
   ]
  },
  {
   "cell_type": "code",
   "execution_count": 115,
   "id": "1d4a7ab5",
   "metadata": {
    "scrolled": false
   },
   "outputs": [
    {
     "data": {
      "text/plain": [
       "'/Users/carrile/Downloads'"
      ]
     },
     "execution_count": 115,
     "metadata": {},
     "output_type": "execute_result"
    }
   ],
   "source": [
    "pwd"
   ]
  },
  {
   "cell_type": "code",
   "execution_count": 37,
   "id": "2d2b58d2",
   "metadata": {},
   "outputs": [
    {
     "name": "stdout",
     "output_type": "stream",
     "text": [
      "[[ 0.000000e+00  3.000000e+00]\n",
      " [ 2.000000e-01  2.000400e+00]\n",
      " [ 4.000000e-01  1.001600e+00]\n",
      " ...\n",
      " [ 9.960000e+01 -3.957984e+02]\n",
      " [ 9.980000e+01 -3.963996e+02]\n",
      " [ 1.000000e+02 -3.970000e+02]]\n"
     ]
    }
   ],
   "source": [
    "data = np.loadtxt('my_text_file.txt')\n",
    "#data = np.loadtxt('..\\my_text_file.txt') # For windows path \n",
    "\n",
    "\n",
    "print(data)"
   ]
  },
  {
   "cell_type": "code",
   "execution_count": 38,
   "id": "ea13640a",
   "metadata": {},
   "outputs": [
    {
     "name": "stdout",
     "output_type": "stream",
     "text": [
      "0.000000000000000000e+00 3.000000000000000000e+00\r\n",
      "2.000000000000000111e-01 2.000399999999999956e+00\r\n",
      "4.000000000000000222e-01 1.001600000000000046e+00\r\n",
      "6.000000000000000888e-01 3.599999999999603517e-03\r\n",
      "8.000000000000000444e-01 -9.935999999999998167e-01\r\n",
      "1.000000000000000000e+00 -1.990000000000000213e+00\r\n",
      "1.200000000000000178e+00 -2.985600000000000698e+00\r\n",
      "1.400000000000000133e+00 -3.980400000000001270e+00\r\n",
      "1.600000000000000089e+00 -4.974400000000000155e+00\r\n",
      "1.800000000000000044e+00 -5.967599999999999127e+00\r\n"
     ]
    }
   ],
   "source": [
    "!head my_text_file.txt"
   ]
  },
  {
   "cell_type": "code",
   "execution_count": 39,
   "id": "670da499",
   "metadata": {},
   "outputs": [
    {
     "data": {
      "text/plain": [
       "array([0., 3.])"
      ]
     },
     "execution_count": 39,
     "metadata": {},
     "output_type": "execute_result"
    }
   ],
   "source": [
    "data[0]"
   ]
  },
  {
   "cell_type": "code",
   "execution_count": 38,
   "id": "4830d128",
   "metadata": {},
   "outputs": [
    {
     "data": {
      "text/plain": [
       "array([  0. ,   0.2,   0.4,   0.6,   0.8,   1. ,   1.2,   1.4,   1.6,\n",
       "         1.8,   2. ,   2.2,   2.4,   2.6,   2.8,   3. ,   3.2,   3.4,\n",
       "         3.6,   3.8,   4. ,   4.2,   4.4,   4.6,   4.8,   5. ,   5.2,\n",
       "         5.4,   5.6,   5.8,   6. ,   6.2,   6.4,   6.6,   6.8,   7. ,\n",
       "         7.2,   7.4,   7.6,   7.8,   8. ,   8.2,   8.4,   8.6,   8.8,\n",
       "         9. ,   9.2,   9.4,   9.6,   9.8,  10. ,  10.2,  10.4,  10.6,\n",
       "        10.8,  11. ,  11.2,  11.4,  11.6,  11.8,  12. ,  12.2,  12.4,\n",
       "        12.6,  12.8,  13. ,  13.2,  13.4,  13.6,  13.8,  14. ,  14.2,\n",
       "        14.4,  14.6,  14.8,  15. ,  15.2,  15.4,  15.6,  15.8,  16. ,\n",
       "        16.2,  16.4,  16.6,  16.8,  17. ,  17.2,  17.4,  17.6,  17.8,\n",
       "        18. ,  18.2,  18.4,  18.6,  18.8,  19. ,  19.2,  19.4,  19.6,\n",
       "        19.8,  20. ,  20.2,  20.4,  20.6,  20.8,  21. ,  21.2,  21.4,\n",
       "        21.6,  21.8,  22. ,  22.2,  22.4,  22.6,  22.8,  23. ,  23.2,\n",
       "        23.4,  23.6,  23.8,  24. ,  24.2,  24.4,  24.6,  24.8,  25. ,\n",
       "        25.2,  25.4,  25.6,  25.8,  26. ,  26.2,  26.4,  26.6,  26.8,\n",
       "        27. ,  27.2,  27.4,  27.6,  27.8,  28. ,  28.2,  28.4,  28.6,\n",
       "        28.8,  29. ,  29.2,  29.4,  29.6,  29.8,  30. ,  30.2,  30.4,\n",
       "        30.6,  30.8,  31. ,  31.2,  31.4,  31.6,  31.8,  32. ,  32.2,\n",
       "        32.4,  32.6,  32.8,  33. ,  33.2,  33.4,  33.6,  33.8,  34. ,\n",
       "        34.2,  34.4,  34.6,  34.8,  35. ,  35.2,  35.4,  35.6,  35.8,\n",
       "        36. ,  36.2,  36.4,  36.6,  36.8,  37. ,  37.2,  37.4,  37.6,\n",
       "        37.8,  38. ,  38.2,  38.4,  38.6,  38.8,  39. ,  39.2,  39.4,\n",
       "        39.6,  39.8,  40. ,  40.2,  40.4,  40.6,  40.8,  41. ,  41.2,\n",
       "        41.4,  41.6,  41.8,  42. ,  42.2,  42.4,  42.6,  42.8,  43. ,\n",
       "        43.2,  43.4,  43.6,  43.8,  44. ,  44.2,  44.4,  44.6,  44.8,\n",
       "        45. ,  45.2,  45.4,  45.6,  45.8,  46. ,  46.2,  46.4,  46.6,\n",
       "        46.8,  47. ,  47.2,  47.4,  47.6,  47.8,  48. ,  48.2,  48.4,\n",
       "        48.6,  48.8,  49. ,  49.2,  49.4,  49.6,  49.8,  50. ,  50.2,\n",
       "        50.4,  50.6,  50.8,  51. ,  51.2,  51.4,  51.6,  51.8,  52. ,\n",
       "        52.2,  52.4,  52.6,  52.8,  53. ,  53.2,  53.4,  53.6,  53.8,\n",
       "        54. ,  54.2,  54.4,  54.6,  54.8,  55. ,  55.2,  55.4,  55.6,\n",
       "        55.8,  56. ,  56.2,  56.4,  56.6,  56.8,  57. ,  57.2,  57.4,\n",
       "        57.6,  57.8,  58. ,  58.2,  58.4,  58.6,  58.8,  59. ,  59.2,\n",
       "        59.4,  59.6,  59.8,  60. ,  60.2,  60.4,  60.6,  60.8,  61. ,\n",
       "        61.2,  61.4,  61.6,  61.8,  62. ,  62.2,  62.4,  62.6,  62.8,\n",
       "        63. ,  63.2,  63.4,  63.6,  63.8,  64. ,  64.2,  64.4,  64.6,\n",
       "        64.8,  65. ,  65.2,  65.4,  65.6,  65.8,  66. ,  66.2,  66.4,\n",
       "        66.6,  66.8,  67. ,  67.2,  67.4,  67.6,  67.8,  68. ,  68.2,\n",
       "        68.4,  68.6,  68.8,  69. ,  69.2,  69.4,  69.6,  69.8,  70. ,\n",
       "        70.2,  70.4,  70.6,  70.8,  71. ,  71.2,  71.4,  71.6,  71.8,\n",
       "        72. ,  72.2,  72.4,  72.6,  72.8,  73. ,  73.2,  73.4,  73.6,\n",
       "        73.8,  74. ,  74.2,  74.4,  74.6,  74.8,  75. ,  75.2,  75.4,\n",
       "        75.6,  75.8,  76. ,  76.2,  76.4,  76.6,  76.8,  77. ,  77.2,\n",
       "        77.4,  77.6,  77.8,  78. ,  78.2,  78.4,  78.6,  78.8,  79. ,\n",
       "        79.2,  79.4,  79.6,  79.8,  80. ,  80.2,  80.4,  80.6,  80.8,\n",
       "        81. ,  81.2,  81.4,  81.6,  81.8,  82. ,  82.2,  82.4,  82.6,\n",
       "        82.8,  83. ,  83.2,  83.4,  83.6,  83.8,  84. ,  84.2,  84.4,\n",
       "        84.6,  84.8,  85. ,  85.2,  85.4,  85.6,  85.8,  86. ,  86.2,\n",
       "        86.4,  86.6,  86.8,  87. ,  87.2,  87.4,  87.6,  87.8,  88. ,\n",
       "        88.2,  88.4,  88.6,  88.8,  89. ,  89.2,  89.4,  89.6,  89.8,\n",
       "        90. ,  90.2,  90.4,  90.6,  90.8,  91. ,  91.2,  91.4,  91.6,\n",
       "        91.8,  92. ,  92.2,  92.4,  92.6,  92.8,  93. ,  93.2,  93.4,\n",
       "        93.6,  93.8,  94. ,  94.2,  94.4,  94.6,  94.8,  95. ,  95.2,\n",
       "        95.4,  95.6,  95.8,  96. ,  96.2,  96.4,  96.6,  96.8,  97. ,\n",
       "        97.2,  97.4,  97.6,  97.8,  98. ,  98.2,  98.4,  98.6,  98.8,\n",
       "        99. ,  99.2,  99.4,  99.6,  99.8, 100. ])"
      ]
     },
     "execution_count": 38,
     "metadata": {},
     "output_type": "execute_result"
    }
   ],
   "source": [
    "#All rows, first column\n",
    "data[:,0] "
   ]
  },
  {
   "cell_type": "code",
   "execution_count": 40,
   "id": "a8eab99b",
   "metadata": {},
   "outputs": [
    {
     "data": {
      "text/plain": [
       "array([ 3.000000e+00,  2.000400e+00,  1.001600e+00,  3.600000e-03,\n",
       "       -9.936000e-01, -1.990000e+00, -2.985600e+00, -3.980400e+00,\n",
       "       -4.974400e+00, -5.967600e+00, -6.960000e+00, -7.951600e+00,\n",
       "       -8.942400e+00, -9.932400e+00, -1.092160e+01, -1.191000e+01,\n",
       "       -1.289760e+01, -1.388440e+01, -1.487040e+01, -1.585560e+01,\n",
       "       -1.684000e+01, -1.782360e+01, -1.880640e+01, -1.978840e+01,\n",
       "       -2.076960e+01, -2.175000e+01, -2.272960e+01, -2.370840e+01,\n",
       "       -2.468640e+01, -2.566360e+01, -2.664000e+01, -2.761560e+01,\n",
       "       -2.859040e+01, -2.956440e+01, -3.053760e+01, -3.151000e+01,\n",
       "       -3.248160e+01, -3.345240e+01, -3.442240e+01, -3.539160e+01,\n",
       "       -3.636000e+01, -3.732760e+01, -3.829440e+01, -3.926040e+01,\n",
       "       -4.022560e+01, -4.119000e+01, -4.215360e+01, -4.311640e+01,\n",
       "       -4.407840e+01, -4.503960e+01, -4.600000e+01, -4.695960e+01,\n",
       "       -4.791840e+01, -4.887640e+01, -4.983360e+01, -5.079000e+01,\n",
       "       -5.174560e+01, -5.270040e+01, -5.365440e+01, -5.460760e+01,\n",
       "       -5.556000e+01, -5.651160e+01, -5.746240e+01, -5.841240e+01,\n",
       "       -5.936160e+01, -6.031000e+01, -6.125760e+01, -6.220440e+01,\n",
       "       -6.315040e+01, -6.409560e+01, -6.504000e+01, -6.598360e+01,\n",
       "       -6.692640e+01, -6.786840e+01, -6.880960e+01, -6.975000e+01,\n",
       "       -7.068960e+01, -7.162840e+01, -7.256640e+01, -7.350360e+01,\n",
       "       -7.444000e+01, -7.537560e+01, -7.631040e+01, -7.724440e+01,\n",
       "       -7.817760e+01, -7.911000e+01, -8.004160e+01, -8.097240e+01,\n",
       "       -8.190240e+01, -8.283160e+01, -8.376000e+01, -8.468760e+01,\n",
       "       -8.561440e+01, -8.654040e+01, -8.746560e+01, -8.839000e+01,\n",
       "       -8.931360e+01, -9.023640e+01, -9.115840e+01, -9.207960e+01,\n",
       "       -9.300000e+01, -9.391960e+01, -9.483840e+01, -9.575640e+01,\n",
       "       -9.667360e+01, -9.759000e+01, -9.850560e+01, -9.942040e+01,\n",
       "       -1.003344e+02, -1.012476e+02, -1.021600e+02, -1.030716e+02,\n",
       "       -1.039824e+02, -1.048924e+02, -1.058016e+02, -1.067100e+02,\n",
       "       -1.076176e+02, -1.085244e+02, -1.094304e+02, -1.103356e+02,\n",
       "       -1.112400e+02, -1.121436e+02, -1.130464e+02, -1.139484e+02,\n",
       "       -1.148496e+02, -1.157500e+02, -1.166496e+02, -1.175484e+02,\n",
       "       -1.184464e+02, -1.193436e+02, -1.202400e+02, -1.211356e+02,\n",
       "       -1.220304e+02, -1.229244e+02, -1.238176e+02, -1.247100e+02,\n",
       "       -1.256016e+02, -1.264924e+02, -1.273824e+02, -1.282716e+02,\n",
       "       -1.291600e+02, -1.300476e+02, -1.309344e+02, -1.318204e+02,\n",
       "       -1.327056e+02, -1.335900e+02, -1.344736e+02, -1.353564e+02,\n",
       "       -1.362384e+02, -1.371196e+02, -1.380000e+02, -1.388796e+02,\n",
       "       -1.397584e+02, -1.406364e+02, -1.415136e+02, -1.423900e+02,\n",
       "       -1.432656e+02, -1.441404e+02, -1.450144e+02, -1.458876e+02,\n",
       "       -1.467600e+02, -1.476316e+02, -1.485024e+02, -1.493724e+02,\n",
       "       -1.502416e+02, -1.511100e+02, -1.519776e+02, -1.528444e+02,\n",
       "       -1.537104e+02, -1.545756e+02, -1.554400e+02, -1.563036e+02,\n",
       "       -1.571664e+02, -1.580284e+02, -1.588896e+02, -1.597500e+02,\n",
       "       -1.606096e+02, -1.614684e+02, -1.623264e+02, -1.631836e+02,\n",
       "       -1.640400e+02, -1.648956e+02, -1.657504e+02, -1.666044e+02,\n",
       "       -1.674576e+02, -1.683100e+02, -1.691616e+02, -1.700124e+02,\n",
       "       -1.708624e+02, -1.717116e+02, -1.725600e+02, -1.734076e+02,\n",
       "       -1.742544e+02, -1.751004e+02, -1.759456e+02, -1.767900e+02,\n",
       "       -1.776336e+02, -1.784764e+02, -1.793184e+02, -1.801596e+02,\n",
       "       -1.810000e+02, -1.818396e+02, -1.826784e+02, -1.835164e+02,\n",
       "       -1.843536e+02, -1.851900e+02, -1.860256e+02, -1.868604e+02,\n",
       "       -1.876944e+02, -1.885276e+02, -1.893600e+02, -1.901916e+02,\n",
       "       -1.910224e+02, -1.918524e+02, -1.926816e+02, -1.935100e+02,\n",
       "       -1.943376e+02, -1.951644e+02, -1.959904e+02, -1.968156e+02,\n",
       "       -1.976400e+02, -1.984636e+02, -1.992864e+02, -2.001084e+02,\n",
       "       -2.009296e+02, -2.017500e+02, -2.025696e+02, -2.033884e+02,\n",
       "       -2.042064e+02, -2.050236e+02, -2.058400e+02, -2.066556e+02,\n",
       "       -2.074704e+02, -2.082844e+02, -2.090976e+02, -2.099100e+02,\n",
       "       -2.107216e+02, -2.115324e+02, -2.123424e+02, -2.131516e+02,\n",
       "       -2.139600e+02, -2.147676e+02, -2.155744e+02, -2.163804e+02,\n",
       "       -2.171856e+02, -2.179900e+02, -2.187936e+02, -2.195964e+02,\n",
       "       -2.203984e+02, -2.211996e+02, -2.220000e+02, -2.227996e+02,\n",
       "       -2.235984e+02, -2.243964e+02, -2.251936e+02, -2.259900e+02,\n",
       "       -2.267856e+02, -2.275804e+02, -2.283744e+02, -2.291676e+02,\n",
       "       -2.299600e+02, -2.307516e+02, -2.315424e+02, -2.323324e+02,\n",
       "       -2.331216e+02, -2.339100e+02, -2.346976e+02, -2.354844e+02,\n",
       "       -2.362704e+02, -2.370556e+02, -2.378400e+02, -2.386236e+02,\n",
       "       -2.394064e+02, -2.401884e+02, -2.409696e+02, -2.417500e+02,\n",
       "       -2.425296e+02, -2.433084e+02, -2.440864e+02, -2.448636e+02,\n",
       "       -2.456400e+02, -2.464156e+02, -2.471904e+02, -2.479644e+02,\n",
       "       -2.487376e+02, -2.495100e+02, -2.502816e+02, -2.510524e+02,\n",
       "       -2.518224e+02, -2.525916e+02, -2.533600e+02, -2.541276e+02,\n",
       "       -2.548944e+02, -2.556604e+02, -2.564256e+02, -2.571900e+02,\n",
       "       -2.579536e+02, -2.587164e+02, -2.594784e+02, -2.602396e+02,\n",
       "       -2.610000e+02, -2.617596e+02, -2.625184e+02, -2.632764e+02,\n",
       "       -2.640336e+02, -2.647900e+02, -2.655456e+02, -2.663004e+02,\n",
       "       -2.670544e+02, -2.678076e+02, -2.685600e+02, -2.693116e+02,\n",
       "       -2.700624e+02, -2.708124e+02, -2.715616e+02, -2.723100e+02,\n",
       "       -2.730576e+02, -2.738044e+02, -2.745504e+02, -2.752956e+02,\n",
       "       -2.760400e+02, -2.767836e+02, -2.775264e+02, -2.782684e+02,\n",
       "       -2.790096e+02, -2.797500e+02, -2.804896e+02, -2.812284e+02,\n",
       "       -2.819664e+02, -2.827036e+02, -2.834400e+02, -2.841756e+02,\n",
       "       -2.849104e+02, -2.856444e+02, -2.863776e+02, -2.871100e+02,\n",
       "       -2.878416e+02, -2.885724e+02, -2.893024e+02, -2.900316e+02,\n",
       "       -2.907600e+02, -2.914876e+02, -2.922144e+02, -2.929404e+02,\n",
       "       -2.936656e+02, -2.943900e+02, -2.951136e+02, -2.958364e+02,\n",
       "       -2.965584e+02, -2.972796e+02, -2.980000e+02, -2.987196e+02,\n",
       "       -2.994384e+02, -3.001564e+02, -3.008736e+02, -3.015900e+02,\n",
       "       -3.023056e+02, -3.030204e+02, -3.037344e+02, -3.044476e+02,\n",
       "       -3.051600e+02, -3.058716e+02, -3.065824e+02, -3.072924e+02,\n",
       "       -3.080016e+02, -3.087100e+02, -3.094176e+02, -3.101244e+02,\n",
       "       -3.108304e+02, -3.115356e+02, -3.122400e+02, -3.129436e+02,\n",
       "       -3.136464e+02, -3.143484e+02, -3.150496e+02, -3.157500e+02,\n",
       "       -3.164496e+02, -3.171484e+02, -3.178464e+02, -3.185436e+02,\n",
       "       -3.192400e+02, -3.199356e+02, -3.206304e+02, -3.213244e+02,\n",
       "       -3.220176e+02, -3.227100e+02, -3.234016e+02, -3.240924e+02,\n",
       "       -3.247824e+02, -3.254716e+02, -3.261600e+02, -3.268476e+02,\n",
       "       -3.275344e+02, -3.282204e+02, -3.289056e+02, -3.295900e+02,\n",
       "       -3.302736e+02, -3.309564e+02, -3.316384e+02, -3.323196e+02,\n",
       "       -3.330000e+02, -3.336796e+02, -3.343584e+02, -3.350364e+02,\n",
       "       -3.357136e+02, -3.363900e+02, -3.370656e+02, -3.377404e+02,\n",
       "       -3.384144e+02, -3.390876e+02, -3.397600e+02, -3.404316e+02,\n",
       "       -3.411024e+02, -3.417724e+02, -3.424416e+02, -3.431100e+02,\n",
       "       -3.437776e+02, -3.444444e+02, -3.451104e+02, -3.457756e+02,\n",
       "       -3.464400e+02, -3.471036e+02, -3.477664e+02, -3.484284e+02,\n",
       "       -3.490896e+02, -3.497500e+02, -3.504096e+02, -3.510684e+02,\n",
       "       -3.517264e+02, -3.523836e+02, -3.530400e+02, -3.536956e+02,\n",
       "       -3.543504e+02, -3.550044e+02, -3.556576e+02, -3.563100e+02,\n",
       "       -3.569616e+02, -3.576124e+02, -3.582624e+02, -3.589116e+02,\n",
       "       -3.595600e+02, -3.602076e+02, -3.608544e+02, -3.615004e+02,\n",
       "       -3.621456e+02, -3.627900e+02, -3.634336e+02, -3.640764e+02,\n",
       "       -3.647184e+02, -3.653596e+02, -3.660000e+02, -3.666396e+02,\n",
       "       -3.672784e+02, -3.679164e+02, -3.685536e+02, -3.691900e+02,\n",
       "       -3.698256e+02, -3.704604e+02, -3.710944e+02, -3.717276e+02,\n",
       "       -3.723600e+02, -3.729916e+02, -3.736224e+02, -3.742524e+02,\n",
       "       -3.748816e+02, -3.755100e+02, -3.761376e+02, -3.767644e+02,\n",
       "       -3.773904e+02, -3.780156e+02, -3.786400e+02, -3.792636e+02,\n",
       "       -3.798864e+02, -3.805084e+02, -3.811296e+02, -3.817500e+02,\n",
       "       -3.823696e+02, -3.829884e+02, -3.836064e+02, -3.842236e+02,\n",
       "       -3.848400e+02, -3.854556e+02, -3.860704e+02, -3.866844e+02,\n",
       "       -3.872976e+02, -3.879100e+02, -3.885216e+02, -3.891324e+02,\n",
       "       -3.897424e+02, -3.903516e+02, -3.909600e+02, -3.915676e+02,\n",
       "       -3.921744e+02, -3.927804e+02, -3.933856e+02, -3.939900e+02,\n",
       "       -3.945936e+02, -3.951964e+02, -3.957984e+02, -3.963996e+02,\n",
       "       -3.970000e+02])"
      ]
     },
     "execution_count": 40,
     "metadata": {},
     "output_type": "execute_result"
    }
   ],
   "source": [
    "#All rows, second column\n",
    "data[:,1]"
   ]
  },
  {
   "cell_type": "code",
   "execution_count": 45,
   "id": "afaff387",
   "metadata": {},
   "outputs": [
    {
     "data": {
      "text/plain": [
       "array([5.5, 5.5, 5.5, 5.5])"
      ]
     },
     "execution_count": 45,
     "metadata": {},
     "output_type": "execute_result"
    }
   ],
   "source": [
    "a = np.empty(4)\n",
    "a.fill(5.5)\n",
    "a"
   ]
  },
  {
   "cell_type": "code",
   "execution_count": 46,
   "id": "b3c15790",
   "metadata": {},
   "outputs": [
    {
     "data": {
      "text/plain": [
       "array([0, 1, 2, 3, 4])"
      ]
     },
     "execution_count": 46,
     "metadata": {},
     "output_type": "execute_result"
    }
   ],
   "source": [
    "np.arange(5)"
   ]
  },
  {
   "cell_type": "code",
   "execution_count": 48,
   "id": "d774a24f",
   "metadata": {},
   "outputs": [
    {
     "data": {
      "text/plain": [
       "array([ 5.21504731,  9.33161611,  7.82804446, 13.43441166, 14.88559031])"
      ]
     },
     "execution_count": 48,
     "metadata": {},
     "output_type": "execute_result"
    }
   ],
   "source": [
    "b = np.random.normal(10,3,5)\n",
    "b"
   ]
  },
  {
   "cell_type": "code",
   "execution_count": 49,
   "id": "06ef7a37",
   "metadata": {},
   "outputs": [],
   "source": [
    "mask = b > 9"
   ]
  },
  {
   "cell_type": "code",
   "execution_count": 50,
   "id": "b0435430",
   "metadata": {},
   "outputs": [
    {
     "data": {
      "text/plain": [
       "array([False,  True, False,  True,  True])"
      ]
     },
     "execution_count": 50,
     "metadata": {},
     "output_type": "execute_result"
    }
   ],
   "source": [
    "mask"
   ]
  },
  {
   "cell_type": "code",
   "execution_count": 51,
   "id": "7d33ae22",
   "metadata": {},
   "outputs": [
    {
     "data": {
      "text/plain": [
       "array([ 9.33161611, 13.43441166, 14.88559031])"
      ]
     },
     "execution_count": 51,
     "metadata": {},
     "output_type": "execute_result"
    }
   ],
   "source": [
    "b[mask]"
   ]
  },
  {
   "cell_type": "code",
   "execution_count": 52,
   "id": "74c2b672",
   "metadata": {},
   "outputs": [],
   "source": [
    "b[mask] = 0"
   ]
  },
  {
   "cell_type": "code",
   "execution_count": 53,
   "id": "d85062ee",
   "metadata": {},
   "outputs": [
    {
     "data": {
      "text/plain": [
       "array([5.21504731, 0.        , 7.82804446, 0.        , 0.        ])"
      ]
     },
     "execution_count": 53,
     "metadata": {},
     "output_type": "execute_result"
    }
   ],
   "source": [
    "b"
   ]
  },
  {
   "cell_type": "code",
   "execution_count": 55,
   "id": "61daacc2",
   "metadata": {},
   "outputs": [
    {
     "data": {
      "text/plain": [
       "array([[12.13497155, 11.88190856,  6.23317578, 12.41081666],\n",
       "       [16.14427092, 10.70031063, 10.39910172,  9.10741824]])"
      ]
     },
     "execution_count": 55,
     "metadata": {},
     "output_type": "execute_result"
    }
   ],
   "source": [
    "c = np.random.normal(10,3, (2,4))\n",
    "c"
   ]
  },
  {
   "cell_type": "code",
   "execution_count": 59,
   "id": "6fd3c849",
   "metadata": {},
   "outputs": [
    {
     "data": {
      "text/plain": [
       "(2, 4)"
      ]
     },
     "execution_count": 59,
     "metadata": {},
     "output_type": "execute_result"
    }
   ],
   "source": [
    "c.shape"
   ]
  },
  {
   "cell_type": "code",
   "execution_count": 60,
   "id": "bf1b6e7d",
   "metadata": {},
   "outputs": [
    {
     "data": {
      "text/plain": [
       "89.01197405930381"
      ]
     },
     "execution_count": 60,
     "metadata": {},
     "output_type": "execute_result"
    }
   ],
   "source": [
    "c.sum()"
   ]
  },
  {
   "cell_type": "code",
   "execution_count": 61,
   "id": "86440bbb",
   "metadata": {},
   "outputs": [
    {
     "data": {
      "text/plain": [
       "array([28.27924247, 22.58221919, 16.6322775 , 21.5182349 ])"
      ]
     },
     "execution_count": 61,
     "metadata": {},
     "output_type": "execute_result"
    }
   ],
   "source": [
    "c.sum(axis=0)"
   ]
  },
  {
   "cell_type": "code",
   "execution_count": 62,
   "id": "7a663f46",
   "metadata": {},
   "outputs": [
    {
     "data": {
      "text/plain": [
       "array([[12.13497155, 11.88190856,  6.23317578, 12.41081666],\n",
       "       [16.14427092, 10.70031063, 10.39910172,  9.10741824]])"
      ]
     },
     "execution_count": 62,
     "metadata": {},
     "output_type": "execute_result"
    }
   ],
   "source": [
    "c"
   ]
  },
  {
   "cell_type": "code",
   "execution_count": 63,
   "id": "18add9ef",
   "metadata": {},
   "outputs": [
    {
     "data": {
      "text/plain": [
       "array([12.13497155, 11.88190856,  6.23317578, 12.41081666])"
      ]
     },
     "execution_count": 63,
     "metadata": {},
     "output_type": "execute_result"
    }
   ],
   "source": [
    "c[0,:]"
   ]
  },
  {
   "cell_type": "code",
   "execution_count": 64,
   "id": "ecf02a6c",
   "metadata": {},
   "outputs": [
    {
     "data": {
      "text/plain": [
       "array([16.14427092, 10.70031063, 10.39910172,  9.10741824])"
      ]
     },
     "execution_count": 64,
     "metadata": {},
     "output_type": "execute_result"
    }
   ],
   "source": [
    "c[1,:]"
   ]
  },
  {
   "cell_type": "code",
   "execution_count": 65,
   "id": "445f1c91",
   "metadata": {},
   "outputs": [
    {
     "data": {
      "text/plain": [
       "array([12.13497155, 16.14427092])"
      ]
     },
     "execution_count": 65,
     "metadata": {},
     "output_type": "execute_result"
    }
   ],
   "source": [
    "c[:,0]"
   ]
  },
  {
   "cell_type": "code",
   "execution_count": 66,
   "id": "2715dbc0",
   "metadata": {},
   "outputs": [
    {
     "data": {
      "text/plain": [
       "array([12.13497155, 11.88190856,  6.23317578, 12.41081666, 16.14427092,\n",
       "       10.70031063, 10.39910172,  9.10741824])"
      ]
     },
     "execution_count": 66,
     "metadata": {},
     "output_type": "execute_result"
    }
   ],
   "source": [
    "c.flatten()"
   ]
  },
  {
   "cell_type": "code",
   "execution_count": 68,
   "id": "09897785",
   "metadata": {},
   "outputs": [
    {
     "data": {
      "text/plain": [
       "\"['hello' 'lunch']\""
      ]
     },
     "execution_count": 68,
     "metadata": {},
     "output_type": "execute_result"
    }
   ],
   "source": [
    "np.array2string(np.array(['hello', 'lunch']))"
   ]
  },
  {
   "cell_type": "markdown",
   "id": "78ef84a1",
   "metadata": {},
   "source": [
    "# PANDAS\n",
    "## DataFrames"
   ]
  },
  {
   "cell_type": "code",
   "execution_count": 70,
   "id": "78ee945a",
   "metadata": {},
   "outputs": [],
   "source": [
    "import pandas as pd"
   ]
  },
  {
   "cell_type": "code",
   "execution_count": 72,
   "id": "378aad8d",
   "metadata": {},
   "outputs": [],
   "source": [
    "data = pd.read_csv('../Python/gapminder_data/data/gapminder_gdp_oceania.csv')"
   ]
  },
  {
   "cell_type": "code",
   "execution_count": 77,
   "id": "ebbbba26",
   "metadata": {},
   "outputs": [
    {
     "data": {
      "text/html": [
       "<div>\n",
       "<style scoped>\n",
       "    .dataframe tbody tr th:only-of-type {\n",
       "        vertical-align: middle;\n",
       "    }\n",
       "\n",
       "    .dataframe tbody tr th {\n",
       "        vertical-align: top;\n",
       "    }\n",
       "\n",
       "    .dataframe thead th {\n",
       "        text-align: right;\n",
       "    }\n",
       "</style>\n",
       "<table border=\"1\" class=\"dataframe\">\n",
       "  <thead>\n",
       "    <tr style=\"text-align: right;\">\n",
       "      <th></th>\n",
       "      <th>gdpPercap_1952</th>\n",
       "      <th>gdpPercap_1957</th>\n",
       "      <th>gdpPercap_1962</th>\n",
       "      <th>gdpPercap_1967</th>\n",
       "      <th>gdpPercap_1972</th>\n",
       "      <th>gdpPercap_1977</th>\n",
       "      <th>gdpPercap_1982</th>\n",
       "      <th>gdpPercap_1987</th>\n",
       "      <th>gdpPercap_1992</th>\n",
       "      <th>gdpPercap_1997</th>\n",
       "      <th>gdpPercap_2002</th>\n",
       "      <th>gdpPercap_2007</th>\n",
       "    </tr>\n",
       "  </thead>\n",
       "  <tbody>\n",
       "    <tr>\n",
       "      <th>count</th>\n",
       "      <td>2.000000</td>\n",
       "      <td>2.000000</td>\n",
       "      <td>2.000000</td>\n",
       "      <td>2.000000</td>\n",
       "      <td>2.00000</td>\n",
       "      <td>2.000000</td>\n",
       "      <td>2.000000</td>\n",
       "      <td>2.000000</td>\n",
       "      <td>2.000000</td>\n",
       "      <td>2.000000</td>\n",
       "      <td>2.000000</td>\n",
       "      <td>2.000000</td>\n",
       "    </tr>\n",
       "    <tr>\n",
       "      <th>mean</th>\n",
       "      <td>10298.085650</td>\n",
       "      <td>11598.522455</td>\n",
       "      <td>12696.452430</td>\n",
       "      <td>14495.021790</td>\n",
       "      <td>16417.33338</td>\n",
       "      <td>17283.957605</td>\n",
       "      <td>18554.709840</td>\n",
       "      <td>20448.040160</td>\n",
       "      <td>20894.045885</td>\n",
       "      <td>24024.175170</td>\n",
       "      <td>26938.778040</td>\n",
       "      <td>29810.188275</td>\n",
       "    </tr>\n",
       "    <tr>\n",
       "      <th>std</th>\n",
       "      <td>365.560078</td>\n",
       "      <td>917.644806</td>\n",
       "      <td>677.727301</td>\n",
       "      <td>43.986086</td>\n",
       "      <td>525.09198</td>\n",
       "      <td>1485.263517</td>\n",
       "      <td>1304.328377</td>\n",
       "      <td>2037.668013</td>\n",
       "      <td>3578.979883</td>\n",
       "      <td>4205.533703</td>\n",
       "      <td>5301.853680</td>\n",
       "      <td>6540.991104</td>\n",
       "    </tr>\n",
       "    <tr>\n",
       "      <th>min</th>\n",
       "      <td>10039.595640</td>\n",
       "      <td>10949.649590</td>\n",
       "      <td>12217.226860</td>\n",
       "      <td>14463.918930</td>\n",
       "      <td>16046.03728</td>\n",
       "      <td>16233.717700</td>\n",
       "      <td>17632.410400</td>\n",
       "      <td>19007.191290</td>\n",
       "      <td>18363.324940</td>\n",
       "      <td>21050.413770</td>\n",
       "      <td>23189.801350</td>\n",
       "      <td>25185.009110</td>\n",
       "    </tr>\n",
       "    <tr>\n",
       "      <th>25%</th>\n",
       "      <td>10168.840645</td>\n",
       "      <td>11274.086022</td>\n",
       "      <td>12456.839645</td>\n",
       "      <td>14479.470360</td>\n",
       "      <td>16231.68533</td>\n",
       "      <td>16758.837652</td>\n",
       "      <td>18093.560120</td>\n",
       "      <td>19727.615725</td>\n",
       "      <td>19628.685412</td>\n",
       "      <td>22537.294470</td>\n",
       "      <td>25064.289695</td>\n",
       "      <td>27497.598692</td>\n",
       "    </tr>\n",
       "    <tr>\n",
       "      <th>50%</th>\n",
       "      <td>10298.085650</td>\n",
       "      <td>11598.522455</td>\n",
       "      <td>12696.452430</td>\n",
       "      <td>14495.021790</td>\n",
       "      <td>16417.33338</td>\n",
       "      <td>17283.957605</td>\n",
       "      <td>18554.709840</td>\n",
       "      <td>20448.040160</td>\n",
       "      <td>20894.045885</td>\n",
       "      <td>24024.175170</td>\n",
       "      <td>26938.778040</td>\n",
       "      <td>29810.188275</td>\n",
       "    </tr>\n",
       "    <tr>\n",
       "      <th>75%</th>\n",
       "      <td>10427.330655</td>\n",
       "      <td>11922.958888</td>\n",
       "      <td>12936.065215</td>\n",
       "      <td>14510.573220</td>\n",
       "      <td>16602.98143</td>\n",
       "      <td>17809.077558</td>\n",
       "      <td>19015.859560</td>\n",
       "      <td>21168.464595</td>\n",
       "      <td>22159.406358</td>\n",
       "      <td>25511.055870</td>\n",
       "      <td>28813.266385</td>\n",
       "      <td>32122.777858</td>\n",
       "    </tr>\n",
       "    <tr>\n",
       "      <th>max</th>\n",
       "      <td>10556.575660</td>\n",
       "      <td>12247.395320</td>\n",
       "      <td>13175.678000</td>\n",
       "      <td>14526.124650</td>\n",
       "      <td>16788.62948</td>\n",
       "      <td>18334.197510</td>\n",
       "      <td>19477.009280</td>\n",
       "      <td>21888.889030</td>\n",
       "      <td>23424.766830</td>\n",
       "      <td>26997.936570</td>\n",
       "      <td>30687.754730</td>\n",
       "      <td>34435.367440</td>\n",
       "    </tr>\n",
       "  </tbody>\n",
       "</table>\n",
       "</div>"
      ],
      "text/plain": [
       "       gdpPercap_1952  gdpPercap_1957  gdpPercap_1962  gdpPercap_1967  \\\n",
       "count        2.000000        2.000000        2.000000        2.000000   \n",
       "mean     10298.085650    11598.522455    12696.452430    14495.021790   \n",
       "std        365.560078      917.644806      677.727301       43.986086   \n",
       "min      10039.595640    10949.649590    12217.226860    14463.918930   \n",
       "25%      10168.840645    11274.086022    12456.839645    14479.470360   \n",
       "50%      10298.085650    11598.522455    12696.452430    14495.021790   \n",
       "75%      10427.330655    11922.958888    12936.065215    14510.573220   \n",
       "max      10556.575660    12247.395320    13175.678000    14526.124650   \n",
       "\n",
       "       gdpPercap_1972  gdpPercap_1977  gdpPercap_1982  gdpPercap_1987  \\\n",
       "count         2.00000        2.000000        2.000000        2.000000   \n",
       "mean      16417.33338    17283.957605    18554.709840    20448.040160   \n",
       "std         525.09198     1485.263517     1304.328377     2037.668013   \n",
       "min       16046.03728    16233.717700    17632.410400    19007.191290   \n",
       "25%       16231.68533    16758.837652    18093.560120    19727.615725   \n",
       "50%       16417.33338    17283.957605    18554.709840    20448.040160   \n",
       "75%       16602.98143    17809.077558    19015.859560    21168.464595   \n",
       "max       16788.62948    18334.197510    19477.009280    21888.889030   \n",
       "\n",
       "       gdpPercap_1992  gdpPercap_1997  gdpPercap_2002  gdpPercap_2007  \n",
       "count        2.000000        2.000000        2.000000        2.000000  \n",
       "mean     20894.045885    24024.175170    26938.778040    29810.188275  \n",
       "std       3578.979883     4205.533703     5301.853680     6540.991104  \n",
       "min      18363.324940    21050.413770    23189.801350    25185.009110  \n",
       "25%      19628.685412    22537.294470    25064.289695    27497.598692  \n",
       "50%      20894.045885    24024.175170    26938.778040    29810.188275  \n",
       "75%      22159.406358    25511.055870    28813.266385    32122.777858  \n",
       "max      23424.766830    26997.936570    30687.754730    34435.367440  "
      ]
     },
     "execution_count": 77,
     "metadata": {},
     "output_type": "execute_result"
    }
   ],
   "source": [
    "data.describe()"
   ]
  },
  {
   "cell_type": "code",
   "execution_count": 78,
   "id": "1eb5b794",
   "metadata": {},
   "outputs": [
    {
     "data": {
      "text/html": [
       "<div>\n",
       "<style scoped>\n",
       "    .dataframe tbody tr th:only-of-type {\n",
       "        vertical-align: middle;\n",
       "    }\n",
       "\n",
       "    .dataframe tbody tr th {\n",
       "        vertical-align: top;\n",
       "    }\n",
       "\n",
       "    .dataframe thead th {\n",
       "        text-align: right;\n",
       "    }\n",
       "</style>\n",
       "<table border=\"1\" class=\"dataframe\">\n",
       "  <thead>\n",
       "    <tr style=\"text-align: right;\">\n",
       "      <th></th>\n",
       "      <th>country</th>\n",
       "      <th>gdpPercap_1952</th>\n",
       "      <th>gdpPercap_1957</th>\n",
       "      <th>gdpPercap_1962</th>\n",
       "      <th>gdpPercap_1967</th>\n",
       "      <th>gdpPercap_1972</th>\n",
       "      <th>gdpPercap_1977</th>\n",
       "      <th>gdpPercap_1982</th>\n",
       "      <th>gdpPercap_1987</th>\n",
       "      <th>gdpPercap_1992</th>\n",
       "      <th>gdpPercap_1997</th>\n",
       "      <th>gdpPercap_2002</th>\n",
       "      <th>gdpPercap_2007</th>\n",
       "    </tr>\n",
       "  </thead>\n",
       "  <tbody>\n",
       "    <tr>\n",
       "      <th>0</th>\n",
       "      <td>Australia</td>\n",
       "      <td>10039.59564</td>\n",
       "      <td>10949.64959</td>\n",
       "      <td>12217.22686</td>\n",
       "      <td>14526.12465</td>\n",
       "      <td>16788.62948</td>\n",
       "      <td>18334.19751</td>\n",
       "      <td>19477.00928</td>\n",
       "      <td>21888.88903</td>\n",
       "      <td>23424.76683</td>\n",
       "      <td>26997.93657</td>\n",
       "      <td>30687.75473</td>\n",
       "      <td>34435.36744</td>\n",
       "    </tr>\n",
       "    <tr>\n",
       "      <th>1</th>\n",
       "      <td>New Zealand</td>\n",
       "      <td>10556.57566</td>\n",
       "      <td>12247.39532</td>\n",
       "      <td>13175.67800</td>\n",
       "      <td>14463.91893</td>\n",
       "      <td>16046.03728</td>\n",
       "      <td>16233.71770</td>\n",
       "      <td>17632.41040</td>\n",
       "      <td>19007.19129</td>\n",
       "      <td>18363.32494</td>\n",
       "      <td>21050.41377</td>\n",
       "      <td>23189.80135</td>\n",
       "      <td>25185.00911</td>\n",
       "    </tr>\n",
       "  </tbody>\n",
       "</table>\n",
       "</div>"
      ],
      "text/plain": [
       "       country  gdpPercap_1952  gdpPercap_1957  gdpPercap_1962  \\\n",
       "0    Australia     10039.59564     10949.64959     12217.22686   \n",
       "1  New Zealand     10556.57566     12247.39532     13175.67800   \n",
       "\n",
       "   gdpPercap_1967  gdpPercap_1972  gdpPercap_1977  gdpPercap_1982  \\\n",
       "0     14526.12465     16788.62948     18334.19751     19477.00928   \n",
       "1     14463.91893     16046.03728     16233.71770     17632.41040   \n",
       "\n",
       "   gdpPercap_1987  gdpPercap_1992  gdpPercap_1997  gdpPercap_2002  \\\n",
       "0     21888.88903     23424.76683     26997.93657     30687.75473   \n",
       "1     19007.19129     18363.32494     21050.41377     23189.80135   \n",
       "\n",
       "   gdpPercap_2007  \n",
       "0     34435.36744  \n",
       "1     25185.00911  "
      ]
     },
     "execution_count": 78,
     "metadata": {},
     "output_type": "execute_result"
    }
   ],
   "source": [
    "data"
   ]
  },
  {
   "cell_type": "code",
   "execution_count": 45,
   "id": "df3f436d",
   "metadata": {},
   "outputs": [
    {
     "name": "stdout",
     "output_type": "stream",
     "text": [
      "gapminder_all.csv          gapminder_gdp_asia.csv\r\n",
      "gapminder_gdp_africa.csv   gapminder_gdp_europe.csv\r\n",
      "gapminder_gdp_americas.csv gapminder_gdp_oceania.csv\r\n"
     ]
    }
   ],
   "source": [
    "! ls \\gapminder_data"
   ]
  },
  {
   "cell_type": "code",
   "execution_count": 47,
   "id": "ad146935",
   "metadata": {},
   "outputs": [
    {
     "data": {
      "text/html": [
       "<div>\n",
       "<style scoped>\n",
       "    .dataframe tbody tr th:only-of-type {\n",
       "        vertical-align: middle;\n",
       "    }\n",
       "\n",
       "    .dataframe tbody tr th {\n",
       "        vertical-align: top;\n",
       "    }\n",
       "\n",
       "    .dataframe thead th {\n",
       "        text-align: right;\n",
       "    }\n",
       "</style>\n",
       "<table border=\"1\" class=\"dataframe\">\n",
       "  <thead>\n",
       "    <tr style=\"text-align: right;\">\n",
       "      <th></th>\n",
       "      <th>gdpPercap_1952</th>\n",
       "      <th>gdpPercap_1957</th>\n",
       "      <th>gdpPercap_1962</th>\n",
       "      <th>gdpPercap_1967</th>\n",
       "      <th>gdpPercap_1972</th>\n",
       "      <th>gdpPercap_1977</th>\n",
       "      <th>gdpPercap_1982</th>\n",
       "      <th>gdpPercap_1987</th>\n",
       "      <th>gdpPercap_1992</th>\n",
       "      <th>gdpPercap_1997</th>\n",
       "      <th>gdpPercap_2002</th>\n",
       "      <th>gdpPercap_2007</th>\n",
       "    </tr>\n",
       "  </thead>\n",
       "  <tbody>\n",
       "    <tr>\n",
       "      <th>count</th>\n",
       "      <td>25.000000</td>\n",
       "      <td>25.000000</td>\n",
       "      <td>25.000000</td>\n",
       "      <td>25.000000</td>\n",
       "      <td>25.000000</td>\n",
       "      <td>25.000000</td>\n",
       "      <td>25.000000</td>\n",
       "      <td>25.000000</td>\n",
       "      <td>25.000000</td>\n",
       "      <td>25.000000</td>\n",
       "      <td>25.000000</td>\n",
       "      <td>25.000000</td>\n",
       "    </tr>\n",
       "    <tr>\n",
       "      <th>mean</th>\n",
       "      <td>4079.062552</td>\n",
       "      <td>4616.043733</td>\n",
       "      <td>4901.541870</td>\n",
       "      <td>5668.253496</td>\n",
       "      <td>6491.334139</td>\n",
       "      <td>7352.007126</td>\n",
       "      <td>7506.737088</td>\n",
       "      <td>7793.400261</td>\n",
       "      <td>8044.934406</td>\n",
       "      <td>8889.300863</td>\n",
       "      <td>9287.677107</td>\n",
       "      <td>11003.031625</td>\n",
       "    </tr>\n",
       "    <tr>\n",
       "      <th>std</th>\n",
       "      <td>3001.727522</td>\n",
       "      <td>3312.381083</td>\n",
       "      <td>3421.740569</td>\n",
       "      <td>4160.885560</td>\n",
       "      <td>4754.404329</td>\n",
       "      <td>5355.602518</td>\n",
       "      <td>5530.490471</td>\n",
       "      <td>6665.039509</td>\n",
       "      <td>7047.089191</td>\n",
       "      <td>7874.225145</td>\n",
       "      <td>8895.817785</td>\n",
       "      <td>9713.209302</td>\n",
       "    </tr>\n",
       "    <tr>\n",
       "      <th>min</th>\n",
       "      <td>1397.717137</td>\n",
       "      <td>1544.402995</td>\n",
       "      <td>1662.137359</td>\n",
       "      <td>1452.057666</td>\n",
       "      <td>1654.456946</td>\n",
       "      <td>1874.298931</td>\n",
       "      <td>2011.159549</td>\n",
       "      <td>1823.015995</td>\n",
       "      <td>1456.309517</td>\n",
       "      <td>1341.726931</td>\n",
       "      <td>1270.364932</td>\n",
       "      <td>1201.637154</td>\n",
       "    </tr>\n",
       "    <tr>\n",
       "      <th>25%</th>\n",
       "      <td>2428.237769</td>\n",
       "      <td>2487.365989</td>\n",
       "      <td>2750.364446</td>\n",
       "      <td>3242.531147</td>\n",
       "      <td>4031.408271</td>\n",
       "      <td>4756.763836</td>\n",
       "      <td>4258.503604</td>\n",
       "      <td>4140.442097</td>\n",
       "      <td>4439.450840</td>\n",
       "      <td>4684.313807</td>\n",
       "      <td>4858.347495</td>\n",
       "      <td>5728.353514</td>\n",
       "    </tr>\n",
       "    <tr>\n",
       "      <th>50%</th>\n",
       "      <td>3048.302900</td>\n",
       "      <td>3780.546651</td>\n",
       "      <td>4086.114078</td>\n",
       "      <td>4643.393534</td>\n",
       "      <td>5305.445256</td>\n",
       "      <td>6281.290855</td>\n",
       "      <td>6434.501797</td>\n",
       "      <td>6360.943444</td>\n",
       "      <td>6618.743050</td>\n",
       "      <td>7113.692252</td>\n",
       "      <td>6994.774861</td>\n",
       "      <td>8948.102923</td>\n",
       "    </tr>\n",
       "    <tr>\n",
       "      <th>75%</th>\n",
       "      <td>3939.978789</td>\n",
       "      <td>4756.525781</td>\n",
       "      <td>5180.755910</td>\n",
       "      <td>5788.093330</td>\n",
       "      <td>6809.406690</td>\n",
       "      <td>7674.929108</td>\n",
       "      <td>8997.897412</td>\n",
       "      <td>7807.095818</td>\n",
       "      <td>8137.004775</td>\n",
       "      <td>9767.297530</td>\n",
       "      <td>8797.640716</td>\n",
       "      <td>11977.574960</td>\n",
       "    </tr>\n",
       "    <tr>\n",
       "      <th>max</th>\n",
       "      <td>13990.482080</td>\n",
       "      <td>14847.127120</td>\n",
       "      <td>16173.145860</td>\n",
       "      <td>19530.365570</td>\n",
       "      <td>21806.035940</td>\n",
       "      <td>24072.632130</td>\n",
       "      <td>25009.559140</td>\n",
       "      <td>29884.350410</td>\n",
       "      <td>32003.932240</td>\n",
       "      <td>35767.433030</td>\n",
       "      <td>39097.099550</td>\n",
       "      <td>42951.653090</td>\n",
       "    </tr>\n",
       "  </tbody>\n",
       "</table>\n",
       "</div>"
      ],
      "text/plain": [
       "       gdpPercap_1952  gdpPercap_1957  gdpPercap_1962  gdpPercap_1967  \\\n",
       "count       25.000000       25.000000       25.000000       25.000000   \n",
       "mean      4079.062552     4616.043733     4901.541870     5668.253496   \n",
       "std       3001.727522     3312.381083     3421.740569     4160.885560   \n",
       "min       1397.717137     1544.402995     1662.137359     1452.057666   \n",
       "25%       2428.237769     2487.365989     2750.364446     3242.531147   \n",
       "50%       3048.302900     3780.546651     4086.114078     4643.393534   \n",
       "75%       3939.978789     4756.525781     5180.755910     5788.093330   \n",
       "max      13990.482080    14847.127120    16173.145860    19530.365570   \n",
       "\n",
       "       gdpPercap_1972  gdpPercap_1977  gdpPercap_1982  gdpPercap_1987  \\\n",
       "count       25.000000       25.000000       25.000000       25.000000   \n",
       "mean      6491.334139     7352.007126     7506.737088     7793.400261   \n",
       "std       4754.404329     5355.602518     5530.490471     6665.039509   \n",
       "min       1654.456946     1874.298931     2011.159549     1823.015995   \n",
       "25%       4031.408271     4756.763836     4258.503604     4140.442097   \n",
       "50%       5305.445256     6281.290855     6434.501797     6360.943444   \n",
       "75%       6809.406690     7674.929108     8997.897412     7807.095818   \n",
       "max      21806.035940    24072.632130    25009.559140    29884.350410   \n",
       "\n",
       "       gdpPercap_1992  gdpPercap_1997  gdpPercap_2002  gdpPercap_2007  \n",
       "count       25.000000       25.000000       25.000000       25.000000  \n",
       "mean      8044.934406     8889.300863     9287.677107    11003.031625  \n",
       "std       7047.089191     7874.225145     8895.817785     9713.209302  \n",
       "min       1456.309517     1341.726931     1270.364932     1201.637154  \n",
       "25%       4439.450840     4684.313807     4858.347495     5728.353514  \n",
       "50%       6618.743050     7113.692252     6994.774861     8948.102923  \n",
       "75%       8137.004775     9767.297530     8797.640716    11977.574960  \n",
       "max      32003.932240    35767.433030    39097.099550    42951.653090  "
      ]
     },
     "execution_count": 47,
     "metadata": {},
     "output_type": "execute_result"
    }
   ],
   "source": [
    "import pandas as pd\n",
    "americas = pd.read_csv('gapminder_data/gapminder_gdp_americas.csv')\n",
    "americas.describe()"
   ]
  },
  {
   "cell_type": "code",
   "execution_count": 83,
   "id": "0e04bfd9",
   "metadata": {},
   "outputs": [],
   "source": [
    "df_c = pd.DataFrame(c)"
   ]
  },
  {
   "cell_type": "code",
   "execution_count": 84,
   "id": "20e34cee",
   "metadata": {},
   "outputs": [
    {
     "data": {
      "text/html": [
       "<div>\n",
       "<style scoped>\n",
       "    .dataframe tbody tr th:only-of-type {\n",
       "        vertical-align: middle;\n",
       "    }\n",
       "\n",
       "    .dataframe tbody tr th {\n",
       "        vertical-align: top;\n",
       "    }\n",
       "\n",
       "    .dataframe thead th {\n",
       "        text-align: right;\n",
       "    }\n",
       "</style>\n",
       "<table border=\"1\" class=\"dataframe\">\n",
       "  <thead>\n",
       "    <tr style=\"text-align: right;\">\n",
       "      <th></th>\n",
       "      <th>0</th>\n",
       "      <th>1</th>\n",
       "      <th>2</th>\n",
       "      <th>3</th>\n",
       "    </tr>\n",
       "  </thead>\n",
       "  <tbody>\n",
       "    <tr>\n",
       "      <th>count</th>\n",
       "      <td>2.000000</td>\n",
       "      <td>2.000000</td>\n",
       "      <td>2.000000</td>\n",
       "      <td>2.000000</td>\n",
       "    </tr>\n",
       "    <tr>\n",
       "      <th>mean</th>\n",
       "      <td>14.139621</td>\n",
       "      <td>11.291110</td>\n",
       "      <td>8.316139</td>\n",
       "      <td>10.759117</td>\n",
       "    </tr>\n",
       "    <tr>\n",
       "      <th>std</th>\n",
       "      <td>2.835003</td>\n",
       "      <td>0.835516</td>\n",
       "      <td>2.945754</td>\n",
       "      <td>2.335855</td>\n",
       "    </tr>\n",
       "    <tr>\n",
       "      <th>min</th>\n",
       "      <td>12.134972</td>\n",
       "      <td>10.700311</td>\n",
       "      <td>6.233176</td>\n",
       "      <td>9.107418</td>\n",
       "    </tr>\n",
       "    <tr>\n",
       "      <th>25%</th>\n",
       "      <td>13.137296</td>\n",
       "      <td>10.995710</td>\n",
       "      <td>7.274657</td>\n",
       "      <td>9.933268</td>\n",
       "    </tr>\n",
       "    <tr>\n",
       "      <th>50%</th>\n",
       "      <td>14.139621</td>\n",
       "      <td>11.291110</td>\n",
       "      <td>8.316139</td>\n",
       "      <td>10.759117</td>\n",
       "    </tr>\n",
       "    <tr>\n",
       "      <th>75%</th>\n",
       "      <td>15.141946</td>\n",
       "      <td>11.586509</td>\n",
       "      <td>9.357620</td>\n",
       "      <td>11.584967</td>\n",
       "    </tr>\n",
       "    <tr>\n",
       "      <th>max</th>\n",
       "      <td>16.144271</td>\n",
       "      <td>11.881909</td>\n",
       "      <td>10.399102</td>\n",
       "      <td>12.410817</td>\n",
       "    </tr>\n",
       "  </tbody>\n",
       "</table>\n",
       "</div>"
      ],
      "text/plain": [
       "               0          1          2          3\n",
       "count   2.000000   2.000000   2.000000   2.000000\n",
       "mean   14.139621  11.291110   8.316139  10.759117\n",
       "std     2.835003   0.835516   2.945754   2.335855\n",
       "min    12.134972  10.700311   6.233176   9.107418\n",
       "25%    13.137296  10.995710   7.274657   9.933268\n",
       "50%    14.139621  11.291110   8.316139  10.759117\n",
       "75%    15.141946  11.586509   9.357620  11.584967\n",
       "max    16.144271  11.881909  10.399102  12.410817"
      ]
     },
     "execution_count": 84,
     "metadata": {},
     "output_type": "execute_result"
    }
   ],
   "source": [
    "df_c.describe()"
   ]
  },
  {
   "cell_type": "markdown",
   "id": "cab612e8",
   "metadata": {},
   "source": [
    "# ---- In class assignment  ---------------------------------------------------------\n",
    "\n",
    "Feel free to work indepedently or collaborate with your peers"
   ]
  },
  {
   "cell_type": "markdown",
   "id": "d897854d",
   "metadata": {},
   "source": [
    "### (1) Complete/debug the script below, 1D laminar flow\n",
    "\n",
    "\n",
    "This code is implementing a 1D fluid flow simulation using the 1D Burgers' equation, which is a simplified model for fluid dynamics. The simulation aims to model the behavior of a fluid as it flows along a 1D spatial domain.\n",
    "\n",
    "\n",
    "The 1D Burgers' equation is given by:\n",
    "\n",
    "$\\dfrac{\\partial u}{\\partial t}+ u \\dfrac{\\partial u}{\\partial x} = \\mu \\dfrac{\\partial^2 u}{\\partial x^2}$\n",
    "\n",
    "\n",
    "where:\n",
    "- $u$ is the velocity of the fluid as a function of position (x) and time (t),\n",
    "- $\\dfrac{\\partial u}{\\partial t}$ is the partial derivative of u with respect to time (time rate of change of velocity),\n",
    "- $\\dfrac{\\partial u}{\\partial x}$ is the partial derivative of u with respect to position (advection term representing the change in velocity with position),\n",
    "- $\\dfrac{\\partial^2 u}{\\partial x^2}$ is the second partial derivative of u with respect to position (diffusion term representing the spatial spreading of the velocity),\n",
    "- $\\mu$ is the fluid viscosity, which determines the strength of the diffusion term.\n",
    "\n",
    "The simulation includes the advection ($u \\dfrac{\\partial u}{\\partial x}$) and diffusion ($ \\mu \\dfrac{\\partial^2 u}{\\partial x^2} $) of average velocity in the fluid flow, providing a simple model for understanding the behavior of fluids in 1D."
   ]
  },
  {
   "cell_type": "code",
   "execution_count": 44,
   "id": "62fbcaea",
   "metadata": {},
   "outputs": [],
   "source": [
    "import numpy as np\n",
    "import matplotlib.pyplot as plt\n",
    "\n",
    "# Parameters\n",
    "num_points = 100    # Number of points in the simulation grid\n",
    "num_steps = 1000    # Number of time steps\n",
    "delta_x = 1.0       # Spatial step size\n",
    "delta_t = 0.01      # Time step size\n",
    "viscosity = .1     # Fluid viscosity\n",
    "\n",
    "# Initialize the grid with a sine wave as the initial velocity profile\n",
    "x = np.linspace(0, num_points * delta_x, num_points)\n",
    "u = np.sin(2 * np.pi * x / (num_points * delta_x))\n",
    "\n",
    "# Function to update the grid using Burgers' equation\n",
    "def update_grid(u, viscosity, delta_t, delta_x):\n",
    "    u_new = np.copy(u)\n",
    "    for i in range(1, num_points - 1):\n",
    "        du_dx = (u[i + 1] - u[i - 1]) / (2 * delta_x)\n",
    "        d2u_dx2 = (u[i + 1] - 2 * u[i] + u[i - 1]) / (delta_x ** 2)\n",
    "        u_new[i] = u[i] + viscosity * delta_t * d2u_dx2 - u[i] * du_dx * delta_t\n",
    "    return u_new\n",
    "\n",
    "# Main simulation loop\n",
    "for step in range(num_steps):\n",
    "    u = update_grid(u, viscosity, delta_t, delta_x)\n",
    "\n",
    "# Plot the final result, velocity vs position\n",
    "## include labels and grid\n"
   ]
  },
  {
   "cell_type": "markdown",
   "id": "199c8a59",
   "metadata": {},
   "source": [
    "### (2) Complete/debug the script below, 1D laminar and turbulant flow\n",
    "\n",
    "\n",
    "The script below is using the 1D Burgers' equation to simulate both laminar and turbulent flow. The same version of Burgers equation from problem 1 is used to simlulate both types of flow but the velocity profile is change for the turbulant flow case. To accurately simulate a turbulant flow a derivation of Navier-Stokes Equation would be necessary in at least a 2D domain so in this case we use sine waves to visualize would a turbulant flow could look like in the 1D case. \n",
    "\n",
    "\n",
    "In the simulation, two different initial velocity profiles are used to represent laminar and turbulent flow:\n",
    "\n",
    "1. Laminar flow profile (Sine wave):\n",
    "   \n",
    "   `initial_velocity_laminar = np.sin(2 * np.pi * x / (num_points * delta_x))`\n",
    "  \n",
    "\n",
    "   This represents a smooth flow, as described by a simple sine wave.\n",
    "\n",
    "2. Turbulent flow profile (Combination of sine waves):\n",
    "   `initial_velocity_turbulent = np.sin(2 * np.pi * x / (num_points * delta_x)) + 0.5 * np.sin(4 * np.pi * x / (num_points * delta_x))`\n",
    "\n",
    "   This represents a more complex as it is a combination of two sine waves with different frequencies. Turbulent flow is characterized by chaotic and unpredictable behavior.\n",
    "\n",
    "Both the laminar and turbulent flow profiles are used as initial conditions for Burgers' equation, and then simulates the flow by numerically solving the equation over a series of time steps to compute the final velocity profiles for both cases."
   ]
  },
  {
   "cell_type": "code",
   "execution_count": 41,
   "id": "a3a2ff3d",
   "metadata": {},
   "outputs": [],
   "source": [
    "import numpy as np\n",
    "import matplotlib.pyplot as plt\n",
    "\n",
    "# Parameters\n",
    "num_points = 100    # Number of points in the simulation grid\n",
    "num_steps = 1000    # Number of time steps\n",
    "delta_x = 1.0       # Spatial step size\n",
    "delta_t = 0.01      # Time step size\n",
    "viscosity = 0.1     # Fluid viscosity\n",
    "\n",
    "# Initialize the grid with two different initial velocity profiles\n",
    "x = np.linspace(0, num_points * delta_x, num_points)\n",
    "\n",
    "# Laminar flow profile (Sine wave)\n",
    "initial_velocity_laminar = np.sin(2 * np.pi * x / (num_points * delta_x))\n",
    "\n",
    "# Turbulent flow profile (Combination of sine waves)\n",
    "initial_velocity_turbulent = np.sin(2 * np.pi * x / (num_points * delta_x)) + 0.5 * np.sin(4 * np.pi * x / (num_points * delta_x))\n",
    "\n",
    "# Function to update the grid using the 1D Burgers' equation\n",
    "def update_grid(u, viscosity, delta_t, delta_x):\n",
    "    u_new = np.copy(u)\n",
    "    for i in range(1, num_points - 1):\n",
    "        du_dx = (u[i + 1] - u[i - 1]) / (2 * delta_x)\n",
    "        d2u_dx2 = (u[i + 1] - 2 * u[i] + u[i - 1]) / (delta_x ** 2)\n",
    "        u_new[i] = u[i] + viscosity * delta_t * d2u_dx2 - u[i] * du_dx * delta_t\n",
    "    return u_new\n",
    "\n",
    "# Main simulation loop for laminar flow\n",
    "u_laminar = np.copy(initial_velocity_laminar)\n",
    "for step in range(num_steps):\n",
    "    u_laminar = update_grid(u_laminar, viscosity, delta_t, delta_x)\n",
    "\n",
    "# Main simulation loop for turbulent flow\n",
    "u_turbulent = np.copy(initial_velocity_turbulent)\n",
    "for step in range(num_steps):\n",
    "    u_turbulent = update_grid(u_turbulent, viscosity, delta_t, delta_x)\n",
    "\n",
    "# Plot the final results\n",
    "# Plot the final result, velocity vs position\n",
    "## include labels, legend and grid\n"
   ]
  },
  {
   "cell_type": "markdown",
   "id": "2aab82a6",
   "metadata": {},
   "source": [
    "### -- for the below problems pick one, or try both! --"
   ]
  },
  {
   "cell_type": "markdown",
   "id": "60eef4f9",
   "metadata": {},
   "source": [
    "### (3) Write your own script below, Particle Decay\n",
    "\n",
    "Monte Carlo simulations are simulations used to model and analyze complex systems or processes using random sampling and statistical techniques. Named after the famous Monte Carlo Casino in Monaco, known for its games of chance, as the method heavily relies on randomness and probability although but may be determistic in principle.\n",
    "\n",
    "Build a Monte Carlo simulation of particle decay. The simulation should model the decay of a collection of particles over a series of time steps, based on a given probability of decay for each particle in each time step. The simulation should then **PLOT** the number of decayed particles over time to observe the decay process.\n",
    "\n",
    "Hints : \n",
    "- you can `numpy.random.rand()`\n",
    "    - fell free to use your own probability distributin though!\n",
    "\n",
    "- Possible simulation parameters:\n",
    "   - `num_particles`: The total number of particles in the simulation.\n",
    "   - `decay_prob`: The probability of particle decay in a single time step. \n",
    "   - `num_steps`: The number of time steps for the simulation.\n",
    "\n",
    "Overall, the code should be a simple simulation of particle decay using a Monte Carlo approach. The results of the simulation show how the number of decayed particles changes over time, giving insights into the decay behavior of the particles based on the given decay probability."
   ]
  },
  {
   "cell_type": "markdown",
   "id": "55fcad06",
   "metadata": {},
   "source": []
  },
  {
   "cell_type": "markdown",
   "id": "f31a53e2",
   "metadata": {},
   "source": [
    "### (4a) Write your own script below, Volcanic plume simulation\n",
    "\n",
    "Here, define a function called `plume_simulation` that takes the discharge rate ($Q$, m$^3$ s$^{-1}$) of an eruption, as input, and calculates the corresponding plume height ($H$, km) using the formula $\\mathbf{H = \\left(\\frac{Q}{2500}\\right)^{0.25}}$. Calculate plume height for discharge rates of $10^3 \\text{ to } 10^{10}$ m$^3$ s$^{-1}$ and then plot the results.\n",
    "\n",
    "The plume height equation, shown above, is derived from bouyancy theory using volume flux but we are interested in mass flux so we make the necessary conversion by using the dense rock equivalent of magma density (2500 kg m$^{-3}$). Thus, your plot will be of plume height (km) as a function of mass eruption rate (kg s$^{-1}$) and should be labeled as such.\n",
    "\n",
    "Despite its simplicity, this equation provides a reasonably approximation of plume height behavior and have shown to yield results close to those of empirical models (this can be easily validated using observational data). \n",
    "\n",
    "In real-world scenarios, volcanic plume behavior involves multiple factors, including temperature, atmospheric conditions, and particle sizes. Similar to what we saw for the turbulant flow problem, accurate simulations require more sophisticated models that consider these additional factors but we can still gain insight about these phenomenons.\n",
    "\n",
    "Hints:\n",
    "\n",
    "- use `discharge_rates = np.logspace(3, 10, 100)` to generate a range of MER values\n"
   ]
  },
  {
   "cell_type": "code",
   "execution_count": null,
   "id": "74b19364",
   "metadata": {
    "scrolled": true
   },
   "outputs": [],
   "source": []
  },
  {
   "cell_type": "markdown",
   "id": "f606617b",
   "metadata": {},
   "source": [
    "### (4b) do the same thing, as problem 3,  but ...\n",
    " \n",
    " - add the data below\n",
    " \n",
    "` data = [\n",
    "    [\"St. Helens, 2005\", 9, 4.00e5],\n",
    "    [\"St. Helens, 7/1980\", 10.3, 1.40e6],\n",
    "    [\"St. Helens, 5/1980\", 10.2, 2.00e7],\n",
    "]\n",
    "`\n",
    "\n",
    " - add a colorbar that represents plume height\n",
    " - add anotations for the eruption data"
   ]
  },
  {
   "cell_type": "code",
   "execution_count": null,
   "id": "d56ae701",
   "metadata": {},
   "outputs": [],
   "source": []
  },
  {
   "cell_type": "code",
   "execution_count": null,
   "id": "dd8ef298",
   "metadata": {},
   "outputs": [],
   "source": []
  }
 ],
 "metadata": {
  "kernelspec": {
   "display_name": "Python 3 (ipykernel)",
   "language": "python",
   "name": "python3"
  },
  "language_info": {
   "codemirror_mode": {
    "name": "ipython",
    "version": 3
   },
   "file_extension": ".py",
   "mimetype": "text/x-python",
   "name": "python",
   "nbconvert_exporter": "python",
   "pygments_lexer": "ipython3",
   "version": "3.9.13"
  }
 },
 "nbformat": 4,
 "nbformat_minor": 5
}
