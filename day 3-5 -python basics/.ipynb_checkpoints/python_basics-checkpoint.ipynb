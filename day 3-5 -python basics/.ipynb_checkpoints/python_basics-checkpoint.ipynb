{
 "cells": [
  {
   "cell_type": "code",
   "execution_count": null,
   "id": "fc9d44d2",
   "metadata": {},
   "outputs": [],
   "source": []
  },
  {
   "cell_type": "markdown",
   "id": "6ede7a04",
   "metadata": {},
   "source": [
    "## --- in class code for python basics ---"
   ]
  },
  {
   "cell_type": "code",
   "execution_count": 13,
   "id": "7cd2e9d3",
   "metadata": {},
   "outputs": [
    {
     "name": "stdout",
     "output_type": "stream",
     "text": [
      "      *\n",
      "     ***\n",
      "    *****\n",
      "   *******\n",
      "  *********\n",
      " ***********\n"
     ]
    }
   ],
   "source": [
    "tree = 6\n",
    "for i in range(6):\n",
    "    print(\" \" * tree , end = '*' )\n",
    "    print('*'*2*i)\n",
    "    tree -=1 "
   ]
  },
  {
   "cell_type": "code",
   "execution_count": 3,
   "id": "d97c524b",
   "metadata": {},
   "outputs": [
    {
     "name": "stdout",
     "output_type": "stream",
     "text": [
      "            * \n",
      "           * * \n",
      "          * * * \n",
      "         * * * * \n",
      "        * * * * * \n",
      "       * * * * * * \n",
      "      * * * * * * * \n",
      "     * * * * * * * * \n",
      "    * * * * * * * * * \n",
      "   * * * * * * * * * * \n"
     ]
    }
   ],
   "source": [
    "tree = 10 \n",
    "z = tree + 2 \n",
    "x = 1 \n",
    "for n in range(0,tree):\n",
    "    for n in range(0,z):\n",
    "        print(' ', end = '')\n",
    "    for n in range(0,x):\n",
    "        print('* ', end = '')\n",
    "    x= x + 1\n",
    "    z = z -1 \n",
    "    print()"
   ]
  },
  {
   "cell_type": "code",
   "execution_count": 8,
   "id": "f5903728",
   "metadata": {},
   "outputs": [
    {
     "name": "stdout",
     "output_type": "stream",
     "text": [
      "         \n",
      "    *    \n",
      "   * *   \n",
      "   ***   \n",
      "  ** **  \n",
      "  *****  \n",
      " *** *** \n",
      " ******* \n",
      "**** ****\n",
      "   !!   \n"
     ]
    }
   ],
   "source": [
    "import math \n",
    "for n in range(0,9):\n",
    "    i = math.floor(n/2)\n",
    "    s = math.floor((9-n)/2)\n",
    "    if (n/2).is_integer():\n",
    "        tree_even = ' '*s + '*'*i + ' ' + '*'*i  + ' '*s\n",
    "        print(tree_even)\n",
    "    else: \n",
    "        tree_odd = ' '*s + '*'*n + ' '*s \n",
    "        print(tree_odd)\n",
    "print('   !!   ')"
   ]
  },
  {
   "cell_type": "code",
   "execution_count": 16,
   "id": "f02260bf",
   "metadata": {},
   "outputs": [
    {
     "name": "stdout",
     "output_type": "stream",
     "text": [
      "                   *                    \n",
      "                  ***                   \n",
      "                 *****                  \n",
      "                *******                 \n",
      "               *********                \n",
      "              ***********               \n",
      "             *************              \n",
      "            ***************             \n",
      "           *****************            \n",
      "          *******************           \n",
      "         *********************          \n",
      "        ***********************         \n",
      "                  ***                   \n",
      "                  ***                   \n",
      "                  ***                   \n"
     ]
    }
   ],
   "source": [
    "i = 0 \n",
    "star = '*'\n",
    "tree_size = 12\n",
    "trunk = 3 \n",
    "\n",
    "while i < tree_size: \n",
    "    print(star.center(40))\n",
    "    star += '**' \n",
    "    i += 1 \n",
    "\n",
    "while i < (tree_size + trunk):\n",
    "    print('***'.center(40))\n",
    "    i = i +1 \n",
    "    "
   ]
  },
  {
   "cell_type": "code",
   "execution_count": 11,
   "id": "603bdae1",
   "metadata": {},
   "outputs": [
    {
     "name": "stdout",
     "output_type": "stream",
     "text": [
      "\n",
      "1\n",
      "22\n",
      "333\n",
      "4444\n",
      "55555\n"
     ]
    }
   ],
   "source": [
    "rows = 5 \n",
    "for i in range(rows+1):\n",
    "    for j in range(i):\n",
    "        print(i, end = '')\n",
    "    print('')"
   ]
  },
  {
   "cell_type": "code",
   "execution_count": 14,
   "id": "c844298a",
   "metadata": {},
   "outputs": [
    {
     "name": "stdout",
     "output_type": "stream",
     "text": [
      "++++ +++++\n",
      "++++ 1+++++\n",
      "+++ 22++++\n",
      "+++ 333++++\n",
      "++ 4444+++\n",
      "++ 55555+++\n",
      "+ 666666++\n",
      "+ 7777777++\n",
      " 88888888+\n"
     ]
    }
   ],
   "source": [
    "list_number = [1,2,3,4,5,6,7,8,9]\n",
    "i = 10 \n",
    "for number in range(9):\n",
    "    print((int((i-1)/2))*'+', str(number)*number + (int((i+1)/2))*'+')\n",
    "    i -= 1"
   ]
  },
  {
   "cell_type": "markdown",
   "id": "7c235997",
   "metadata": {},
   "source": [
    "## Continue : skips to the next iteration of the loop"
   ]
  },
  {
   "cell_type": "code",
   "execution_count": 18,
   "id": "1e24a40d",
   "metadata": {},
   "outputs": [
    {
     "name": "stdout",
     "output_type": "stream",
     "text": [
      "apples\n",
      "cherry\n"
     ]
    }
   ],
   "source": [
    "fruits = ['bananas', 'apples', 'cherry']\n",
    "for x in fruits:\n",
    "    if x == 'bananas':\n",
    "       continue\n",
    "    print(x)"
   ]
  },
  {
   "cell_type": "code",
   "execution_count": 19,
   "id": "d2937ab0",
   "metadata": {},
   "outputs": [
    {
     "name": "stdout",
     "output_type": "stream",
     "text": [
      "1\n",
      "2\n",
      "4\n",
      "5\n",
      "6\n"
     ]
    }
   ],
   "source": [
    "i = 0 \n",
    "while i < 6: \n",
    "    i = i + 1\n",
    "    if i == 3:\n",
    "        continue\n",
    "    print(i)"
   ]
  },
  {
   "cell_type": "markdown",
   "id": "ad5ea85e",
   "metadata": {},
   "source": [
    "## Break stops the Loop"
   ]
  },
  {
   "cell_type": "code",
   "execution_count": 24,
   "id": "af801d31",
   "metadata": {},
   "outputs": [
    {
     "name": "stdout",
     "output_type": "stream",
     "text": [
      "bananas\n",
      "apples\n"
     ]
    }
   ],
   "source": [
    "fruits = ['bananas', 'apples', 'cherry']\n",
    "\n",
    "for x in fruits:\n",
    "    print(x)\n",
    "    if x == 'apples': \n",
    "        break\n",
    "    "
   ]
  },
  {
   "cell_type": "code",
   "execution_count": 25,
   "id": "99547131",
   "metadata": {},
   "outputs": [
    {
     "name": "stdout",
     "output_type": "stream",
     "text": [
      "1\n",
      "2\n",
      "3\n"
     ]
    }
   ],
   "source": [
    "i = 1 \n",
    "while i < 6:\n",
    "    print(i)\n",
    "    if i == 3:\n",
    "        break\n",
    "    i += 1"
   ]
  },
  {
   "cell_type": "markdown",
   "id": "c430402a",
   "metadata": {},
   "source": [
    "## Pass empty for loop"
   ]
  },
  {
   "cell_type": "code",
   "execution_count": 35,
   "id": "644a2a82",
   "metadata": {},
   "outputs": [
    {
     "data": {
      "text/plain": [
       "[]"
      ]
     },
     "execution_count": 35,
     "metadata": {},
     "output_type": "execute_result"
    }
   ],
   "source": [
    "mylist = []\n",
    "for x in [1,2,3]:\n",
    "  pass\n",
    "\n",
    "mylist"
   ]
  },
  {
   "cell_type": "code",
   "execution_count": 34,
   "id": "bed49b97",
   "metadata": {},
   "outputs": [
    {
     "data": {
      "text/plain": [
       "[]"
      ]
     },
     "execution_count": 34,
     "metadata": {},
     "output_type": "execute_result"
    }
   ],
   "source": [
    "mylist = []\n",
    "for x in [1,2,3]:\n",
    "    break\n",
    "    mylist.append(x)\n",
    "\n",
    "\n",
    "\n",
    "mylist"
   ]
  },
  {
   "cell_type": "markdown",
   "id": "449edae5",
   "metadata": {},
   "source": [
    "## Nested For loops"
   ]
  },
  {
   "cell_type": "code",
   "execution_count": 37,
   "id": "21954932",
   "metadata": {},
   "outputs": [
    {
     "name": "stdout",
     "output_type": "stream",
     "text": [
      "Jon eats in Japanese\n",
      "Jon eats in Mexican\n",
      "Jon eats in French\n",
      "Pete eats in Japanese\n",
      "Pete eats in Mexican\n",
      "Pete eats in French\n",
      "Mary eats in Japanese\n",
      "Mary eats in Mexican\n",
      "Mary eats in French\n"
     ]
    }
   ],
   "source": [
    "persons = ['Jon', 'Pete', 'Mary']\n",
    "food = ['Japanese', 'Mexican', 'French']\n",
    "\n",
    "for person in persons:\n",
    "    for restaurant in food:\n",
    "        print(person + ' eats in ' + restaurant)\n",
    "        \n",
    "        \n"
   ]
  },
  {
   "cell_type": "markdown",
   "id": "dad25717",
   "metadata": {},
   "source": [
    "## Nested if statements"
   ]
  },
  {
   "cell_type": "code",
   "execution_count": 47,
   "id": "05f1f036",
   "metadata": {},
   "outputs": [
    {
     "name": "stdout",
     "output_type": "stream",
     "text": [
      "Enter a number:14\n",
      "Not a number please try again\n"
     ]
    },
    {
     "ename": "TypeError",
     "evalue": "'>=' not supported between instances of 'str' and 'int'",
     "output_type": "error",
     "traceback": [
      "\u001b[0;31m---------------------------------------------------------------------------\u001b[0m",
      "\u001b[0;31mTypeError\u001b[0m                                 Traceback (most recent call last)",
      "\u001b[0;32m<ipython-input-47-e3c5748c4fac>\u001b[0m in \u001b[0;36m<module>\u001b[0;34m\u001b[0m\n\u001b[1;32m      4\u001b[0m     \u001b[0mprint\u001b[0m\u001b[0;34m(\u001b[0m\u001b[0;34m'Not a number please try again'\u001b[0m\u001b[0;34m)\u001b[0m\u001b[0;34m\u001b[0m\u001b[0;34m\u001b[0m\u001b[0m\n\u001b[1;32m      5\u001b[0m \u001b[0;34m\u001b[0m\u001b[0m\n\u001b[0;32m----> 6\u001b[0;31m \u001b[0;32mif\u001b[0m \u001b[0mnum\u001b[0m \u001b[0;34m>=\u001b[0m \u001b[0;36m0\u001b[0m\u001b[0;34m:\u001b[0m\u001b[0;34m\u001b[0m\u001b[0;34m\u001b[0m\u001b[0m\n\u001b[0m\u001b[1;32m      7\u001b[0m     \u001b[0;32mif\u001b[0m \u001b[0mnum\u001b[0m \u001b[0;34m==\u001b[0m \u001b[0;36m0\u001b[0m\u001b[0;34m:\u001b[0m\u001b[0;34m\u001b[0m\u001b[0;34m\u001b[0m\u001b[0m\n\u001b[1;32m      8\u001b[0m         \u001b[0mprint\u001b[0m\u001b[0;34m(\u001b[0m\u001b[0;34m'Number is zero'\u001b[0m\u001b[0;34m)\u001b[0m\u001b[0;34m\u001b[0m\u001b[0;34m\u001b[0m\u001b[0m\n",
      "\u001b[0;31mTypeError\u001b[0m: '>=' not supported between instances of 'str' and 'int'"
     ]
    }
   ],
   "source": [
    "num = float(input('Enter a number:'))\n",
    "\n",
    "if (type(num) != int):\n",
    "    print('Not a number please try again')\n",
    "    \n",
    "if num >= 0: \n",
    "    if num == 0: \n",
    "        print('Number is zero')\n",
    "    else: \n",
    "        print('Positive')\n",
    "if num < 0: \n",
    "    print('Number is negative')\n",
    "\n"
   ]
  },
  {
   "cell_type": "code",
   "execution_count": 49,
   "id": "030ec2e8",
   "metadata": {},
   "outputs": [
    {
     "data": {
      "text/plain": [
       "14.0"
      ]
     },
     "execution_count": 49,
     "metadata": {},
     "output_type": "execute_result"
    }
   ],
   "source": [
    "float('14')"
   ]
  },
  {
   "cell_type": "markdown",
   "id": "fbf4f60a",
   "metadata": {},
   "source": [
    "# FUNctions"
   ]
  },
  {
   "cell_type": "code",
   "execution_count": 2,
   "id": "9b141e7f",
   "metadata": {},
   "outputs": [
    {
     "name": "stdout",
     "output_type": "stream",
     "text": [
      "Hello students!\n"
     ]
    }
   ],
   "source": [
    "def print_greeting():\n",
    "    print('Hello students!')\n",
    "    \n",
    "print_greeting()"
   ]
  },
  {
   "cell_type": "code",
   "execution_count": 3,
   "id": "201bf0b1",
   "metadata": {},
   "outputs": [
    {
     "name": "stdout",
     "output_type": "stream",
     "text": [
      "2021/8/13\n"
     ]
    }
   ],
   "source": [
    "def print_date(month, day , year):\n",
    "    joined = str(year) + '/' + str(month) +'/' + str(day)\n",
    "    print(joined)\n",
    "\n",
    "print_date(8,13,2021)"
   ]
  },
  {
   "cell_type": "code",
   "execution_count": 4,
   "id": "f25db67e",
   "metadata": {},
   "outputs": [],
   "source": [
    "def averages(values):\n",
    "    if len(values) == 0: \n",
    "        return None\n",
    "    return(sum(values)/len(values))"
   ]
  },
  {
   "cell_type": "code",
   "execution_count": 5,
   "id": "da0f4705",
   "metadata": {},
   "outputs": [
    {
     "data": {
      "text/plain": [
       "7.0"
      ]
     },
     "execution_count": 5,
     "metadata": {},
     "output_type": "execute_result"
    }
   ],
   "source": [
    "averages([5,6,7,10])"
   ]
  },
  {
   "cell_type": "code",
   "execution_count": 7,
   "id": "340cdb11",
   "metadata": {},
   "outputs": [
    {
     "ename": "TypeError",
     "evalue": "unsupported operand type(s) for +: 'int' and 'str'",
     "output_type": "error",
     "traceback": [
      "\u001b[0;31m---------------------------------------------------------------------------\u001b[0m",
      "\u001b[0;31mTypeError\u001b[0m                                 Traceback (most recent call last)",
      "\u001b[0;32m/var/folders/q2/2v_9qp1s1n9635tlzjm697gc0000gr/T/ipykernel_31343/3088457159.py\u001b[0m in \u001b[0;36m<module>\u001b[0;34m\u001b[0m\n\u001b[0;32m----> 1\u001b[0;31m \u001b[0maverages\u001b[0m\u001b[0;34m(\u001b[0m\u001b[0;34m'hello'\u001b[0m\u001b[0;34m)\u001b[0m\u001b[0;34m\u001b[0m\u001b[0;34m\u001b[0m\u001b[0m\n\u001b[0m",
      "\u001b[0;32m/var/folders/q2/2v_9qp1s1n9635tlzjm697gc0000gr/T/ipykernel_31343/2912225263.py\u001b[0m in \u001b[0;36maverages\u001b[0;34m(values)\u001b[0m\n\u001b[1;32m      2\u001b[0m     \u001b[0;32mif\u001b[0m \u001b[0mlen\u001b[0m\u001b[0;34m(\u001b[0m\u001b[0mvalues\u001b[0m\u001b[0;34m)\u001b[0m \u001b[0;34m==\u001b[0m \u001b[0;36m0\u001b[0m\u001b[0;34m:\u001b[0m\u001b[0;34m\u001b[0m\u001b[0;34m\u001b[0m\u001b[0m\n\u001b[1;32m      3\u001b[0m         \u001b[0;32mreturn\u001b[0m \u001b[0;32mNone\u001b[0m\u001b[0;34m\u001b[0m\u001b[0;34m\u001b[0m\u001b[0m\n\u001b[0;32m----> 4\u001b[0;31m     \u001b[0;32mreturn\u001b[0m\u001b[0;34m(\u001b[0m\u001b[0msum\u001b[0m\u001b[0;34m(\u001b[0m\u001b[0mvalues\u001b[0m\u001b[0;34m)\u001b[0m\u001b[0;34m/\u001b[0m\u001b[0mlen\u001b[0m\u001b[0;34m(\u001b[0m\u001b[0mvalues\u001b[0m\u001b[0;34m)\u001b[0m\u001b[0;34m)\u001b[0m\u001b[0;34m\u001b[0m\u001b[0;34m\u001b[0m\u001b[0m\n\u001b[0m",
      "\u001b[0;31mTypeError\u001b[0m: unsupported operand type(s) for +: 'int' and 'str'"
     ]
    }
   ],
   "source": [
    "averages('hello') ## will not work since you need numeric values"
   ]
  },
  {
   "cell_type": "code",
   "execution_count": 64,
   "id": "10e84984",
   "metadata": {},
   "outputs": [],
   "source": [
    "def birthday_func(month, date):\n",
    "    print('My birthday is on the month of : '+ str(month))\n",
    "    print('My birthday is on the : ' + str(date))\n",
    "    "
   ]
  },
  {
   "cell_type": "code",
   "execution_count": 65,
   "id": "e73490f7",
   "metadata": {},
   "outputs": [
    {
     "name": "stdout",
     "output_type": "stream",
     "text": [
      "My birthday is on the month of : 7\n",
      "My birthday is on the : 14\n"
     ]
    }
   ],
   "source": [
    "birthday_func(7,14)"
   ]
  },
  {
   "cell_type": "code",
   "execution_count": 67,
   "id": "84ce814b",
   "metadata": {},
   "outputs": [
    {
     "name": "stdout",
     "output_type": "stream",
     "text": [
      "My birthday is on the month of : July\n",
      "My birthday is on the : 14\n"
     ]
    }
   ],
   "source": [
    "birthday_func('July', 14)"
   ]
  },
  {
   "cell_type": "code",
   "execution_count": 68,
   "id": "3264efe4",
   "metadata": {},
   "outputs": [
    {
     "name": "stdout",
     "output_type": "stream",
     "text": [
      "My birthday is on the month of : July\n",
      "My birthday is on the : 14\n"
     ]
    }
   ],
   "source": [
    "birthday_func('July', '14')"
   ]
  },
  {
   "cell_type": "code",
   "execution_count": 69,
   "id": "45d3b3f3",
   "metadata": {},
   "outputs": [
    {
     "name": "stdout",
     "output_type": "stream",
     "text": [
      "My birthday is on the month of : 7\n",
      "My birthday is on the : 14\n"
     ]
    }
   ],
   "source": [
    "birthday_func(7, '14')"
   ]
  },
  {
   "cell_type": "code",
   "execution_count": 26,
   "id": "00bf101e",
   "metadata": {},
   "outputs": [
    {
     "name": "stdout",
     "output_type": "stream",
     "text": [
      "-1\n",
      "None\n"
     ]
    }
   ],
   "source": [
    "def first_negative(values):\n",
    "    for v in values:\n",
    "        if v < 0:\n",
    "            return v\n",
    "\n",
    "print(first_negative([5, 6,-1, 9 , 10]))\n",
    "print(first_negative([]))"
   ]
  },
  {
   "cell_type": "code",
   "execution_count": 28,
   "id": "6269d298",
   "metadata": {},
   "outputs": [
    {
     "name": "stdout",
     "output_type": "stream",
     "text": [
      "-1\n"
     ]
    },
    {
     "ename": "AssertionError",
     "evalue": "",
     "output_type": "error",
     "traceback": [
      "\u001b[0;31m---------------------------------------------------------------------------\u001b[0m",
      "\u001b[0;31mAssertionError\u001b[0m                            Traceback (most recent call last)",
      "\u001b[0;32m/var/folders/q2/2v_9qp1s1n9635tlzjm697gc0000gr/T/ipykernel_80446/702084639.py\u001b[0m in \u001b[0;36m<module>\u001b[0;34m\u001b[0m\n\u001b[1;32m      9\u001b[0m \u001b[0mprint\u001b[0m\u001b[0;34m(\u001b[0m\u001b[0mresult\u001b[0m\u001b[0;34m)\u001b[0m  \u001b[0;31m# Output: -1\u001b[0m\u001b[0;34m\u001b[0m\u001b[0;34m\u001b[0m\u001b[0m\n\u001b[1;32m     10\u001b[0m \u001b[0;34m\u001b[0m\u001b[0m\n\u001b[0;32m---> 11\u001b[0;31m \u001b[0mresult\u001b[0m \u001b[0;34m=\u001b[0m \u001b[0mfirst_negative\u001b[0m\u001b[0;34m(\u001b[0m\u001b[0;34m[\u001b[0m\u001b[0;34m]\u001b[0m\u001b[0;34m)\u001b[0m  \u001b[0;31m# Raises an AssertionError since the input list is empty\u001b[0m\u001b[0;34m\u001b[0m\u001b[0;34m\u001b[0m\u001b[0m\n\u001b[0m",
      "\u001b[0;32m/var/folders/q2/2v_9qp1s1n9635tlzjm697gc0000gr/T/ipykernel_80446/702084639.py\u001b[0m in \u001b[0;36mfirst_negative\u001b[0;34m(values)\u001b[0m\n\u001b[1;32m      1\u001b[0m \u001b[0;32mdef\u001b[0m \u001b[0mfirst_negative\u001b[0m\u001b[0;34m(\u001b[0m\u001b[0mvalues\u001b[0m\u001b[0;34m)\u001b[0m\u001b[0;34m:\u001b[0m\u001b[0;34m\u001b[0m\u001b[0;34m\u001b[0m\u001b[0m\n\u001b[0;32m----> 2\u001b[0;31m     \u001b[0;32massert\u001b[0m \u001b[0mvalues\u001b[0m \u001b[0;34m!=\u001b[0m \u001b[0;34m[\u001b[0m\u001b[0;34m]\u001b[0m  \u001b[0;31m# Check if the input list is not empty\u001b[0m\u001b[0;34m\u001b[0m\u001b[0;34m\u001b[0m\u001b[0m\n\u001b[0m\u001b[1;32m      3\u001b[0m     \u001b[0;32mfor\u001b[0m \u001b[0mv\u001b[0m \u001b[0;32min\u001b[0m \u001b[0mvalues\u001b[0m\u001b[0;34m:\u001b[0m    \u001b[0;31m# Iterate through each element in the list\u001b[0m\u001b[0;34m\u001b[0m\u001b[0;34m\u001b[0m\u001b[0m\n\u001b[1;32m      4\u001b[0m         \u001b[0;32mif\u001b[0m \u001b[0mv\u001b[0m \u001b[0;34m<\u001b[0m \u001b[0;36m0\u001b[0m\u001b[0;34m:\u001b[0m       \u001b[0;31m# Check if the element is negative\u001b[0m\u001b[0;34m\u001b[0m\u001b[0;34m\u001b[0m\u001b[0m\n\u001b[1;32m      5\u001b[0m             \u001b[0;32mreturn\u001b[0m \u001b[0mv\u001b[0m    \u001b[0;31m# Return the first negative element\u001b[0m\u001b[0;34m\u001b[0m\u001b[0;34m\u001b[0m\u001b[0m\n",
      "\u001b[0;31mAssertionError\u001b[0m: "
     ]
    }
   ],
   "source": [
    "def first_negative(values):\n",
    "    assert values != []  # Check if the input list is not empty\n",
    "    for v in values:    # Iterate through each element in the list\n",
    "        if v < 0:       # Check if the element is negative\n",
    "            return v    # Return the first negative element\n",
    "\n",
    "# Example usage:\n",
    "result = first_negative([5, 6, -1, 9, 10])\n",
    "print(result)  # Output: -1\n",
    "\n",
    "result = first_negative([])  # Raises an AssertionError since the input list is empty\n"
   ]
  },
  {
   "cell_type": "code",
   "execution_count": 29,
   "id": "37860a93",
   "metadata": {},
   "outputs": [],
   "source": [
    "mylist = [] \n",
    "def first_negative(values):\n",
    "    for v in values:\n",
    "        if v >= 0:\n",
    "            print('I am in this if statement block')\n",
    "            continue\n",
    "        else:\n",
    "            mylist.append(v)\n",
    "            break\n",
    "            \n",
    "    if len(mylist) == 1 : \n",
    "        return mylist\n",
    "    else:\n",
    "        return'There are no negatives'\n",
    "    \n",
    "        "
   ]
  },
  {
   "cell_type": "code",
   "execution_count": 30,
   "id": "5ca9196b",
   "metadata": {},
   "outputs": [
    {
     "name": "stdout",
     "output_type": "stream",
     "text": [
      "I am in this if statement block\n",
      "I am in this if statement block\n",
      "I am in this if statement block\n",
      "I am in this if statement block\n"
     ]
    },
    {
     "data": {
      "text/plain": [
       "'There are no negatives'"
      ]
     },
     "execution_count": 30,
     "metadata": {},
     "output_type": "execute_result"
    }
   ],
   "source": [
    "first_negative([1,2,3,4])\n"
   ]
  },
  {
   "cell_type": "code",
   "execution_count": 89,
   "id": "26fc2177",
   "metadata": {},
   "outputs": [
    {
     "data": {
      "text/plain": [
       "[-5]"
      ]
     },
     "execution_count": 89,
     "metadata": {},
     "output_type": "execute_result"
    }
   ],
   "source": [
    "mylist"
   ]
  },
  {
   "cell_type": "markdown",
   "id": "27f26d97",
   "metadata": {},
   "source": [
    "## The point of (No) returns"
   ]
  },
  {
   "cell_type": "code",
   "execution_count": 101,
   "id": "743c6e2a",
   "metadata": {},
   "outputs": [
    {
     "name": "stdout",
     "output_type": "stream",
     "text": [
      "hello\n",
      "hello\n",
      "hello\n",
      "hello\n"
     ]
    }
   ],
   "source": [
    "def func_returns(): \n",
    "    print('hello')\n",
    "    print('hello')\n",
    "    print('hello')\n",
    "    print('hello')\n",
    "func_returns()"
   ]
  },
  {
   "cell_type": "code",
   "execution_count": null,
   "id": "018cde6f",
   "metadata": {},
   "outputs": [],
   "source": []
  },
  {
   "cell_type": "code",
   "execution_count": 9,
   "id": "87739e99",
   "metadata": {},
   "outputs": [
    {
     "data": {
      "text/plain": [
       "'hello'"
      ]
     },
     "execution_count": 9,
     "metadata": {},
     "output_type": "execute_result"
    }
   ],
   "source": [
    "def func_returns(a): \n",
    "    if(a <= 5):\n",
    "        return('hello')\n",
    "    if(a >= 10):\n",
    "        return('bye')\n",
    "\n",
    "func_returns() ## what will this pring"
   ]
  },
  {
   "cell_type": "markdown",
   "id": "e8ee9038",
   "metadata": {},
   "source": [
    "## Local/Global variables"
   ]
  },
  {
   "cell_type": "code",
   "execution_count": 115,
   "id": "948ec5ff",
   "metadata": {},
   "outputs": [
    {
     "name": "stdout",
     "output_type": "stream",
     "text": [
      "15\n",
      "15\n"
     ]
    },
    {
     "ename": "NameError",
     "evalue": "name 'y' is not defined",
     "output_type": "error",
     "traceback": [
      "\u001b[0;31m---------------------------------------------------------------------------\u001b[0m",
      "\u001b[0;31mNameError\u001b[0m                                 Traceback (most recent call last)",
      "\u001b[0;32m<ipython-input-115-f115e8ead91e>\u001b[0m in \u001b[0;36m<module>\u001b[0;34m\u001b[0m\n\u001b[1;32m      6\u001b[0m \u001b[0;34m\u001b[0m\u001b[0m\n\u001b[1;32m      7\u001b[0m \u001b[0mprint\u001b[0m\u001b[0;34m(\u001b[0m\u001b[0mmath_ploy\u001b[0m\u001b[0;34m(\u001b[0m\u001b[0;36m5\u001b[0m\u001b[0;34m)\u001b[0m\u001b[0;34m)\u001b[0m\u001b[0;34m\u001b[0m\u001b[0;34m\u001b[0m\u001b[0m\n\u001b[0;32m----> 8\u001b[0;31m \u001b[0mprint\u001b[0m\u001b[0;34m(\u001b[0m\u001b[0my\u001b[0m\u001b[0;34m)\u001b[0m\u001b[0;34m\u001b[0m\u001b[0;34m\u001b[0m\u001b[0m\n\u001b[0m",
      "\u001b[0;31mNameError\u001b[0m: name 'y' is not defined"
     ]
    }
   ],
   "source": [
    "b = 10\n",
    "def math_ploy(x1):\n",
    "    y = x1 + b \n",
    "    print(y)\n",
    "    return y\n",
    "\n",
    "print(math_ploy(5))\n",
    "print(y)"
   ]
  },
  {
   "cell_type": "code",
   "execution_count": 129,
   "id": "1c03f351",
   "metadata": {},
   "outputs": [],
   "source": [
    "var = 5\n",
    "var2 =4\n",
    "\n",
    "def func_type1():\n",
    "    return 'hello'\n",
    "\n",
    "def func_type2(var):\n",
    "    print(var)\n",
    "\n",
    "def func_type3(cat = var, dog = var2):\n",
    "    print(cat -1)\n",
    "    print(dog -1)"
   ]
  },
  {
   "cell_type": "code",
   "execution_count": 119,
   "id": "bba9657b",
   "metadata": {},
   "outputs": [
    {
     "data": {
      "text/plain": [
       "'hello'"
      ]
     },
     "execution_count": 119,
     "metadata": {},
     "output_type": "execute_result"
    }
   ],
   "source": [
    "func_type1()"
   ]
  },
  {
   "cell_type": "code",
   "execution_count": 123,
   "id": "b25666f9",
   "metadata": {},
   "outputs": [
    {
     "name": "stdout",
     "output_type": "stream",
     "text": [
      "5\n"
     ]
    }
   ],
   "source": [
    "func_type2(5)"
   ]
  },
  {
   "cell_type": "code",
   "execution_count": 130,
   "id": "5306eda8",
   "metadata": {},
   "outputs": [
    {
     "name": "stdout",
     "output_type": "stream",
     "text": [
      "9\n",
      "5\n"
     ]
    }
   ],
   "source": [
    "func_type3(cat=10, dog = 6)"
   ]
  },
  {
   "cell_type": "code",
   "execution_count": 137,
   "id": "0f6bae80",
   "metadata": {},
   "outputs": [
    {
     "name": "stdout",
     "output_type": "stream",
     "text": [
      "5\n",
      "this is my nested function\n"
     ]
    }
   ],
   "source": [
    "def a():\n",
    "    return 5\n",
    "\n",
    "def b(y):\n",
    "    print('this is my nested function')\n",
    "    \n",
    "y = a()\n",
    "print(y)\n",
    "b(y)"
   ]
  },
  {
   "cell_type": "code",
   "execution_count": null,
   "id": "dd8ef298",
   "metadata": {},
   "outputs": [],
   "source": [
    "# Let's create a solution for the intermediate in-class Python problem for graduate students in astrophysics.\n",
    "\n",
    "import pandas as pd\n",
    "import numpy as np\n",
    "import matplotlib.pyplot as plt\n",
    "\n",
    "# Load the data\n",
    "# Assuming the data is available as a dictionary for demonstration purposes.\n",
    "data = {\n",
    "    'ID': np.arange(1, 101),\n",
    "    'RA': np.random.uniform(0, 360, 100),\n",
    "    'DEC': np.random.uniform(-90, 90, 100),\n",
    "    'Magnitude': np.random.normal(10, 2, 100),\n",
    "    'Color_Index': np.random.normal(0.5, 0.3, 100),\n",
    "    'Mass': np.random.normal(1, 0.5, 100)\n",
    "}\n",
    "\n",
    "# Convert to DataFrame\n",
    "df = pd.DataFrame(data)\n",
    "\n",
    "# Basic Statistics\n",
    "mean_magnitude = df['Magnitude'].mean()\n",
    "median_magnitude = df['Magnitude'].median()\n",
    "std_magnitude = df['Magnitude'].std()\n",
    "\n",
    "mean_mass = df['Mass'].mean()\n",
    "median_mass = df['Mass'].median()\n",
    "std_mass = df['Mass'].std()\n",
    "\n",
    "# Luminosity Function\n",
    "plt.figure(figsize=(8, 5))\n",
    "plt.hist(df['Magnitude'], bins=20, edgecolor='black')\n",
    "plt.xlabel('Magnitude')\n",
    "plt.ylabel('Number of Stars')\n",
    "plt.title('Luminosity Function')\n",
    "plt.grid(True)\n",
    "plt.show()\n",
    "\n",
    "# Color-Magnitude Diagram (CMD)\n",
    "plt.figure(figsize=(8, 5))\n",
    "plt.scatter(df['Color_Index'], df['Magnitude'], color='blue', s=10)\n",
    "plt.gca().invert_yaxis()  # Invert y-axis\n",
    "plt.xlabel('Color Index (B-V)')\n",
    "plt.ylabel('Magnitude')\n",
    "plt.title('Color-Magnitude Diagram')\n",
    "plt.grid(True)\n",
    "plt.show()\n",
    "\n",
    "# Mass Distribution\n",
    "plt.figure(figsize=(8, 5))\n",
    "plt.hist(df['Mass'], bins=20, edgecolor='black')\n",
    "plt.xlabel('Mass (Solar Masses)')\n",
    "plt.ylabel('Number of Stars')\n",
    "plt.title('Mass Distribution')\n",
    "plt.grid(True)\n",
    "plt.show()\n",
    "\n",
    "# Identify Main Sequence Stars\n",
    "def filter_main_sequence(df, min_mag, max_mag):\n",
    "    return df[(df['Magnitude'] >= min_mag) & (df['Magnitude'] <= max_mag)]\n",
    "\n",
    "main_sequence = filter_main_sequence(df, min_mag=8, max_mag=12)\n",
    "\n",
    "plt.figure(figsize=(8, 5))\n",
    "plt.scatter(main_sequence['Color_Index'], main_sequence['Magnitude'], color='red', s=10)\n",
    "plt.gca().invert_yaxis()  # Invert y-axis\n",
    "plt.xlabel('Color Index (B-V)')\n",
    "plt.ylabel('Magnitude')\n",
    "plt.title('Main Sequence Stars in CMD')\n",
    "plt.grid(True)\n",
    "plt.show()\n",
    "\n",
    "# Basic statistics output\n",
    "{\n",
    "    \"mean_magnitude\": mean_magnitude,\n",
    "    \"median_magnitude\": median_magnitude,\n",
    "    \"std_magnitude\": std_magnitude,\n",
    "    \"mean_mass\": mean_mass,\n",
    "    \"median_mass\": median_mass,\n",
    "    \"std_mass\": std_mass\n",
    "}\n"
   ]
  },
  {
   "cell_type": "code",
   "execution_count": null,
   "id": "d554eca4",
   "metadata": {},
   "outputs": [],
   "source": []
  }
 ],
 "metadata": {
  "kernelspec": {
   "display_name": "Python 3 (ipykernel)",
   "language": "python",
   "name": "python3"
  },
  "language_info": {
   "codemirror_mode": {
    "name": "ipython",
    "version": 3
   },
   "file_extension": ".py",
   "mimetype": "text/x-python",
   "name": "python",
   "nbconvert_exporter": "python",
   "pygments_lexer": "ipython3",
   "version": "3.9.13"
  }
 },
 "nbformat": 4,
 "nbformat_minor": 5
}
