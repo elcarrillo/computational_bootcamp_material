{
 "cells": [
  {
   "cell_type": "markdown",
   "id": "31ff8d37",
   "metadata": {},
   "source": [
    "# Python Basics\n",
    "### A Simple Calculator\n",
    "\n",
    "Complete (debug) the below script and run it. For it to succesfully run it must ask for user input and then perform the basic operation. \n",
    "\n",
    "Here we will create a basic calculator. We have defined separate functions for each operation (addition, subtraction, multiplication, and division). The user can select the desired operation by entering the corresponding number (1,2,3,4). Then, the program will ask for two numbers, perform the selectred operation using the appropriate function, and display the result.\n",
    "\n",
    "Once you finish debugging, go ahead and add new featuers!\n"
   ]
  },
  {
   "cell_type": "code",
   "execution_count": 2,
   "id": "e814f746",
   "metadata": {},
   "outputs": [],
   "source": [
    "def add(x, y):\n",
    "    return x + y\n",
    "\n",
    "def subtract(x, y):\n",
    "    return x - y            \n",
    "\n",
    "def multiply(x, y):\n",
    "    return x*y\n",
    "\n",
    "def divide(x, y):\n",
    "    return x/y\n",
    "\n",
    "def calculator():\n",
    "\n",
    "    # user instructions for caculator use\n",
    "    print(\"Simple Calculator\")  \n",
    "    print(\"Operations: \")\n",
    "    print(\"1. Add\")\n",
    "    print(\"2. Subtract\")\n",
    "    print(\"3. Multiply\")\n",
    "    print(\"4. Divide\")\n",
    "\n",
    "    operation = input(\"Hello, please enter the operation number (1,2,3,4): \") # user input\n",
    "\n",
    "    if operation in ['1', '2', '3', '4']: ## check for correct input\n",
    "        num1 = float(input(\"Enter the first number: \"))\n",
    "        num2 = float(input(\"Enter the second number: \"))\n",
    "        \n",
    "        if operation == '1':\n",
    "            result = add(num1, num2) ## calling add function\n",
    "        elif operation == '2':\n",
    "            result = subtract(num1, num2) ## calling sub fucntion\n",
    "        elif operation == '3'\n",
    "            result = multiply(num1, num2)\n",
    "        else:\n",
    "            result = divide(num1, num2)\n",
    "\n",
    "        print(\"Result:\", result)\n",
    "    else:\n",
    "        print(\"Invalid operation number. Please try again.\")\n",
    "\n",
    "## how do i call/run the function??"
   ]
  },
  {
   "cell_type": "code",
   "execution_count": 10,
   "id": "48a429cc",
   "metadata": {},
   "outputs": [
    {
     "name": "stdout",
     "output_type": "stream",
     "text": [
      "Simple Calculator\n",
      "Operations: \n",
      "1. Add\n",
      "2. Subtract\n",
      "3. Multiply\n",
      "4. Divide\n",
      "Mahir, enter the operation number (1,2,3,4): 6\n",
      "Invalid operation number. Please try again.\n"
     ]
    }
   ],
   "source": [
    "calculator()"
   ]
  },
  {
   "cell_type": "code",
   "execution_count": 13,
   "id": "8eb7e0a1",
   "metadata": {},
   "outputs": [
    {
     "data": {
      "text/plain": [
       "-1"
      ]
     },
     "execution_count": 13,
     "metadata": {},
     "output_type": "execute_result"
    }
   ],
   "source": [
    "subtract(2,3)"
   ]
  },
  {
   "cell_type": "code",
   "execution_count": null,
   "id": "387b6c97",
   "metadata": {},
   "outputs": [],
   "source": []
  }
 ],
 "metadata": {
  "kernelspec": {
   "display_name": "Python 3 (ipykernel)",
   "language": "python",
   "name": "python3"
  },
  "language_info": {
   "codemirror_mode": {
    "name": "ipython",
    "version": 3
   },
   "file_extension": ".py",
   "mimetype": "text/x-python",
   "name": "python",
   "nbconvert_exporter": "python",
   "pygments_lexer": "ipython3",
   "version": "3.9.13"
  }
 },
 "nbformat": 4,
 "nbformat_minor": 5
}
