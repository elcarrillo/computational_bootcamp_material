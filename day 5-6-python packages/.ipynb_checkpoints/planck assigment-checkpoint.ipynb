{
 "cells": [
  {
   "cell_type": "markdown",
   "id": "afd902f7",
   "metadata": {},
   "source": [
    "# in class practice"
   ]
  },
  {
   "cell_type": "markdown",
   "id": "bd0654f5",
   "metadata": {},
   "source": [
    "## Planck Spectrum\n",
    "\n",
    "The next step is to write a script that generates the Planck spectrum (wavelength and intensity at that wavelength for many wavelenghts)\n",
    "\n",
    "> Create an equation in Python syntax such that for temperature T=300 K, and wavelenth ($\\lambda = 1cm$) it finds the intensity of a Planck Spectrum\n",
    "\n",
    "Planck Spectrum:\n",
    "\n",
    "$$\n",
    "I = \\frac{2hc^2}{\\lambda^5}\\frac{1}{e^{hc/(\\lambda\\ k T)} - 1}\n",
    "$$"
   ]
  },
  {
   "cell_type": "code",
   "execution_count": null,
   "id": "132f695d",
   "metadata": {},
   "outputs": [],
   "source": [
    "import math\n",
    "\n",
    "def planck_intensity(temperature, wavelength):\n",
    "    h = 6.626e-34  # Planck's constant in J*s\n",
    "    c = 3.0e8      # Speed of light in m/s\n",
    "    k = 1.38e-23   # Boltzmann constant in J/K\n",
    "    \n",
    " \n",
    "    \n",
    "    intensity = \n",
    "    return intensity\n",
    "\n",
    "temperature = 300  # Temperature in Kelvin\n",
    "wavelength = 1     # Wavelength in cm\n",
    "\n",
    "\n",
    "\n",
    "#print(f\"The intensity of the Planck spectrum at {temperature} K and {wavelength} cm wavelength is: {intensity} W/m^2/sr\")\n",
    "\n"
   ]
  },
  {
   "cell_type": "code",
   "execution_count": 13,
   "id": "17011e29",
   "metadata": {},
   "outputs": [],
   "source": [
    "## plot the results"
   ]
  },
  {
   "cell_type": "markdown",
   "id": "30baf161",
   "metadata": {},
   "source": [
    "### Method 1\n",
    "\n",
    "This method uses does the following:\n",
    "\n",
    "- Constructs a dictionary with known values for the constants, i.e. $h, c, k$\n",
    "- Creates a function to calculate the Planck spectrum, $I$\n",
    "- Plots the Planck spectrum at every wavelength for a given Temperature $T$"
   ]
  },
  {
   "cell_type": "code",
   "execution_count": 17,
   "id": "071250a2",
   "metadata": {},
   "outputs": [],
   "source": [
    "## First import your modules\n",
    "\n",
    "import os\n",
    "import sys\n",
    "import numpy as np\n",
    "import matplotlib.pyplot as plt"
   ]
  },
  {
   "cell_type": "code",
   "execution_count": 18,
   "id": "89cd94c8",
   "metadata": {},
   "outputs": [],
   "source": [
    "## Dictionary of constants\n",
    "def const_dict_func():\n",
    "    \"\"\"\n",
    "    Dictionary of constants\n",
    "\n",
    "    Returns\n",
    "    ---------\n",
    "    const_dict : `dict`\n",
    "        Dictionary of constants\n",
    "    \"\"\"\n",
    "    const_dict = {}\n",
    "    const_dict['c'] = 3.0e8    # Speed of light\n",
    "    const_dict['h'] = 6.62e-34 # Planck's constant\n",
    "    const_dict['k'] = 1.38e-23 # Boltzmann's constant\n",
    "\n",
    "    return const_dict"
   ]
  },
  {
   "cell_type": "markdown",
   "id": "32587760",
   "metadata": {},
   "source": [
    "This will let you call the dictionary and get the _values_ for each of the constants.\n",
    "\n",
    "Keep in mind that the we had to know the __units__ beforehand. There are other ways to do this, but\n",
    "we'll discuss them at the end.\n"
   ]
  },
  {
   "cell_type": "markdown",
   "id": "c1850cb0",
   "metadata": {},
   "source": [
    "### Function for calculating the Power spectrum for a given wavelength $\\lambda$ and at fixed Temperature $T$"
   ]
  },
  {
   "cell_type": "code",
   "execution_count": 19,
   "id": "7cb7bac2",
   "metadata": {},
   "outputs": [],
   "source": [
    "def planck_spectrum(T, wavelen):\n",
    "    \"\"\"\n",
    "    Computes the Planck spectrum for a given Temperature and wavelength\n",
    "\n",
    "    Parameters\n",
    "    -----------\n",
    "    T : `float`, `int`\n",
    "        Temperature used. In units of `Kelvin`\n",
    "\n",
    "    wavelen : `float`, `int`\n",
    "        Wavelengths to evaluate\n",
    "\n",
    "    Returns\n",
    "    -----------\n",
    "    I : `np.ndarray`, `float`, `int`\n",
    "        Intensity of the Power spectrum at given temperature and wavelength\n",
    "    \"\"\"\n",
    "    ## Constants\n",
    "    # Calling function `const_dict_func` and saving output as a dictionary\n",
    "    const_dict = const_dict_func()\n",
    "    # Saving values of constants as new variables\n",
    "    c = const_dict['c']\n",
    "    h = const_dict['h']\n",
    "    k = const_dict['k']\n",
    "    ## Computing the Planck spectrum or 'radiance'\n",
    "    # Radiance\n",
    "    I = (2 * h * c ** 5) / (wavelen**5)\n",
    "    I *= 1./(-1. + np.exp((h * c)/(wavelen * k * T)))\n",
    "\n",
    "    return I"
   ]
  },
  {
   "cell_type": "markdown",
   "id": "2661f9d7",
   "metadata": {},
   "source": [
    "#### Function for _plotting_ the data\n",
    "\n",
    "This function will plot the spectrum for the Planck spectrum as function of wavelength $\\alpha$ at fixed Temperature $T$"
   ]
  },
  {
   "cell_type": "code",
   "execution_count": 20,
   "id": "c65c3312",
   "metadata": {},
   "outputs": [],
   "source": [
    "## Plotting data\n",
    "def plot_planck(data, T):\n",
    "    \"\"\"\n",
    "    Plots the Planck spectrum\n",
    "\n",
    "    Parameters\n",
    "    ------------\n",
    "    data : `np.ndarray`\n",
    "        Data containing wavelength and planck spectrum information.\n",
    "        Shape is (N, 2)\n",
    "    \n",
    "    T : `float`, `int`\n",
    "        Temperature, at which the Planck spectrum is analyzed.\n",
    "    \"\"\"\n",
    "    # Clearing previous figures\n",
    "    plt.clf()\n",
    "    plt.close()\n",
    "    # Initializing figure\n",
    "    fig = plt.figure(figsize=(8,8))\n",
    "    ax  = fig.add_subplot(111, facecolor='white')\n",
    "    # Plotting spectrum\n",
    "    plt.plot(data[:, 0], data[:, 1], marker='o', color='b', linestyle='--',\n",
    "                label='T={0} K'.format(T))\n",
    "    #\n",
    "    # Axis labels\n",
    "    ax.set_xlabel(r'$\\lambda$ [m]', fontsize=20)\n",
    "    ax.set_ylabel('Intensity', fontsize=20)\n",
    "    # Legend\n",
    "    ax.legend(loc='best', prop={'size':20})\n",
    "    #\n",
    "    # Showing figure\n",
    "    plt.show()"
   ]
  },
  {
   "cell_type": "markdown",
   "id": "c15bda97",
   "metadata": {},
   "source": [
    "### Writing the _main_ function:"
   ]
  },
  {
   "cell_type": "code",
   "execution_count": 21,
   "id": "98dd8c1c",
   "metadata": {},
   "outputs": [],
   "source": [
    "def main():\n",
    "    \"\"\"\n",
    "    Main function\n",
    "    \"\"\"\n",
    "    #\n",
    "    # Temperature as an input parameter\n",
    "    T = 300 ## In units Kelvin\n",
    "    #\n",
    "    # Wavelenght\n",
    "    wavelen_min = 1.e-7 # Minimum wavelength in meters\n",
    "    waveln_max  = 6.e-5 #Maximum wavelength in meters\n",
    "    samples     = 100 # Number of steps to output\n",
    "    #\n",
    "    ### List of wavelengths - Computing the wavelengths \n",
    "    # Creating array of number of samples\n",
    "    wavelen = np.arange(samples)\n",
    "    # Populating the array of wavelengths\n",
    "    wavelen = wavelen_min + (waveln_max - wavelen_min) * wavelen / float(samples)\n",
    "    #\n",
    "    # Computing the radiance\n",
    "    radiance = planck_spectrum(T, wavelen)\n",
    "    #\n",
    "    # Stacking the data\n",
    "    data = np.column_stack((wavelen, radiance))\n",
    "    # Sorting data from smallest to largest wavelength\n",
    "    data_sort_idx = np.argsort(data[:,0])\n",
    "    data_sort     = data[data_sort_idx]\n",
    "    #\n",
    "    ## Saving data to file\n",
    "    # Definiing output path and checking if it exists\n",
    "    output_path = '../datafiles'\n",
    "    if not (os.path.exists(output_path)):\n",
    "        os.makedirs(output_path)\n",
    "    # Saving data to file\n",
    "    np.savetxt('{0}/spectrum.dat'.format(output_path), data)\n",
    "    #\n",
    "    # Plotting data\n",
    "    plot_planck(data, T)"
   ]
  },
  {
   "cell_type": "code",
   "execution_count": 22,
   "id": "a4aec1b0",
   "metadata": {},
   "outputs": [
    {
     "data": {
      "image/png": "[encoded data removed]",
      "text/plain": [
       "<Figure size 800x800 with 1 Axes>"
      ]
     },
     "metadata": {},
     "output_type": "display_data"
    }
   ],
   "source": [
    "## Calling main function\n",
    "main()"
   ]
  },
  {
   "cell_type": "markdown",
   "id": "325a9208",
   "metadata": {},
   "source": [
    "### Method 2 - Plotting multiple Planck spectrums\n",
    "\n",
    "Now we can try to the Planck spectrum for multiple temperatures $T$.\n",
    "\n",
    "We will have to modify the some of the functions to include $T$ as part of an argument.\n",
    "We'll modify both the `main` and `plot_planck` functions."
   ]
  },
  {
   "cell_type": "markdown",
   "id": "005dd796",
   "metadata": {},
   "source": [
    "#### Modifying the _plotting_ function\n",
    "\n",
    "We'll modify this function to:\n",
    "\n",
    "- include $T$ as an input parameter,\n",
    "- Loop over the different temperature values in `T_arr`\n",
    "- Choose the color from a colormap"
   ]
  },
  {
   "cell_type": "code",
   "execution_count": null,
   "id": "5cdedf47",
   "metadata": {},
   "outputs": [],
   "source": [
    "## Importing new modules\n",
    "from matplotlib.pyplot import cm\n",
    "\n",
    "## Plotting data\n",
    "def plot_planck_2(data, T_arr):\n",
    "    \"\"\"\n",
    "    Plots the Planck spectrum\n",
    "\n",
    "    Parameters\n",
    "    ------------\n",
    "    data : `np.ndarray`\n",
    "        Data containing wavelength and planck spectrum information.\n",
    "        Shape is ((N, 2), M)\n",
    "    \n",
    "    T_arr : `np.ndarray`\n",
    "        Array of the different temperatures.\n",
    "        Shape, (M, ), i.e. it has `M` number of elements.\n",
    "    \"\"\"\n",
    "    # Defining the colormap\n",
    "    ### color_arr=cm.'FIX'(np.'FIX'('FIX','FIX' , len('FIX'))\n",
    "    \n",
    "    # Clearing previous figures\n",
    "    plt.clf()\n",
    "    plt.close()\n",
    "    # Initializing figure\n",
    "    fig = plt.figure(figsize=(10,10))\n",
    "    ax  = fig.add_subplot(111, facecolor='white')\n",
    "    # Plotting spectrum\n",
    "    \n",
    "    \n",
    "    # Axis labels\n",
    "    \n",
    "    #\n",
    "    # Legend\n",
    "    \n",
    "    #\n",
    "    # Showing figure\n",
    "    "
   ]
  },
  {
   "cell_type": "markdown",
   "id": "c14d0110",
   "metadata": {},
   "source": [
    "#### Modifying the main function to include $T$ as an input parameter\n"
   ]
  },
  {
   "cell_type": "code",
   "execution_count": null,
   "id": "652542c6",
   "metadata": {},
   "outputs": [],
   "source": [
    "def main_2():\n",
    "    \"\"\"\n",
    "    Main function\n",
    "    \"\"\"\n",
    "    #\n",
    "    # Temperature as an input parameter\n",
    "    T_arr = np.arange(300, 1000, 100) ## In units Kelvin\n",
    "    #\n",
    "    # Wavelenght\n",
    "    wavelen_min = 1.e-7 # Minimum wavelength in meters\n",
    "    waveln_max  = 6.e-5 #Maximum wavelength in meters\n",
    "    samples     = 100 # Number of steps to output\n",
    "    #\n",
    "    ### List of wavelengths - Computing the wavelengths \n",
    "    # Creating array of number of samples\n",
    "    wavelen = np.arange(samples)\n",
    "    # Populating the array of wavelengths\n",
    "    wavelen = wavelen_min + (waveln_max - wavelen_min) * wavelen / float(samples)\n",
    "    #\n",
    "    ## Computing the radiance\n",
    "    # Defining array for `data`\n",
    "    data = [[] for x in range(len(T_arr))]\n",
    "    for kk in range(len(T_arr)):\n",
    "        radiance_kk = planck_spectrum(T_arr[kk], wavelen)\n",
    "        # Stacking the data\n",
    "        data_kk = np.column_stack((wavelen, radiance_kk))\n",
    "        # Sorting data from smallest to largest wavelength\n",
    "        data_kk_sort_idx = np.argsort(data_kk[:,0])\n",
    "        data_kk_sort     = data_kk[data_kk_sort_idx]\n",
    "        # Saving to array\n",
    "        data[kk] = data_kk_sort\n",
    "    #\n",
    "    # Plotting data\n",
    "    plot_planck_2(data, T_arr)\n",
    "    "
   ]
  },
  {
   "cell_type": "code",
   "execution_count": null,
   "id": "4f91b647",
   "metadata": {},
   "outputs": [],
   "source": [
    "main_2()"
   ]
  },
  {
   "cell_type": "code",
   "execution_count": null,
   "id": "a66a8241",
   "metadata": {},
   "outputs": [],
   "source": []
  },
  {
   "cell_type": "markdown",
   "id": "d92463a7",
   "metadata": {},
   "source": [
    "### That was it! Congrats!! 🎉"
   ]
  }
 ],
 "metadata": {
  "kernelspec": {
   "display_name": "Python 3 (ipykernel)",
   "language": "python",
   "name": "python3"
  },
  "language_info": {
   "codemirror_mode": {
    "name": "ipython",
    "version": 3
   },
   "file_extension": ".py",
   "mimetype": "text/x-python",
   "name": "python",
   "nbconvert_exporter": "python",
   "pygments_lexer": "ipython3",
   "version": "3.9.13"
  }
 },
 "nbformat": 4,
 "nbformat_minor": 5
}
