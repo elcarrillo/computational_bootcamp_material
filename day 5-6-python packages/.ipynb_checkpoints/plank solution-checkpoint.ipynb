{
 "cells": [
  {
   "cell_type": "markdown",
   "metadata": {},
   "source": [
    "# Manipulating data in Python\n",
    "\n",
    "In Python, you can manipulate your data in various ways. There are many, different functions that you can use in order to manipulate your data.\n",
    "\n",
    "At the end of this module, we will be generating the __Planck__ spectrum, which describes the intensity of a [blackbody](https://en.wikipedia.org/wiki/Black_body).\n",
    "\n",
    "Before we generate it, we need to know how to read a file, and plot its content"
   ]
  },
  {
   "cell_type": "markdown",
   "metadata": {},
   "source": [
    "## Reading in  and manipulating data\n",
    "\n",
    "There are a lot of modules to read in data from a file:\n",
    "\n",
    "- Numpy\n",
    "    - `genfromtxt`\n",
    "    - `loadfromtxt`\n",
    "- Pandas\n",
    "    - `read_csv`\n",
    "    - `read_table`\n",
    "- ...\n",
    "\n",
    "We will use \"`genfromtxt`\" for this exercise"
   ]
  },
  {
   "cell_type": "code",
   "execution_count": 1,
   "metadata": {},
   "outputs": [],
   "source": [
    "## First, you need to import your modules\n",
    "%matplotlib inline\n",
    "\n",
    "import matplotlib\n",
    "import numpy as np\n",
    "import matplotlib.pyplot as plt"
   ]
  },
  {
   "cell_type": "markdown",
   "metadata": {},
   "source": [
    "We can also define the path to the directory that contains all of our files"
   ]
  },
  {
   "cell_type": "code",
   "execution_count": 2,
   "metadata": {},
   "outputs": [],
   "source": [
    "data_path = '../data/'"
   ]
  },
  {
   "cell_type": "markdown",
   "metadata": {},
   "source": [
    "If you have questions about the function, you can add a \"?\" at the end of your function."
   ]
  },
  {
   "cell_type": "code",
   "execution_count": 76,
   "metadata": {},
   "outputs": [
    {
     "name": "stdout",
     "output_type": "stream",
     "text": [
      "Help on function genfromtxt in module numpy.lib.npyio:\n",
      "\n",
      "genfromtxt(fname, dtype=<class 'float'>, comments='#', delimiter=None, skip_header=0, skip_footer=0, converters=None, missing_values=None, filling_values=None, usecols=None, names=None, excludelist=None, deletechars=None, replace_space='_', autostrip=False, case_sensitive=True, defaultfmt='f%i', unpack=None, usemask=False, loose=True, invalid_raise=True, max_rows=None, encoding='bytes')\n",
      "    Load data from a text file, with missing values handled as specified.\n",
      "    \n",
      "    Each line past the first `skip_header` lines is split at the `delimiter`\n",
      "    character, and characters following the `comments` character are discarded.\n",
      "    \n",
      "    Parameters\n",
      "    ----------\n",
      "    fname : file, str, pathlib.Path, list of str, generator\n",
      "        File, filename, list, or generator to read.  If the filename\n",
      "        extension is `.gz` or `.bz2`, the file is first decompressed. Note\n",
      "        that generators must return byte strings in Python 3k.  The strings\n",
      "        in a list or produced by a generator are treated as lines.\n",
      "    dtype : dtype, optional\n",
      "        Data type of the resulting array.\n",
      "        If None, the dtypes will be determined by the contents of each\n",
      "        column, individually.\n",
      "    comments : str, optional\n",
      "        The character used to indicate the start of a comment.\n",
      "        All the characters occurring on a line after a comment are discarded\n",
      "    delimiter : str, int, or sequence, optional\n",
      "        The string used to separate values.  By default, any consecutive\n",
      "        whitespaces act as delimiter.  An integer or sequence of integers\n",
      "        can also be provided as width(s) of each field.\n",
      "    skiprows : int, optional\n",
      "        `skiprows` was removed in numpy 1.10. Please use `skip_header` instead.\n",
      "    skip_header : int, optional\n",
      "        The number of lines to skip at the beginning of the file.\n",
      "    skip_footer : int, optional\n",
      "        The number of lines to skip at the end of the file.\n",
      "    converters : variable, optional\n",
      "        The set of functions that convert the data of a column to a value.\n",
      "        The converters can also be used to provide a default value\n",
      "        for missing data: ``converters = {3: lambda s: float(s or 0)}``.\n",
      "    missing : variable, optional\n",
      "        `missing` was removed in numpy 1.10. Please use `missing_values`\n",
      "        instead.\n",
      "    missing_values : variable, optional\n",
      "        The set of strings corresponding to missing data.\n",
      "    filling_values : variable, optional\n",
      "        The set of values to be used as default when the data are missing.\n",
      "    usecols : sequence, optional\n",
      "        Which columns to read, with 0 being the first.  For example,\n",
      "        ``usecols = (1, 4, 5)`` will extract the 2nd, 5th and 6th columns.\n",
      "    names : {None, True, str, sequence}, optional\n",
      "        If `names` is True, the field names are read from the first line after\n",
      "        the first `skip_header` lines.  This line can optionally be proceeded\n",
      "        by a comment delimeter. If `names` is a sequence or a single-string of\n",
      "        comma-separated names, the names will be used to define the field names\n",
      "        in a structured dtype. If `names` is None, the names of the dtype\n",
      "        fields will be used, if any.\n",
      "    excludelist : sequence, optional\n",
      "        A list of names to exclude. This list is appended to the default list\n",
      "        ['return','file','print']. Excluded names are appended an underscore:\n",
      "        for example, `file` would become `file_`.\n",
      "    deletechars : str, optional\n",
      "        A string combining invalid characters that must be deleted from the\n",
      "        names.\n",
      "    defaultfmt : str, optional\n",
      "        A format used to define default field names, such as \"f%i\" or \"f_%02i\".\n",
      "    autostrip : bool, optional\n",
      "        Whether to automatically strip white spaces from the variables.\n",
      "    replace_space : char, optional\n",
      "        Character(s) used in replacement of white spaces in the variables\n",
      "        names. By default, use a '_'.\n",
      "    case_sensitive : {True, False, 'upper', 'lower'}, optional\n",
      "        If True, field names are case sensitive.\n",
      "        If False or 'upper', field names are converted to upper case.\n",
      "        If 'lower', field names are converted to lower case.\n",
      "    unpack : bool, optional\n",
      "        If True, the returned array is transposed, so that arguments may be\n",
      "        unpacked using ``x, y, z = loadtxt(...)``\n",
      "    usemask : bool, optional\n",
      "        If True, return a masked array.\n",
      "        If False, return a regular array.\n",
      "    loose : bool, optional\n",
      "        If True, do not raise errors for invalid values.\n",
      "    invalid_raise : bool, optional\n",
      "        If True, an exception is raised if an inconsistency is detected in the\n",
      "        number of columns.\n",
      "        If False, a warning is emitted and the offending lines are skipped.\n",
      "    max_rows : int,  optional\n",
      "        The maximum number of rows to read. Must not be used with skip_footer\n",
      "        at the same time.  If given, the value must be at least 1. Default is\n",
      "        to read the entire file.\n",
      "    \n",
      "        .. versionadded:: 1.10.0\n",
      "    encoding : str, optional\n",
      "        Encoding used to decode the inputfile. Does not apply when `fname` is\n",
      "        a file object.  The special value 'bytes' enables backward compatibility\n",
      "        workarounds that ensure that you receive byte arrays when possible\n",
      "        and passes latin1 encoded strings to converters. Override this value to\n",
      "        receive unicode arrays and pass strings as input to converters.  If set\n",
      "        to None the system default is used. The default value is 'bytes'.\n",
      "    \n",
      "        .. versionadded:: 1.14.0\n",
      "    \n",
      "    Returns\n",
      "    -------\n",
      "    out : ndarray\n",
      "        Data read from the text file. If `usemask` is True, this is a\n",
      "        masked array.\n",
      "    \n",
      "    See Also\n",
      "    --------\n",
      "    numpy.loadtxt : equivalent function when no data is missing.\n",
      "    \n",
      "    Notes\n",
      "    -----\n",
      "    * When spaces are used as delimiters, or when no delimiter has been given\n",
      "      as input, there should not be any missing data between two fields.\n",
      "    * When the variables are named (either by a flexible dtype or with `names`,\n",
      "      there must not be any header in the file (else a ValueError\n",
      "      exception is raised).\n",
      "    * Individual values are not stripped of spaces by default.\n",
      "      When using a custom converter, make sure the function does remove spaces.\n",
      "    \n",
      "    References\n",
      "    ----------\n",
      "    .. [1] NumPy User Guide, section `I/O with NumPy\n",
      "           <http://docs.scipy.org/doc/numpy/user/basics.io.genfromtxt.html>`_.\n",
      "    \n",
      "    Examples\n",
      "    ---------\n",
      "    >>> from io import StringIO\n",
      "    >>> import numpy as np\n",
      "    \n",
      "    Comma delimited file with mixed dtype\n",
      "    \n",
      "    >>> s = StringIO(\"1,1.3,abcde\")\n",
      "    >>> data = np.genfromtxt(s, dtype=[('myint','i8'),('myfloat','f8'),\n",
      "    ... ('mystring','S5')], delimiter=\",\")\n",
      "    >>> data\n",
      "    array((1, 1.3, 'abcde'),\n",
      "          dtype=[('myint', '<i8'), ('myfloat', '<f8'), ('mystring', '|S5')])\n",
      "    \n",
      "    Using dtype = None\n",
      "    \n",
      "    >>> s.seek(0) # needed for StringIO example only\n",
      "    >>> data = np.genfromtxt(s, dtype=None,\n",
      "    ... names = ['myint','myfloat','mystring'], delimiter=\",\")\n",
      "    >>> data\n",
      "    array((1, 1.3, 'abcde'),\n",
      "          dtype=[('myint', '<i8'), ('myfloat', '<f8'), ('mystring', '|S5')])\n",
      "    \n",
      "    Specifying dtype and names\n",
      "    \n",
      "    >>> s.seek(0)\n",
      "    >>> data = np.genfromtxt(s, dtype=\"i8,f8,S5\",\n",
      "    ... names=['myint','myfloat','mystring'], delimiter=\",\")\n",
      "    >>> data\n",
      "    array((1, 1.3, 'abcde'),\n",
      "          dtype=[('myint', '<i8'), ('myfloat', '<f8'), ('mystring', '|S5')])\n",
      "    \n",
      "    An example with fixed-width columns\n",
      "    \n",
      "    >>> s = StringIO(\"11.3abcde\")\n",
      "    >>> data = np.genfromtxt(s, dtype=None, names=['intvar','fltvar','strvar'],\n",
      "    ...     delimiter=[1,3,5])\n",
      "    >>> data\n",
      "    array((1, 1.3, 'abcde'),\n",
      "          dtype=[('intvar', '<i8'), ('fltvar', '<f8'), ('strvar', '|S5')])\n",
      "\n"
     ]
    }
   ],
   "source": [
    "help(np.genfromtxt)"
   ]
  },
  {
   "cell_type": "markdown",
   "metadata": {},
   "source": [
    "Now we can go ahead and read in the data, and save it to two arrays, i.e. __`x1`__ and __`y1`__:"
   ]
  },
  {
   "cell_type": "code",
   "execution_count": 10,
   "metadata": {},
   "outputs": [],
   "source": [
    "x1, y1 = np.genfromtxt('dataset1.txt',\n",
    "                      unpack=True,\n",
    "                      )"
   ]
  },
  {
   "cell_type": "markdown",
   "metadata": {},
   "source": [
    "We now use __`unpack`__ to tell Python to throw out the two columns and we caught them with arrays __`x`__ and __`y`__, but we could have just captured whatever came out, then it just would be a merged array:"
   ]
  },
  {
   "cell_type": "code",
   "execution_count": 9,
   "metadata": {},
   "outputs": [],
   "source": [
    "data = np.genfromtxt('dataset1.txt'\n",
    "                )"
   ]
  },
  {
   "cell_type": "markdown",
   "metadata": {},
   "source": [
    "You can now examine the output from `genfromtxt`:"
   ]
  },
  {
   "cell_type": "code",
   "execution_count": 7,
   "metadata": {},
   "outputs": [
    {
     "name": "stdout",
     "output_type": "stream",
     "text": [
      "(100, 2)\n"
     ]
    }
   ],
   "source": [
    "print(data.shape)"
   ]
  },
  {
   "cell_type": "code",
   "execution_count": 8,
   "metadata": {},
   "outputs": [
    {
     "name": "stdout",
     "output_type": "stream",
     "text": [
      "[-0.04826417  0.25723241  0.46084084  0.64903566  0.71677476  0.96776548\n",
      "  1.29983937  1.43387289  1.62135006  1.76059405  2.03743367  2.14958662\n",
      "  2.42060419  2.715836    2.9275557   2.9653225   3.19679942  3.4614748\n",
      "  3.54848877  3.76910315  3.98784208  4.19339365  4.4279586   4.62071517\n",
      "  4.79496323  5.00002693  5.23539664  5.37992987  5.60752551  5.93871238\n",
      "  6.08304306  6.3391359   6.56212174  6.70258117  6.84234717  7.01380281\n",
      "  7.22471216  7.42548426  7.58640829  7.93911613  8.08523514  8.27281698\n",
      "  8.50502081  8.58780099  8.97544342  9.06840145  9.32994708  9.4832187\n",
      "  9.7143636   9.9669831  10.05587739 10.24745965 10.50448738 10.64142437\n",
      " 10.97846567 11.13011018 11.30068135 11.57165861 11.65991901 11.94990211\n",
      " 12.18747631 12.4178335  12.55826718 12.82237611 12.85147113 13.04777332\n",
      " 13.42264142 13.46737614 13.81423191 13.97654878 14.1939695  14.37205959\n",
      " 14.53569893 14.66694151 14.91467005 15.22140463 15.36485266 15.59336199\n",
      " 15.69060866 15.89937533 16.23907517 16.36178348 16.54728757 16.73726968\n",
      " 17.04225118 17.24279728 17.33569323 17.56503833 17.70515795 18.02824083\n",
      " 18.23112027 18.33248662 18.62369577 18.77999396 18.89922539 19.10448361\n",
      " 19.3775723  19.56626863 19.83302568 20.05474468]\n"
     ]
    }
   ],
   "source": [
    "print(data[:,0])"
   ]
  },
  {
   "cell_type": "code",
   "execution_count": 11,
   "metadata": {},
   "outputs": [
    {
     "data": {
      "text/plain": [
       "array([-0.04826417,  0.25723241,  0.46084084,  0.64903566,  0.71677476,\n",
       "        0.96776548,  1.29983937,  1.43387289,  1.62135006,  1.76059405,\n",
       "        2.03743367,  2.14958662,  2.42060419,  2.715836  ,  2.9275557 ,\n",
       "        2.9653225 ,  3.19679942,  3.4614748 ,  3.54848877,  3.76910315,\n",
       "        3.98784208,  4.19339365,  4.4279586 ,  4.62071517,  4.79496323,\n",
       "        5.00002693,  5.23539664,  5.37992987,  5.60752551,  5.93871238,\n",
       "        6.08304306,  6.3391359 ,  6.56212174,  6.70258117,  6.84234717,\n",
       "        7.01380281,  7.22471216,  7.42548426,  7.58640829,  7.93911613,\n",
       "        8.08523514,  8.27281698,  8.50502081,  8.58780099,  8.97544342,\n",
       "        9.06840145,  9.32994708,  9.4832187 ,  9.7143636 ,  9.9669831 ,\n",
       "       10.05587739, 10.24745965, 10.50448738, 10.64142437, 10.97846567,\n",
       "       11.13011018, 11.30068135, 11.57165861, 11.65991901, 11.94990211,\n",
       "       12.18747631, 12.4178335 , 12.55826718, 12.82237611, 12.85147113,\n",
       "       13.04777332, 13.42264142, 13.46737614, 13.81423191, 13.97654878,\n",
       "       14.1939695 , 14.37205959, 14.53569893, 14.66694151, 14.91467005,\n",
       "       15.22140463, 15.36485266, 15.59336199, 15.69060866, 15.89937533,\n",
       "       16.23907517, 16.36178348, 16.54728757, 16.73726968, 17.04225118,\n",
       "       17.24279728, 17.33569323, 17.56503833, 17.70515795, 18.02824083,\n",
       "       18.23112027, 18.33248662, 18.62369577, 18.77999396, 18.89922539,\n",
       "       19.10448361, 19.3775723 , 19.56626863, 19.83302568, 20.05474468])"
      ]
     },
     "execution_count": 11,
     "metadata": {},
     "output_type": "execute_result"
    }
   ],
   "source": [
    "x1"
   ]
  },
  {
   "cell_type": "markdown",
   "metadata": {},
   "source": [
    "You can check that the 1st column of __`data`__ is the same as __`x1`__ with `np.array_equal`:"
   ]
  },
  {
   "cell_type": "code",
   "execution_count": 82,
   "metadata": {},
   "outputs": [
    {
     "data": {
      "text/plain": [
       "True"
      ]
     },
     "execution_count": 82,
     "metadata": {},
     "output_type": "execute_result"
    }
   ],
   "source": [
    "np.array_equal(x1, data[:,0])"
   ]
  },
  {
   "cell_type": "markdown",
   "metadata": {},
   "source": [
    "### Reading in from remote data\n",
    "\n",
    "Another nice thing about `genfromtxt` is that it can read dta from a __URL__:"
   ]
  },
  {
   "cell_type": "code",
   "execution_count": 12,
   "metadata": {},
   "outputs": [],
   "source": [
    "## Setting up path to remote file\n",
    "remote_file = 'https://raw.githubusercontent.com/jbrownlee/Datasets/master/pima-indians-diabetes.data.csv'\n",
    "\n",
    "## Extracting data from file, and saving it as to variable `A`\n",
    "A = np.genfromtxt(remote_file, unpack=True, delimiter=',')"
   ]
  },
  {
   "cell_type": "markdown",
   "metadata": {},
   "source": [
    "Now `A` has the shape of 9 columns by 768 rows"
   ]
  },
  {
   "cell_type": "code",
   "execution_count": 84,
   "metadata": {},
   "outputs": [
    {
     "data": {
      "text/plain": [
       "(9, 768)"
      ]
     },
     "execution_count": 84,
     "metadata": {},
     "output_type": "execute_result"
    }
   ],
   "source": [
    "A.shape"
   ]
  },
  {
   "cell_type": "markdown",
   "metadata": {},
   "source": [
    "As you can see, the shape of `A` is different than the one in the URL.\n",
    "To fix it, you can `transpose` the array:"
   ]
  },
  {
   "cell_type": "code",
   "execution_count": 85,
   "metadata": {},
   "outputs": [
    {
     "data": {
      "text/plain": [
       "array([[  6.   , 148.   ,  72.   , ...,   0.627,  50.   ,   1.   ],\n",
       "       [  1.   ,  85.   ,  66.   , ...,   0.351,  31.   ,   0.   ],\n",
       "       [  8.   , 183.   ,  64.   , ...,   0.672,  32.   ,   1.   ],\n",
       "       ...,\n",
       "       [  5.   , 121.   ,  72.   , ...,   0.245,  30.   ,   0.   ],\n",
       "       [  1.   , 126.   ,  60.   , ...,   0.349,  47.   ,   1.   ],\n",
       "       [  1.   ,  93.   ,  70.   , ...,   0.315,  23.   ,   0.   ]])"
      ]
     },
     "execution_count": 85,
     "metadata": {},
     "output_type": "execute_result"
    }
   ],
   "source": [
    "A.T"
   ]
  },
  {
   "cell_type": "code",
   "execution_count": 86,
   "metadata": {},
   "outputs": [
    {
     "name": "stdout",
     "output_type": "stream",
     "text": [
      "(768, 9)\n"
     ]
    }
   ],
   "source": [
    "print(A.T.shape)"
   ]
  },
  {
   "cell_type": "markdown",
   "metadata": {},
   "source": [
    "## Fitting a straight line\n",
    "\n",
    "Now that we've read the data, we can use to __fit__ a straight line to it.\n",
    "\n",
    "The steps to follow are:\n",
    "- Create a new function called `myline`\n",
    "- Find the best-fit parameters for the data\n",
    "- Plot the data against the fitted line"
   ]
  },
  {
   "cell_type": "markdown",
   "metadata": {},
   "source": [
    "### Define function `myline`"
   ]
  },
  {
   "cell_type": "code",
   "execution_count": 15,
   "metadata": {},
   "outputs": [],
   "source": [
    "def myline(x, m, b):\n",
    "    \"\"\"\n",
    "    Functional form of a straight line\n",
    "    \n",
    "    Parameters\n",
    "    -----------\n",
    "    x : `float`, `int`, `np.ndarray`, list\n",
    "        Variable that tells you how far along\n",
    "    \n",
    "    m : `float`, `int`\n",
    "        Slope or gradient\n",
    "    \n",
    "    b : `float`, `int`\n",
    "        Y-intercept\n",
    "    \n",
    "    Returns\n",
    "    ---------\n",
    "    y : `float`, `int`, `np.ndarray`, list\n",
    "        Value for how far up on the y-axis\n",
    "    \"\"\"\n",
    "    y = (m * x) + b\n",
    "    \n",
    "    return y"
   ]
  },
  {
   "cell_type": "markdown",
   "metadata": {},
   "source": [
    "### Finding best-fit parameters\n",
    "\n",
    "We can now fit a line to the data, and find the parameters (`m`, and `b`)\n",
    "that best describe our data:"
   ]
  },
  {
   "cell_type": "code",
   "execution_count": 13,
   "metadata": {},
   "outputs": [],
   "source": [
    "## Import `curve_fit` function from scipy\n",
    "from scipy.optimize import curve_fit"
   ]
  },
  {
   "cell_type": "code",
   "execution_count": 16,
   "metadata": {},
   "outputs": [
    {
     "name": "stdout",
     "output_type": "stream",
     "text": [
      "[3.12950289 3.72975489]\n"
     ]
    }
   ],
   "source": [
    "## Calculating best-fit parameters\n",
    "bestfit, covar_matrix = curve_fit(myline, x1, y1, p0 = [1.0, 1.0])\n",
    "\n",
    "print(bestfit)"
   ]
  },
  {
   "cell_type": "code",
   "execution_count": 17,
   "metadata": {},
   "outputs": [
    {
     "name": "stdout",
     "output_type": "stream",
     "text": [
      "Best-fit parameters: m = 3.129502893478391 and b = 3.7297548918690517\n"
     ]
    }
   ],
   "source": [
    "print(\"Best-fit parameters: m = {0} and b = {1}\".format(*bestfit))"
   ]
  },
  {
   "cell_type": "markdown",
   "metadata": {},
   "source": [
    "In this example:\n",
    "- `myline`: Is the function used to fit the data\n",
    "- `x1`, `y1`: x- and y-values\n",
    "- `p0`: Initial guesses for the two parameters. This variable is _optional_.\n",
    "\n",
    "You can read more about `curve_fit` by typing:"
   ]
  },
  {
   "cell_type": "code",
   "execution_count": 41,
   "metadata": {},
   "outputs": [],
   "source": [
    "#help(curve_fit)"
   ]
  },
  {
   "cell_type": "markdown",
   "metadata": {},
   "source": [
    "We can now overplot the best-fit line to the data:"
   ]
  },
  {
   "cell_type": "code",
   "execution_count": 92,
   "metadata": {},
   "outputs": [
    {
     "data": {
      "text/plain": [
       "<matplotlib.legend.Legend at 0x151e747128>"
      ]
     },
     "execution_count": 92,
     "metadata": {},
     "output_type": "execute_result"
    },
    {
     "data": {
      "image/png": "[encoded data removed]",
      "text/plain": [
       "<Figure size 720x720 with 1 Axes>"
      ]
     },
     "metadata": {},
     "output_type": "display_data"
    }
   ],
   "source": [
    "# Initializing figure (optional)\n",
    "fig = plt.figure(figsize=(10,10), facecolor='white')\n",
    "ax  = fig.add_subplot(111, facecolor='white')\n",
    "\n",
    "# Plotting values\n",
    "plt.plot(x1, myline(x1, *bestfit), 'r--', linewidth=2, label='Best fit')\n",
    "plt.plot(x1, y1, 'bo', label='Data')\n",
    "\n",
    "# Setting up limits\n",
    "plt.xlim((-1, 21)) # Limit the x-range of our plot\n",
    "\n",
    "# Axis labels\n",
    "plt.xlabel('This is the x-label', fontsize=20)\n",
    "plt.ylabel('This is the y-label', fontsize=20)\n",
    "\n",
    "# Maybe add a title\n",
    "plt.title('You can also add a title with color',\n",
    "          fontsize=20,\n",
    "          color='blue')\n",
    "\n",
    "# And finally, a legend:\n",
    "plt.legend(loc='best')"
   ]
  },
  {
   "cell_type": "markdown",
   "metadata": {},
   "source": [
    "The final script looks like this:"
   ]
  },
  {
   "cell_type": "code",
   "execution_count": null,
   "metadata": {},
   "outputs": [],
   "source": [
    "%load ../scripts/fitting_line.py"
   ]
  },
  {
   "cell_type": "code",
   "execution_count": 18,
   "metadata": {},
   "outputs": [
    {
     "data": {
      "image/png": "[encoded data removed]",
      "text/plain": [
       "<Figure size 800x800 with 1 Axes>"
      ]
     },
     "metadata": {},
     "output_type": "display_data"
    }
   ],
   "source": [
    "#! /usr/bin/env python\n",
    "# -*- coding: utf-8 -*-\n",
    "\n",
    "# Victor Calderon\n",
    "# Created      : 2018-08-06\n",
    "# Last Modified: 2018-08-06\n",
    "# Vanderbilt University\n",
    "from __future__ import absolute_import, division, print_function \n",
    "__author__     = ['Victor Calderon']\n",
    "__copyright__  = [\"Copyright 2018 Victor Calderon, Fitting a line\"]\n",
    "__email__      = ['victor.calderon@vanderbilt.edu']\n",
    "__maintainer__ = ['Victor Calderon']\n",
    "\"\"\"\n",
    "Fits a line from the data\n",
    "\"\"\"\n",
    "\n",
    "## Importing modules\n",
    "import numpy as np\n",
    "import scipy\n",
    "import matplotlib.pyplot as plt\n",
    "\n",
    "# Function for the PDF of distribution\n",
    "def normpdf(x, mu, sigma):\n",
    "    \"\"\"\n",
    "    PDF of a distribution with a mean and standard deviation\n",
    "    \n",
    "    Parameters\n",
    "    -----------\n",
    "    x : `np.ndarray`, list\n",
    "        List/Array of values of the distribution\n",
    "    \n",
    "    mu : `float`, `int`\n",
    "        Mean of the distribution\n",
    "    \n",
    "    sigma : `float`, `int`\n",
    "        Standard deviation of the distribution\n",
    "    \n",
    "    Returns\n",
    "    --------\n",
    "    y : `np.ndarray` or list\n",
    "        List/array of the normalized PDF values\n",
    "    \"\"\"\n",
    "    u = (x-mu)/np.abs(sigma)\n",
    "    y = (1/(np.sqrt(2*np.pi)*np.abs(sigma)))*np.exp(-u*u/2)\n",
    "    return y\n",
    "\n",
    "# Function to plot figure\n",
    "def plot_fit(x, mu, sigma):\n",
    "    \"\"\"\n",
    "    Plots the histogram of `x` and computes the PDF of it.\n",
    "\n",
    "    Parameters\n",
    "    -----------\n",
    "    x : `np.ndarray`, list\n",
    "        List/Array of values of the distribution\n",
    "    \n",
    "    mu : `float`, `int`\n",
    "        Mean of the distribution\n",
    "    \n",
    "    sigma : `float`, `int`\n",
    "        Standard deviation of the distribution\n",
    "    \"\"\"\n",
    "    # Clearing any previous figure\n",
    "    plt.clf()\n",
    "    plt.close()\n",
    "    # Initialize figure\n",
    "    fig = plt.figure(figsize=(8,8))\n",
    "    ax = fig.add_subplot(111, facecolor='white')\n",
    "\n",
    "    # Creating histogram\n",
    "    n, bins, patches = plt.hist(x,\n",
    "                                bins=50,\n",
    "                                density=True,\n",
    "                                histtype='stepfilled',\n",
    "                               facecolor='green',\n",
    "                               alpha=0.75,\n",
    "                               label='Normal distr.')\n",
    "\n",
    "    # Normalized PDF\n",
    "    y_pdf = normpdf(x, mu, sigma)\n",
    "    plt.plot(x, y_pdf, 'ro', linestyle='', label='PDF')\n",
    "\n",
    "    # Adding labels and title\n",
    "    plt.title(r'Histogram of IQ: $\\mu = %s, \\sigma = %s$' %(mu, sigma),\n",
    "             fontsize=20)\n",
    "\n",
    "    # Setting up axis\n",
    "    plt.axis([40, 160, 0, 0.03])\n",
    "\n",
    "    # Adding a grid\n",
    "    plt.grid(True)\n",
    "\n",
    "    # Adding legend\n",
    "    plt.legend(loc='best', prop={'size': 15})\n",
    "    # Showing plot\n",
    "    plt.show()\n",
    "\n",
    "# Functions\n",
    "def main():\n",
    "    # Mean and standard deviation\n",
    "    mu, sigma = 100, 15\n",
    "\n",
    "    # Array of random values\n",
    "    x = mu + (sigma * np.random.randn(10000))\n",
    "\n",
    "    ## Plotting\n",
    "    plot_fit(x, mu, sigma)\n",
    "\n",
    "if __name__ == '__main__':\n",
    "    # Main Function\n",
    "    main()"
   ]
  },
  {
   "cell_type": "markdown",
   "metadata": {},
   "source": [
    "## More complicated plots - Histogram\n",
    "\n",
    "Now let's plot a distribution of values"
   ]
  },
  {
   "cell_type": "code",
   "execution_count": 94,
   "metadata": {},
   "outputs": [],
   "source": [
    "## Importing modules\n",
    "import numpy as np\n",
    "import scipy\n",
    "import matplotlib.pyplot as plt"
   ]
  },
  {
   "cell_type": "markdown",
   "metadata": {},
   "source": [
    "Now we need to define the mean and standard deviation of a normal distribution, and create an array of __random__ values:"
   ]
  },
  {
   "cell_type": "code",
   "execution_count": 19,
   "metadata": {},
   "outputs": [
    {
     "name": "stdout",
     "output_type": "stream",
     "text": [
      "[104.91090057 119.75208078  91.86381122 ... 105.61116282  93.63617839\n",
      " 129.58660092]\n"
     ]
    }
   ],
   "source": [
    "# Mean and standard deviation\n",
    "mu, sigma = 100, 15\n",
    "\n",
    "# Array of random values\n",
    "x = mu + (sigma * np.random.randn(10000))\n",
    "\n",
    "# Printing out values of `x`\n",
    "print(x)"
   ]
  },
  {
   "cell_type": "markdown",
   "metadata": {},
   "source": [
    "We can also define a function for the PDF of the distribution:"
   ]
  },
  {
   "cell_type": "code",
   "execution_count": 96,
   "metadata": {},
   "outputs": [],
   "source": [
    "# Function for the PDF of distribution\n",
    "def normpdf(x, mu, sigma):\n",
    "    \"\"\"\n",
    "    PDF of a distribution with a mean and standard deviation\n",
    "    \n",
    "    Parameters\n",
    "    -----------\n",
    "    x : `np.ndarray`, list\n",
    "        List/Array of values of the distribution\n",
    "    \n",
    "    mu : `float`, `int`\n",
    "        Mean of the distribution\n",
    "    \n",
    "    sigma : `float`, `int`\n",
    "        Standard deviation of the distribution\n",
    "    \n",
    "    Returns\n",
    "    --------\n",
    "    y : `np.ndarray` or list\n",
    "        List/array of the normalized PDF values\n",
    "    \"\"\"\n",
    "    u = (x-mu)/np.abs(sigma)\n",
    "    y = (1/(np.sqrt(2*np.pi)*np.abs(sigma)))*np.exp(-u*u/2)\n",
    "    return y"
   ]
  },
  {
   "cell_type": "markdown",
   "metadata": {},
   "source": [
    "Now we construct a histogram with `plt.hist`:"
   ]
  },
  {
   "cell_type": "code",
   "execution_count": 97,
   "metadata": {},
   "outputs": [
    {
     "data": {
      "text/plain": [
       "<matplotlib.legend.Legend at 0x15202ffdd8>"
      ]
     },
     "execution_count": 97,
     "metadata": {},
     "output_type": "execute_result"
    },
    {
     "data": {
      "image/png": "[encoded data removed]",
      "text/plain": [
       "<Figure size 576x576 with 1 Axes>"
      ]
     },
     "metadata": {},
     "output_type": "display_data"
    }
   ],
   "source": [
    "# Initialize figure\n",
    "fig = plt.figure(figsize=(8,8))\n",
    "ax = fig.add_subplot(111, facecolor='white')\n",
    "\n",
    "# Creating histogram\n",
    "n, bins, patches = plt.hist(x,\n",
    "                            bins=50,\n",
    "                            density=True,\n",
    "                            histtype='stepfilled',\n",
    "                           facecolor='green',\n",
    "                           alpha=0.75,\n",
    "                           label='Normal distr.')\n",
    "\n",
    "# Normalized PDF\n",
    "y_pdf = normpdf(x, mu, sigma)\n",
    "plt.plot(x, y_pdf, 'ro', linestyle='', label='PDF')\n",
    "\n",
    "# Adding labels and title\n",
    "plt.title(r'Histogram of IQ: $\\mu = %s, \\sigma = %s$' %(mu, sigma),\n",
    "         fontsize=20)\n",
    "\n",
    "# Setting up axis\n",
    "plt.axis([40, 160, 0, 0.03])\n",
    "\n",
    "# Adding a grid\n",
    "plt.grid(True)\n",
    "\n",
    "# Adding legend\n",
    "plt.legend(loc='best', prop={'size': 15})"
   ]
  },
  {
   "cell_type": "markdown",
   "metadata": {},
   "source": [
    "The final script for this looks like:"
   ]
  },
  {
   "cell_type": "code",
   "execution_count": null,
   "metadata": {},
   "outputs": [],
   "source": [
    "%load ../scripts/histogram_pdf.py"
   ]
  },
  {
   "cell_type": "markdown",
   "metadata": {},
   "source": [
    "## Planck Spectrum\n",
    "\n",
    "The next step is to write a script that generates the Planck spectrum (wavelength and intensity at that wavelength for many wavelenghts)\n",
    "\n",
    "> Create an equation in Python syntax such that for temperature T=300 K, and wavelenth ($\\lambda = 1cm$) it finds the intensity of a Planck Spectrum\n",
    "\n",
    "Planck Spectrum:\n",
    "\n",
    "$$\n",
    "I = \\frac{2hc^2}{\\lambda^5}\\frac{1}{e^{hc/(\\lambda\\ k T)} - 1}\n",
    "$$"
   ]
  },
  {
   "cell_type": "code",
   "execution_count": 38,
   "metadata": {},
   "outputs": [
    {
     "name": "stdout",
     "output_type": "stream",
     "text": [
      "The intensity of the Planck spectrum at 300 K and 1 cm wavelength is: 0.0002478041372158598 W/m^2/sr\n",
      "Results saved to 'planck_spectrum_results.txt'\n"
     ]
    }
   ],
   "source": [
    "import math\n",
    "\n",
    "def planck_intensity(temperature, wavelength):\n",
    "    h = 6.626e-34  # Planck's constant in J*s\n",
    "    c = 3.0e8      # Speed of light in m/s\n",
    "    k = 1.38e-23   # Boltzmann constant in J/K\n",
    "    \n",
    "    wavelength_m = wavelength * 1e-2  # Convert wavelength from cm to m\n",
    "    exponent = h * c / (wavelength_m * k * temperature)\n",
    "    \n",
    "    intensity = (2 * h * c**2) / (wavelength_m**5) * (1 / (math.e**exponent - 1))\n",
    "    return intensity\n",
    "\n",
    "temperature = 300  # Temperature in Kelvin\n",
    "wavelength = 1     # Wavelength in cm\n",
    "\n",
    "intensity = planck_intensity(temperature, wavelength)\n",
    "\n",
    "# Print the results\n",
    "print(f\"The intensity of the Planck spectrum at {temperature} K and {wavelength} cm wavelength is: {intensity} W/m^2/sr\")\n",
    "\n",
    "# Save results to a text file\n",
    "with open(\"planck_spectrum_results.txt\", \"w\") as file:\n",
    "    file.write(f\"Temperature: {temperature} K\\n\")\n",
    "    file.write(f\"Wavelength: {wavelength} cm\\n\")\n",
    "    file.write(f\"Intensity: {intensity} W/m^2/sr\\n\")\n",
    "\n",
    "print(\"Results saved to 'planck_spectrum_results.txt'\")\n"
   ]
  },
  {
   "cell_type": "code",
   "execution_count": 49,
   "metadata": {},
   "outputs": [
    {
     "data": {
      "image/png": "[encoded data removed]",
      "text/plain": [
       "<Figure size 1000x600 with 1 Axes>"
      ]
     },
     "metadata": {},
     "output_type": "display_data"
    }
   ],
   "source": [
    "import numpy as np\n",
    "import matplotlib.pyplot as plt\n",
    "import math\n",
    "\n",
    "def planck_intensity(temperature, wavelength):\n",
    "    h = 6.626e-34  # Planck's constant in J*s\n",
    "    c = 3.0e8      # Speed of light in m/s\n",
    "    k = 1.38e-23   # Boltzmann constant in J/K\n",
    "    \n",
    "    wavelength_m = wavelength * 1e-2  # Convert wavelength from cm to m\n",
    "    exponent = h * c / (wavelength_m * k * temperature)\n",
    "    \n",
    "    intensity = (2 * h * c**2) / (wavelength_m**5) * (1 / (math.e**exponent - 1))\n",
    "    return intensity\n",
    "\n",
    "# Define the temperature and wavelength range\n",
    "temperature = 300  # Temperature in Kelvin\n",
    "wavelength_range = np.linspace(0.1, 10, 500)  # Wavelength range from 0.1 to 10 cm\n",
    "\n",
    "# Calculate intensities for the range of wavelengths\n",
    "intensities = [planck_intensity(temperature, wavelength) for wavelength in wavelength_range]\n",
    "\n",
    "# Plot the intensity vs. wavelength\n",
    "plt.figure(figsize=(10, 6))\n",
    "plt.plot(wavelength_range, intensities, label=f'Temperature = {temperature} K')\n",
    "plt.xlabel('Wavelength (cm)')\n",
    "plt.ylabel('Intensity (W/m^2/sr)')\n",
    "plt.title('Planck Spectrum Intensity')\n",
    "plt.legend()\n",
    "plt.grid()\n",
    "plt.show()"
   ]
  },
  {
   "cell_type": "markdown",
   "metadata": {},
   "source": [
    "### Method 1\n",
    "\n",
    "This method uses does the following:\n",
    "\n",
    "- Constructs a dictionary with known values for the constants, i.e. $h, c, k$\n",
    "- Creates a function to calculate the Planck spectrum, $I$\n",
    "- Plots the Planck spectrum at every wavelength for a given Temperature $T$"
   ]
  },
  {
   "cell_type": "code",
   "execution_count": 26,
   "metadata": {},
   "outputs": [],
   "source": [
    "## First import your modules\n",
    "\n",
    "import os\n",
    "import sys\n",
    "import numpy as np\n",
    "import matplotlib.pyplot as plt"
   ]
  },
  {
   "cell_type": "markdown",
   "metadata": {},
   "source": [
    "#### Creating a dictionary with constants"
   ]
  },
  {
   "cell_type": "code",
   "execution_count": 27,
   "metadata": {},
   "outputs": [],
   "source": [
    "## Dictionary of constants\n",
    "def const_dict_func():\n",
    "    \"\"\"\n",
    "    Dictionary of constants\n",
    "\n",
    "    Returns\n",
    "    ---------\n",
    "    const_dict : `dict`\n",
    "        Dictionary of constants\n",
    "    \"\"\"\n",
    "    const_dict = {}\n",
    "    const_dict['c'] = 3.0e8    # Speed of light\n",
    "    const_dict['h'] = 6.62e-34 # Planck's constant\n",
    "    const_dict['k'] = 1.38e-23 # Boltzmann's constant\n",
    "\n",
    "    return const_dict"
   ]
  },
  {
   "cell_type": "markdown",
   "metadata": {},
   "source": [
    "This will let you call the dictionary and get the _values_ for each of the constants.\n",
    "\n",
    "Keep in mind that the we had to know the __units__ beforehand. There are other ways to do this, but\n",
    "we'll discuss them at the end.\n"
   ]
  },
  {
   "cell_type": "markdown",
   "metadata": {},
   "source": [
    "#### Function for calculating the Power spectrum for a given wavelength $\\lambda$ and at fixed Temperature $T$"
   ]
  },
  {
   "cell_type": "code",
   "execution_count": 28,
   "metadata": {},
   "outputs": [],
   "source": [
    "def planck_spectrum(T, wavelen):\n",
    "    \"\"\"\n",
    "    Computes the Planck spectrum for a given Temperature and wavelength\n",
    "\n",
    "    Parameters\n",
    "    -----------\n",
    "    T : `float`, `int`\n",
    "        Temperature used. In units of `Kelvin`\n",
    "\n",
    "    wavelen : `float`, `int`\n",
    "        Wavelengths to evaluate\n",
    "\n",
    "    Returns\n",
    "    -----------\n",
    "    I : `np.ndarray`, `float`, `int`\n",
    "        Intensity of the Power spectrum at given temperature and wavelength\n",
    "    \"\"\"\n",
    "    ## Constants\n",
    "    # Calling function `const_dict_func` and saving output as a dictionary\n",
    "    const_dict = const_dict_func()\n",
    "    # Saving values of constants as new variables\n",
    "    c = const_dict['c']\n",
    "    h = const_dict['h']\n",
    "    k = const_dict['k']\n",
    "    ## Computing the Planck spectrum or 'radiance'\n",
    "    # Radiance\n",
    "    I = (2 * h * c ** 5) / (wavelen**5)\n",
    "    I *= 1./(-1. + np.exp((h * c)/(wavelen * k * T)))\n",
    "\n",
    "    return I"
   ]
  },
  {
   "cell_type": "markdown",
   "metadata": {},
   "source": [
    "#### Function for _plotting_ the data\n",
    "\n",
    "This function will plot the spectrum for the Planck spectrum as function of wavelength $\\alpha$ at fixed Temperature $T$"
   ]
  },
  {
   "cell_type": "code",
   "execution_count": 29,
   "metadata": {},
   "outputs": [],
   "source": [
    "## Plotting data\n",
    "def plot_planck(data, T):\n",
    "    \"\"\"\n",
    "    Plots the Planck spectrum\n",
    "\n",
    "    Parameters\n",
    "    ------------\n",
    "    data : `np.ndarray`\n",
    "        Data containing wavelength and planck spectrum information.\n",
    "        Shape is (N, 2)\n",
    "    \n",
    "    T : `float`, `int`\n",
    "        Temperature, at which the Planck spectrum is analyzed.\n",
    "    \"\"\"\n",
    "    # Clearing previous figures\n",
    "    plt.clf()\n",
    "    plt.close()\n",
    "    # Initializing figure\n",
    "    fig = plt.figure(figsize=(8,8))\n",
    "    ax  = fig.add_subplot(111, facecolor='white')\n",
    "    # Plotting spectrum\n",
    "    plt.plot(data[:, 0], data[:, 1], marker='o', color='b', linestyle='--',\n",
    "                label='T={0} K'.format(T))\n",
    "    #\n",
    "    # Axis labels\n",
    "    ax.set_xlabel(r'$\\lambda$ [m]', fontsize=20)\n",
    "    ax.set_ylabel('Intensity', fontsize=20)\n",
    "    # Legend\n",
    "    ax.legend(loc='best', prop={'size':20})\n",
    "    #\n",
    "    # Showing figure\n",
    "    plt.show()"
   ]
  },
  {
   "cell_type": "markdown",
   "metadata": {},
   "source": [
    "#### Writing the _main_ function:"
   ]
  },
  {
   "cell_type": "code",
   "execution_count": 30,
   "metadata": {},
   "outputs": [],
   "source": [
    "def main():\n",
    "    \"\"\"\n",
    "    Main function\n",
    "    \"\"\"\n",
    "    #\n",
    "    # Temperature as an input parameter\n",
    "    T = 300 ## In units Kelvin\n",
    "    #\n",
    "    # Wavelenght\n",
    "    wavelen_min = 1.e-7 # Minimum wavelength in meters\n",
    "    waveln_max  = 6.e-5 #Maximum wavelength in meters\n",
    "    samples     = 100 # Number of steps to output\n",
    "    #\n",
    "    ### List of wavelengths - Computing the wavelengths \n",
    "    # Creating array of number of samples\n",
    "    wavelen = np.arange(samples)\n",
    "    # Populating the array of wavelengths\n",
    "    wavelen = wavelen_min + (waveln_max - wavelen_min) * wavelen / float(samples)\n",
    "    #\n",
    "    # Computing the radiance\n",
    "    radiance = planck_spectrum(T, wavelen)\n",
    "    #\n",
    "    # Stacking the data\n",
    "    data = np.column_stack((wavelen, radiance))\n",
    "    # Sorting data from smallest to largest wavelength\n",
    "    data_sort_idx = np.argsort(data[:,0])\n",
    "    data_sort     = data[data_sort_idx]\n",
    "    #\n",
    "    ## Saving data to file\n",
    "    # Definiing output path and checking if it exists\n",
    "    output_path = '../datafiles'\n",
    "    if not (os.path.exists(output_path)):\n",
    "        os.makedirs(output_path)\n",
    "    # Saving data to file\n",
    "    np.savetxt('{0}/spectrum.dat'.format(output_path), data)\n",
    "    #\n",
    "    # Plotting data\n",
    "    plot_planck(data, T)\n"
   ]
  },
  {
   "cell_type": "code",
   "execution_count": 31,
   "metadata": {},
   "outputs": [
    {
     "data": {
      "image/png": "[encoded data removed]",
      "text/plain": [
       "<Figure size 800x800 with 1 Axes>"
      ]
     },
     "metadata": {},
     "output_type": "display_data"
    }
   ],
   "source": [
    "## Calling main function\n",
    "main()"
   ]
  },
  {
   "cell_type": "markdown",
   "metadata": {},
   "source": [
    "#### Script\n",
    "\n",
    "With all of this defined, you can put it in a single script.\n",
    "\n",
    "This code is found under `../scripts/planck_spectrum.py`"
   ]
  },
  {
   "cell_type": "code",
   "execution_count": null,
   "metadata": {},
   "outputs": [],
   "source": [
    "%load ../scripts/planck_spectrum.py"
   ]
  },
  {
   "cell_type": "markdown",
   "metadata": {},
   "source": [
    "### Method 2 - Plotting multiple Planck spectrums\n",
    "\n",
    "Now we can try to the Planck spectrum for multiple temperatures $T$.\n",
    "\n",
    "We will have to modify the some of the functions to include $T$ as part of an argument.\n",
    "We'll modify both the `main` and `plot_planck` functions."
   ]
  },
  {
   "cell_type": "markdown",
   "metadata": {},
   "source": [
    "#### Modifying the _plotting_ function\n",
    "\n",
    "We'll modify this function to:\n",
    "\n",
    "- include $T$ as an input parameter,\n",
    "- Loop over the different temperature values in `T_arr`\n",
    "- Choose the color from a colormap"
   ]
  },
  {
   "cell_type": "code",
   "execution_count": 136,
   "metadata": {},
   "outputs": [],
   "source": [
    "## Importing new modules\n",
    "from matplotlib.pyplot import cm\n",
    "\n",
    "## Plotting data\n",
    "def plot_planck_2(data, T_arr):\n",
    "    \"\"\"\n",
    "    Plots the Planck spectrum\n",
    "\n",
    "    Parameters\n",
    "    ------------\n",
    "    data : `np.ndarray`\n",
    "        Data containing wavelength and planck spectrum information.\n",
    "        Shape is ((N, 2), M)\n",
    "    \n",
    "    T_arr : `np.ndarray`\n",
    "        Array of the different temperatures.\n",
    "        Shape, (M, ), i.e. it has `M` number of elements.\n",
    "    \"\"\"\n",
    "    # Defining the colormap\n",
    "    color_arr=cm.rainbow(np.linspace(0, 1, len(T_arr)))\n",
    "    # Clearing previous figures\n",
    "    plt.clf()\n",
    "    plt.close()\n",
    "    # Initializing figure\n",
    "    fig = plt.figure(figsize=(10,10))\n",
    "    ax  = fig.add_subplot(111, facecolor='white')\n",
    "    # Plotting spectrum\n",
    "    for kk, T_kk in enumerate(T_arr):\n",
    "        plt.plot(data[kk][:, 0],\n",
    "                 data[kk][:, 1],\n",
    "                 marker='o',\n",
    "                 color=color_arr[kk],\n",
    "                 linestyle='--',\n",
    "                 label='{0} K'.format(T_kk))\n",
    "    #\n",
    "    # Axis labels\n",
    "    ax.set_xlabel(r'$\\lambda$ [m]', fontsize=20)\n",
    "    ax.set_ylabel('Intensity', fontsize=20)\n",
    "    #\n",
    "    # Legend\n",
    "    ax.legend(loc='best', prop={'size':14})\n",
    "    #\n",
    "    # Showing figure\n",
    "    plt.show()"
   ]
  },
  {
   "cell_type": "markdown",
   "metadata": {},
   "source": [
    "#### Modifying the main function to include $T$ as an input parameter"
   ]
  },
  {
   "cell_type": "code",
   "execution_count": 137,
   "metadata": {},
   "outputs": [],
   "source": [
    "def main_2():\n",
    "    \"\"\"\n",
    "    Main function\n",
    "    \"\"\"\n",
    "    #\n",
    "    # Temperature as an input parameter\n",
    "    T_arr = np.arange(300, 1000, 100) ## In units Kelvin\n",
    "    #\n",
    "    # Wavelenght\n",
    "    wavelen_min = 1.e-7 # Minimum wavelength in meters\n",
    "    waveln_max  = 6.e-5 #Maximum wavelength in meters\n",
    "    samples     = 100 # Number of steps to output\n",
    "    #\n",
    "    ### List of wavelengths - Computing the wavelengths \n",
    "    # Creating array of number of samples\n",
    "    wavelen = np.arange(samples)\n",
    "    # Populating the array of wavelengths\n",
    "    wavelen = wavelen_min + (waveln_max - wavelen_min) * wavelen / float(samples)\n",
    "    #\n",
    "    ## Computing the radiance\n",
    "    # Defining array for `data`\n",
    "    data = [[] for x in range(len(T_arr))]\n",
    "    for kk in range(len(T_arr)):\n",
    "        radiance_kk = planck_spectrum(T_arr[kk], wavelen)\n",
    "        # Stacking the data\n",
    "        data_kk = np.column_stack((wavelen, radiance_kk))\n",
    "        # Sorting data from smallest to largest wavelength\n",
    "        data_kk_sort_idx = np.argsort(data_kk[:,0])\n",
    "        data_kk_sort     = data_kk[data_kk_sort_idx]\n",
    "        # Saving to array\n",
    "        data[kk] = data_kk_sort\n",
    "    #\n",
    "    # Plotting data\n",
    "    plot_planck_2(data, T_arr)"
   ]
  },
  {
   "cell_type": "code",
   "execution_count": 138,
   "metadata": {},
   "outputs": [
    {
     "data": {
      "image/png": "[encoded data removed]",
      "text/plain": [
       "<Figure size 720x720 with 1 Axes>"
      ]
     },
     "metadata": {},
     "output_type": "display_data"
    }
   ],
   "source": [
    "main_2()"
   ]
  },
  {
   "cell_type": "markdown",
   "metadata": {},
   "source": [
    "Now you see how the Planck spectrum changes as a function of wavelength $\\lambda$!\n"
   ]
  },
  {
   "cell_type": "code",
   "execution_count": 45,
   "metadata": {},
   "outputs": [
    {
     "name": "stdout",
     "output_type": "stream",
     "text": [
      "The intensity of the Planck spectrum at 300 K and 1 cm wavelength is: 0.0002478041372158598 W/m^2/sr\n"
     ]
    }
   ],
   "source": [
    "import math\n",
    "\n",
    "def planck_intensity(temperature, wavelength):\n",
    "    h = 6.626e-34  # Planck's constant in J*s\n",
    "    c = 3.0e8      # Speed of light in m/s\n",
    "    k = 1.38e-23   # Boltzmann constant in J/K\n",
    "    \n",
    "    wavelength_m = wavelength * 1e-2  # Convert wavelength from cm to m\n",
    "    exponent = h * c / (wavelength_m * k * temperature)\n",
    "    \n",
    "    intensity = (2 * h * c**2) / (wavelength_m**5) * (1 / (math.e**exponent - 1))\n",
    "    return intensity\n",
    "\n",
    "temperature = 300  # Temperature in Kelvin\n",
    "wavelength = 1     # Wavelength in cm\n",
    "\n",
    "intensity = planck_intensity(temperature, wavelength)\n",
    "print(f\"The intensity of the Planck spectrum at {temperature} K and {wavelength} cm wavelength is: {intensity} W/m^2/sr\")\n"
   ]
  },
  {
   "cell_type": "markdown",
   "metadata": {},
   "source": [
    "### That was it! Congrats!! 🎉"
   ]
  }
 ],
 "metadata": {
  "kernelspec": {
   "display_name": "Python 3 (ipykernel)",
   "language": "python",
   "name": "python3"
  },
  "language_info": {
   "codemirror_mode": {
    "name": "ipython",
    "version": 3
   },
   "file_extension": ".py",
   "mimetype": "text/x-python",
   "name": "python",
   "nbconvert_exporter": "python",
   "pygments_lexer": "ipython3",
   "version": "3.9.13"
  },
  "latex_envs": {
   "LaTeX_envs_menu_present": true,
   "autocomplete": true,
   "bibliofile": "biblio.bib",
   "cite_by": "apalike",
   "current_citInitial": 1,
   "eqLabelWithNumbers": true,
   "eqNumInitial": 1,
   "hotkeys": {
    "equation": "Ctrl-E",
    "itemize": "Ctrl-I"
   },
   "labels_anchors": false,
   "latex_user_defs": false,
   "report_style_numbering": false,
   "user_envs_cfg": false
  }
 },
 "nbformat": 4,
 "nbformat_minor": 2
}
