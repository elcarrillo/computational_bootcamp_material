{
 "cells": [
  {
   "cell_type": "markdown",
   "metadata": {},
   "source": [
    "![Pandas Logo](http://pandas.pydata.org/_static/pandas_logo.png)\n",
    "\n",
    "# <span style=\"color:blue\">Week 08 - Introduction to Pandas </span>\n",
    "\n",
    "## <span style=\"color:red\">Today's Agenda </span>\n",
    "- Pandas: Introduction\n",
    "    - Series\n",
    "    - DataFrames\n",
    "    - Indexing, Selecting, Filtering\n",
    "    - Drop columns\n",
    "    - Handling missing Data\n",
    "    "
   ]
  },
  {
   "cell_type": "code",
   "execution_count": 1,
   "metadata": {},
   "outputs": [],
   "source": [
    "# Importing modules\n",
    "%matplotlib inline\n",
    "import matplotlib.pyplot as plt\n",
    "import pandas as pd\n",
    "import numpy as np\n",
    "import seaborn as sns\n",
    "sns.set_context(\"notebook\")\n",
    "import matplotlib\n",
    "matplotlib.rc(\"text\", usetex=False)"
   ]
  },
  {
   "cell_type": "markdown",
   "metadata": {},
   "source": [
    "# Series\n",
    "A _Series_ is a one-dimensional array-like object containing an array of data and an associated array of __data labels__.\n",
    "One can use any NumPy data type to assign to the _Series_\n",
    "\n",
    "Creating a Series:"
   ]
  },
  {
   "cell_type": "code",
   "execution_count": 2,
   "metadata": {},
   "outputs": [
    {
     "data": {
      "text/plain": [
       "array([4.17022005e-01, 7.20324493e-01, 1.14374817e-04, 3.02332573e-01,\n",
       "       1.46755891e-01, 9.23385948e-02, 1.86260211e-01, 3.45560727e-01,\n",
       "       3.96767474e-01, 5.38816734e-01])"
      ]
     },
     "execution_count": 2,
     "metadata": {},
     "output_type": "execute_result"
    }
   ],
   "source": [
    "np.random.seed(1)\n",
    "\n",
    "np.random.random(10)"
   ]
  },
  {
   "cell_type": "code",
   "execution_count": 3,
   "metadata": {
    "jupyter": {
     "outputs_hidden": false
    }
   },
   "outputs": [
    {
     "data": {
      "text/plain": [
       "0    0.419195\n",
       "1    0.685220\n",
       "2    0.204452\n",
       "3    0.878117\n",
       "4    0.027388\n",
       "5    0.670468\n",
       "6    0.417305\n",
       "7    0.558690\n",
       "8    0.140387\n",
       "9    0.198101\n",
       "dtype: float64"
      ]
     },
     "execution_count": 3,
     "metadata": {},
     "output_type": "execute_result"
    }
   ],
   "source": [
    "series_1 = pd.Series(np.random.random(10))\n",
    "series_1"
   ]
  },
  {
   "cell_type": "markdown",
   "metadata": {},
   "source": [
    "One can get a NumPy array from the Series, by typing:"
   ]
  },
  {
   "cell_type": "code",
   "execution_count": 4,
   "metadata": {
    "jupyter": {
     "outputs_hidden": false
    }
   },
   "outputs": [
    {
     "data": {
      "text/plain": [
       "array([0.41919451, 0.6852195 , 0.20445225, 0.87811744, 0.02738759,\n",
       "       0.67046751, 0.4173048 , 0.55868983, 0.14038694, 0.19810149])"
      ]
     },
     "execution_count": 4,
     "metadata": {},
     "output_type": "execute_result"
    }
   ],
   "source": [
    "series_1.values"
   ]
  },
  {
   "cell_type": "markdown",
   "metadata": {},
   "source": [
    "# Reindexing"
   ]
  },
  {
   "cell_type": "markdown",
   "metadata": {},
   "source": [
    "One can also get the indices of each element, by typing:"
   ]
  },
  {
   "cell_type": "code",
   "execution_count": 5,
   "metadata": {
    "jupyter": {
     "outputs_hidden": false
    }
   },
   "outputs": [
    {
     "data": {
      "text/plain": [
       "array([0, 1, 2, 3, 4, 5, 6, 7, 8, 9])"
      ]
     },
     "execution_count": 5,
     "metadata": {},
     "output_type": "execute_result"
    }
   ],
   "source": [
    "series_1.index.values"
   ]
  },
  {
   "cell_type": "markdown",
   "metadata": {},
   "source": [
    "One can also have a custom set of indices:"
   ]
  },
  {
   "cell_type": "code",
   "execution_count": 6,
   "metadata": {
    "jupyter": {
     "outputs_hidden": false
    }
   },
   "outputs": [
    {
     "data": {
      "text/plain": [
       "['a', 'b', 'c', 'd', 'e', 'f', 'g', 'h', 'i', 'j']"
      ]
     },
     "execution_count": 6,
     "metadata": {},
     "output_type": "execute_result"
    }
   ],
   "source": [
    "# import string\n",
    "# alphabet = string.lowercase\n",
    "# alphabet = np.array([x for x in alphabet])[0:10]\n",
    "# alphabet\n",
    "\n",
    "alphabet = ['a', 'b', 'c', 'd', 'e', 'f', 'g', 'h', 'i', 'j']\n",
    "alphabet"
   ]
  },
  {
   "cell_type": "code",
   "execution_count": 7,
   "metadata": {
    "jupyter": {
     "outputs_hidden": false
    }
   },
   "outputs": [
    {
     "data": {
      "text/plain": [
       "a    0.800745\n",
       "b    0.968262\n",
       "c    0.313424\n",
       "d    0.692323\n",
       "e    0.876389\n",
       "f    0.894607\n",
       "g    0.085044\n",
       "h    0.039055\n",
       "i    0.169830\n",
       "j    0.878143\n",
       "dtype: float64"
      ]
     },
     "execution_count": 7,
     "metadata": {},
     "output_type": "execute_result"
    }
   ],
   "source": [
    "series_2 = pd.Series(np.random.random(len(alphabet)), index=alphabet)\n",
    "series_2"
   ]
  },
  {
   "cell_type": "markdown",
   "metadata": {},
   "source": [
    "One can select only a subsample of the _Series_"
   ]
  },
  {
   "cell_type": "code",
   "execution_count": 8,
   "metadata": {},
   "outputs": [
    {
     "data": {
      "text/plain": [
       "0    0.419195\n",
       "1    0.685220\n",
       "2    0.204452\n",
       "dtype: float64"
      ]
     },
     "execution_count": 8,
     "metadata": {},
     "output_type": "execute_result"
    }
   ],
   "source": [
    "series_1[[0, 1, 2]]"
   ]
  },
  {
   "cell_type": "code",
   "execution_count": 9,
   "metadata": {
    "jupyter": {
     "outputs_hidden": false
    }
   },
   "outputs": [
    {
     "data": {
      "text/plain": [
       "1    0.685220\n",
       "3    0.878117\n",
       "4    0.027388\n",
       "dtype: float64"
      ]
     },
     "execution_count": 9,
     "metadata": {},
     "output_type": "execute_result"
    }
   ],
   "source": [
    "series_1[[1,3,4]]"
   ]
  },
  {
   "cell_type": "code",
   "execution_count": 10,
   "metadata": {
    "jupyter": {
     "outputs_hidden": false
    }
   },
   "outputs": [
    {
     "data": {
      "text/plain": [
       "a    0.800745\n",
       "d    0.692323\n",
       "j    0.878143\n",
       "dtype: float64"
      ]
     },
     "execution_count": 10,
     "metadata": {},
     "output_type": "execute_result"
    }
   ],
   "source": [
    "series_2[['a','d','j']]"
   ]
  },
  {
   "cell_type": "markdown",
   "metadata": {},
   "source": [
    "# Arithmetic and function Mapping"
   ]
  },
  {
   "cell_type": "markdown",
   "metadata": {},
   "source": [
    "You can also perform numerical expressions"
   ]
  },
  {
   "cell_type": "code",
   "execution_count": 11,
   "metadata": {},
   "outputs": [
    {
     "data": {
      "text/plain": [
       "0    0.175724\n",
       "1    0.469526\n",
       "2    0.041801\n",
       "3    0.771090\n",
       "4    0.000750\n",
       "5    0.449527\n",
       "6    0.174143\n",
       "7    0.312134\n",
       "8    0.019708\n",
       "9    0.039244\n",
       "dtype: float64"
      ]
     },
     "execution_count": 11,
     "metadata": {},
     "output_type": "execute_result"
    }
   ],
   "source": [
    "series_1**2"
   ]
  },
  {
   "cell_type": "code",
   "execution_count": 12,
   "metadata": {
    "jupyter": {
     "outputs_hidden": false
    }
   },
   "outputs": [
    {
     "data": {
      "text/plain": [
       "0.4695257637239847"
      ]
     },
     "execution_count": 12,
     "metadata": {},
     "output_type": "execute_result"
    }
   ],
   "source": [
    "series_1[1]**2"
   ]
  },
  {
   "cell_type": "markdown",
   "metadata": {},
   "source": [
    "Or find values greater than some value '__x__'"
   ]
  },
  {
   "cell_type": "code",
   "execution_count": 13,
   "metadata": {
    "jupyter": {
     "outputs_hidden": false
    }
   },
   "outputs": [
    {
     "data": {
      "text/plain": [
       "1    0.685220\n",
       "5    0.670468\n",
       "7    0.558690\n",
       "dtype: float64"
      ]
     },
     "execution_count": 13,
     "metadata": {},
     "output_type": "execute_result"
    }
   ],
   "source": [
    "x = 0.5\n",
    "series_1[(series_1 >= x) & (series_1 < 0.8)]"
   ]
  },
  {
   "cell_type": "markdown",
   "metadata": {},
   "source": [
    "You can apply functions to a column, and save it as a _new_ Series"
   ]
  },
  {
   "cell_type": "code",
   "execution_count": 14,
   "metadata": {},
   "outputs": [],
   "source": [
    "import sys\n",
    "def exponentials(arr, basis=10.):\n",
    "    \"\"\"\n",
    "    Uses the array `arr` as the exponents for `basis`\n",
    "    \n",
    "    Parameters\n",
    "    ----------\n",
    "    arr: numpy array, list, pandas Series; shape (N,)\n",
    "        array to be used as exponents of `basis`\n",
    "    \n",
    "    power: int or float, optional (default = 10)\n",
    "        number used as the basis\n",
    "    \n",
    "    Returns\n",
    "    -------\n",
    "    exp_arr: numpy array or list, shape (N,)\n",
    "        array of values for `basis`**`arr`\n",
    "    \"\"\"\n",
    "    if isinstance(arr, list):\n",
    "        exp_arr = [basis**x for x in arr]\n",
    "        return exp_arr        \n",
    "    elif isinstance(arr, np.ndarray) or isinstance(arr, pd.core.series.Series):\n",
    "        exp_arr = basis**arr\n",
    "        return exp_arr\n",
    "    else:\n",
    "        cmd = \">>>> `arr` is not a list nor a numpy array\"\n",
    "        cmd +=\"\\n>>>> Please give the correct type of object\"\n",
    "        print(cmd)\n",
    "        sys.exit(1)"
   ]
  },
  {
   "cell_type": "code",
   "execution_count": 1,
   "metadata": {
    "jupyter": {
     "outputs_hidden": false
    }
   },
   "outputs": [
    {
     "ename": "NameError",
     "evalue": "name 'exponentials' is not defined",
     "output_type": "error",
     "traceback": [
      "\u001b[0;31m---------------------------------------------------------------------------\u001b[0m",
      "\u001b[0;31mNameError\u001b[0m                                 Traceback (most recent call last)",
      "\u001b[0;32m/var/folders/q2/2v_9qp1s1n9635tlzjm697gc0000gr/T/ipykernel_62819/1844896678.py\u001b[0m in \u001b[0;36m<module>\u001b[0;34m\u001b[0m\n\u001b[0;32m----> 1\u001b[0;31m \u001b[0mexponentials\u001b[0m\u001b[0;34m(\u001b[0m\u001b[0mseries_1\u001b[0m\u001b[0;34m[\u001b[0m\u001b[0;34m(\u001b[0m\u001b[0mseries_1\u001b[0m \u001b[0;34m>=\u001b[0m \u001b[0mx\u001b[0m\u001b[0;34m)\u001b[0m \u001b[0;34m&\u001b[0m \u001b[0;34m(\u001b[0m\u001b[0mseries_1\u001b[0m \u001b[0;34m>\u001b[0m \u001b[0;36m0.6\u001b[0m\u001b[0;34m)\u001b[0m\u001b[0;34m]\u001b[0m\u001b[0;34m)\u001b[0m\u001b[0;34m.\u001b[0m\u001b[0mvalues\u001b[0m\u001b[0;34m\u001b[0m\u001b[0;34m\u001b[0m\u001b[0m\n\u001b[0m",
      "\u001b[0;31mNameError\u001b[0m: name 'exponentials' is not defined"
     ]
    }
   ],
   "source": [
    "exponentials(series_1[(series_1 >= x) & (series_1 > 0.6)]).values"
   ]
  },
  {
   "cell_type": "markdown",
   "metadata": {},
   "source": [
    "You can also __create__ a _Series_ using a _dictionary_ (we talked about these on __Week 4__)"
   ]
  },
  {
   "cell_type": "code",
   "execution_count": 16,
   "metadata": {
    "jupyter": {
     "outputs_hidden": false
    }
   },
   "outputs": [
    {
     "data": {
      "text/plain": [
       "{'foo': 100, 'bar': 200, 'baz': 300}"
      ]
     },
     "execution_count": 16,
     "metadata": {},
     "output_type": "execute_result"
    }
   ],
   "source": [
    "labels_arr = ['foo', 'bar', 'baz']\n",
    "data_arr   = [100, 200, 300]\n",
    "dict_1     = dict(zip(labels_arr, data_arr))\n",
    "dict_1"
   ]
  },
  {
   "cell_type": "code",
   "execution_count": 17,
   "metadata": {
    "jupyter": {
     "outputs_hidden": false
    }
   },
   "outputs": [
    {
     "data": {
      "text/plain": [
       "foo    100\n",
       "bar    200\n",
       "baz    300\n",
       "dtype: int64"
      ]
     },
     "execution_count": 17,
     "metadata": {},
     "output_type": "execute_result"
    }
   ],
   "source": [
    "series_3 = pd.Series(dict_1)\n",
    "series_3"
   ]
  },
  {
   "cell_type": "markdown",
   "metadata": {},
   "source": [
    "# Handling Missing Data"
   ]
  },
  {
   "cell_type": "markdown",
   "metadata": {},
   "source": [
    "One of the most useful features of pandas is that it __can handle missing data__ quite easily:"
   ]
  },
  {
   "cell_type": "code",
   "execution_count": 18,
   "metadata": {
    "jupyter": {
     "outputs_hidden": false
    }
   },
   "outputs": [
    {
     "data": {
      "text/plain": [
       "foo    100.0\n",
       "bar    200.0\n",
       "baz    300.0\n",
       "qux      NaN\n",
       "dtype: float64"
      ]
     },
     "execution_count": 18,
     "metadata": {},
     "output_type": "execute_result"
    }
   ],
   "source": [
    "index = ['foo', 'bar', 'baz', 'qux']\n",
    "series_4 = pd.Series(dict_1, index=index)\n",
    "series_4"
   ]
  },
  {
   "cell_type": "code",
   "execution_count": 19,
   "metadata": {
    "jupyter": {
     "outputs_hidden": false
    }
   },
   "outputs": [
    {
     "data": {
      "text/plain": [
       "foo    False\n",
       "bar    False\n",
       "baz    False\n",
       "qux     True\n",
       "dtype: bool"
      ]
     },
     "execution_count": 19,
     "metadata": {},
     "output_type": "execute_result"
    }
   ],
   "source": [
    "pd.isnull(series_4)"
   ]
  },
  {
   "cell_type": "code",
   "execution_count": 20,
   "metadata": {},
   "outputs": [
    {
     "data": {
      "text/plain": [
       "foo    100\n",
       "bar    200\n",
       "baz    300\n",
       "dtype: int64"
      ]
     },
     "execution_count": 20,
     "metadata": {},
     "output_type": "execute_result"
    }
   ],
   "source": [
    "series_3"
   ]
  },
  {
   "cell_type": "code",
   "execution_count": 21,
   "metadata": {
    "jupyter": {
     "outputs_hidden": false
    }
   },
   "outputs": [
    {
     "data": {
      "text/plain": [
       "bar    400.0\n",
       "baz    600.0\n",
       "foo    200.0\n",
       "qux      NaN\n",
       "dtype: float64"
      ]
     },
     "execution_count": 21,
     "metadata": {},
     "output_type": "execute_result"
    }
   ],
   "source": [
    "series_3 + series_4"
   ]
  },
  {
   "cell_type": "markdown",
   "metadata": {},
   "source": [
    "So using a Series is powerful, but __DataFrames__ are probably what gets used the most since it represents a _tabular data structure_ containing an ordered collection of __columns__ and __rows__."
   ]
  },
  {
   "cell_type": "markdown",
   "metadata": {},
   "source": [
    "# DataFrames"
   ]
  },
  {
   "cell_type": "markdown",
   "metadata": {},
   "source": [
    "A DataFrame is a \"tabular data structure\" containing an _ordered collection of columns_. Each column can a have a __different__ data type.\n",
    "\n",
    "Row and column operations are treated roughly symmetrically.\n",
    "One can obtain a DataFrame from a normal dictionary, or by reading a file with columns and rows."
   ]
  },
  {
   "cell_type": "markdown",
   "metadata": {},
   "source": [
    "Creating a DataFrame"
   ]
  },
  {
   "cell_type": "code",
   "execution_count": 5,
   "metadata": {
    "jupyter": {
     "outputs_hidden": false
    }
   },
   "outputs": [
    {
     "data": {
      "text/html": [
       "<div>\n",
       "<style scoped>\n",
       "    .dataframe tbody tr th:only-of-type {\n",
       "        vertical-align: middle;\n",
       "    }\n",
       "\n",
       "    .dataframe tbody tr th {\n",
       "        vertical-align: top;\n",
       "    }\n",
       "\n",
       "    .dataframe thead th {\n",
       "        text-align: right;\n",
       "    }\n",
       "</style>\n",
       "<table border=\"1\" class=\"dataframe\">\n",
       "  <thead>\n",
       "    <tr style=\"text-align: right;\">\n",
       "      <th></th>\n",
       "      <th>state</th>\n",
       "      <th>year</th>\n",
       "      <th>popu</th>\n",
       "    </tr>\n",
       "  </thead>\n",
       "  <tbody>\n",
       "    <tr>\n",
       "      <th>0</th>\n",
       "      <td>VA</td>\n",
       "      <td>2012</td>\n",
       "      <td>5.0</td>\n",
       "    </tr>\n",
       "    <tr>\n",
       "      <th>1</th>\n",
       "      <td>VA</td>\n",
       "      <td>2013</td>\n",
       "      <td>5.1</td>\n",
       "    </tr>\n",
       "    <tr>\n",
       "      <th>2</th>\n",
       "      <td>VA</td>\n",
       "      <td>2014</td>\n",
       "      <td>5.2</td>\n",
       "    </tr>\n",
       "    <tr>\n",
       "      <th>3</th>\n",
       "      <td>MD</td>\n",
       "      <td>2014</td>\n",
       "      <td>4.0</td>\n",
       "    </tr>\n",
       "    <tr>\n",
       "      <th>4</th>\n",
       "      <td>MD</td>\n",
       "      <td>2015</td>\n",
       "      <td>4.1</td>\n",
       "    </tr>\n",
       "  </tbody>\n",
       "</table>\n",
       "</div>"
      ],
      "text/plain": [
       "  state  year  popu\n",
       "0    VA  2012   5.0\n",
       "1    VA  2013   5.1\n",
       "2    VA  2014   5.2\n",
       "3    MD  2014   4.0\n",
       "4    MD  2015   4.1"
      ]
     },
     "execution_count": 5,
     "metadata": {},
     "output_type": "execute_result"
    }
   ],
   "source": [
    "data_1 = {'state' : ['VA', 'VA', 'VA', 'MD', 'MD'],\n",
    "          'year' : [2012, 2013, 2014, 2014, 2015],\n",
    "          'popu' : [5.0, 5.1, 5.2, 4.0, 4.1]}\n",
    "df_1 = pd.DataFrame(data_1)\n",
    "df_1"
   ]
  },
  {
   "cell_type": "markdown",
   "metadata": {},
   "source": [
    "This DataFrame has 4 rows and 3 columns by the name \"_pop_\", \"_state_\", and \"_year_\".\n",
    "\n",
    "The way to __access__ a DataFrame is quite similar to that of accessing a _Series_.<br>\n",
    "To access a __column__, one writes the name of the `column`, as in the following example:"
   ]
  },
  {
   "cell_type": "code",
   "execution_count": 6,
   "metadata": {
    "jupyter": {
     "outputs_hidden": false
    }
   },
   "outputs": [
    {
     "data": {
      "text/plain": [
       "0    5.0\n",
       "1    5.1\n",
       "2    5.2\n",
       "3    4.0\n",
       "4    4.1\n",
       "Name: popu, dtype: float64"
      ]
     },
     "execution_count": 6,
     "metadata": {},
     "output_type": "execute_result"
    }
   ],
   "source": [
    "df_1['popu']"
   ]
  },
  {
   "cell_type": "code",
   "execution_count": 7,
   "metadata": {
    "jupyter": {
     "outputs_hidden": false
    }
   },
   "outputs": [
    {
     "data": {
      "text/plain": [
       "0    5.0\n",
       "1    5.1\n",
       "2    5.2\n",
       "3    4.0\n",
       "4    4.1\n",
       "Name: popu, dtype: float64"
      ]
     },
     "execution_count": 7,
     "metadata": {},
     "output_type": "execute_result"
    }
   ],
   "source": [
    "df_1.popu"
   ]
  },
  {
   "cell_type": "markdown",
   "metadata": {},
   "source": [
    "One can also handle __missing data__ with DataFrames.\n",
    "Like Series, columns that are not present in the data are NaNs:"
   ]
  },
  {
   "cell_type": "code",
   "execution_count": 25,
   "metadata": {
    "jupyter": {
     "outputs_hidden": false
    }
   },
   "outputs": [
    {
     "data": {
      "text/html": [
       "<div>\n",
       "<style scoped>\n",
       "    .dataframe tbody tr th:only-of-type {\n",
       "        vertical-align: middle;\n",
       "    }\n",
       "\n",
       "    .dataframe tbody tr th {\n",
       "        vertical-align: top;\n",
       "    }\n",
       "\n",
       "    .dataframe thead th {\n",
       "        text-align: right;\n",
       "    }\n",
       "</style>\n",
       "<table border=\"1\" class=\"dataframe\">\n",
       "  <thead>\n",
       "    <tr style=\"text-align: right;\">\n",
       "      <th></th>\n",
       "      <th>year</th>\n",
       "      <th>state</th>\n",
       "      <th>popu</th>\n",
       "      <th>unempl</th>\n",
       "    </tr>\n",
       "  </thead>\n",
       "  <tbody>\n",
       "    <tr>\n",
       "      <th>0</th>\n",
       "      <td>2012</td>\n",
       "      <td>VA</td>\n",
       "      <td>5.0</td>\n",
       "      <td>NaN</td>\n",
       "    </tr>\n",
       "    <tr>\n",
       "      <th>1</th>\n",
       "      <td>2013</td>\n",
       "      <td>VA</td>\n",
       "      <td>5.1</td>\n",
       "      <td>NaN</td>\n",
       "    </tr>\n",
       "    <tr>\n",
       "      <th>2</th>\n",
       "      <td>2014</td>\n",
       "      <td>VA</td>\n",
       "      <td>5.2</td>\n",
       "      <td>NaN</td>\n",
       "    </tr>\n",
       "    <tr>\n",
       "      <th>3</th>\n",
       "      <td>2014</td>\n",
       "      <td>MD</td>\n",
       "      <td>4.0</td>\n",
       "      <td>NaN</td>\n",
       "    </tr>\n",
       "    <tr>\n",
       "      <th>4</th>\n",
       "      <td>2015</td>\n",
       "      <td>MD</td>\n",
       "      <td>4.1</td>\n",
       "      <td>NaN</td>\n",
       "    </tr>\n",
       "  </tbody>\n",
       "</table>\n",
       "</div>"
      ],
      "text/plain": [
       "   year state  popu unempl\n",
       "0  2012    VA   5.0    NaN\n",
       "1  2013    VA   5.1    NaN\n",
       "2  2014    VA   5.2    NaN\n",
       "3  2014    MD   4.0    NaN\n",
       "4  2015    MD   4.1    NaN"
      ]
     },
     "execution_count": 25,
     "metadata": {},
     "output_type": "execute_result"
    }
   ],
   "source": [
    "df_2 = pd.DataFrame(data_1, columns=['year', 'state', 'popu', 'unempl'])\n",
    "df_2"
   ]
  },
  {
   "cell_type": "code",
   "execution_count": 26,
   "metadata": {
    "jupyter": {
     "outputs_hidden": false
    }
   },
   "outputs": [
    {
     "data": {
      "text/plain": [
       "0    VA\n",
       "1    VA\n",
       "2    VA\n",
       "3    MD\n",
       "4    MD\n",
       "Name: state, dtype: object"
      ]
     },
     "execution_count": 26,
     "metadata": {},
     "output_type": "execute_result"
    }
   ],
   "source": [
    "df_2['state']"
   ]
  },
  {
   "cell_type": "markdown",
   "metadata": {},
   "source": [
    "One can __retrieve a row__ by:"
   ]
  },
  {
   "cell_type": "code",
   "execution_count": 27,
   "metadata": {
    "jupyter": {
     "outputs_hidden": false
    }
   },
   "outputs": [
    {
     "data": {
      "text/html": [
       "<div>\n",
       "<style scoped>\n",
       "    .dataframe tbody tr th:only-of-type {\n",
       "        vertical-align: middle;\n",
       "    }\n",
       "\n",
       "    .dataframe tbody tr th {\n",
       "        vertical-align: top;\n",
       "    }\n",
       "\n",
       "    .dataframe thead th {\n",
       "        text-align: right;\n",
       "    }\n",
       "</style>\n",
       "<table border=\"1\" class=\"dataframe\">\n",
       "  <thead>\n",
       "    <tr style=\"text-align: right;\">\n",
       "      <th></th>\n",
       "      <th>year</th>\n",
       "      <th>state</th>\n",
       "      <th>popu</th>\n",
       "      <th>unempl</th>\n",
       "    </tr>\n",
       "  </thead>\n",
       "  <tbody>\n",
       "    <tr>\n",
       "      <th>1</th>\n",
       "      <td>2013</td>\n",
       "      <td>VA</td>\n",
       "      <td>5.1</td>\n",
       "      <td>NaN</td>\n",
       "    </tr>\n",
       "    <tr>\n",
       "      <th>2</th>\n",
       "      <td>2014</td>\n",
       "      <td>VA</td>\n",
       "      <td>5.2</td>\n",
       "      <td>NaN</td>\n",
       "    </tr>\n",
       "    <tr>\n",
       "      <th>3</th>\n",
       "      <td>2014</td>\n",
       "      <td>MD</td>\n",
       "      <td>4.0</td>\n",
       "      <td>NaN</td>\n",
       "    </tr>\n",
       "  </tbody>\n",
       "</table>\n",
       "</div>"
      ],
      "text/plain": [
       "   year state  popu unempl\n",
       "1  2013    VA   5.1    NaN\n",
       "2  2014    VA   5.2    NaN\n",
       "3  2014    MD   4.0    NaN"
      ]
     },
     "execution_count": 27,
     "metadata": {},
     "output_type": "execute_result"
    }
   ],
   "source": [
    "df_2.iloc[1:4]"
   ]
  },
  {
   "cell_type": "markdown",
   "metadata": {},
   "source": [
    "Editing a DataFrame is quite easy to do. One can _assign_ a Series to a column of the DataFrame. If the Series is a list or an array, __the length must match the DataFrame__."
   ]
  },
  {
   "cell_type": "code",
   "execution_count": 28,
   "metadata": {
    "jupyter": {
     "outputs_hidden": false
    }
   },
   "outputs": [
    {
     "data": {
      "text/plain": [
       "1     1.0\n",
       "3     2.0\n",
       "5    10.0\n",
       "dtype: float64"
      ]
     },
     "execution_count": 28,
     "metadata": {},
     "output_type": "execute_result"
    }
   ],
   "source": [
    "unempl = pd.Series([1.0, 2.0, 10.], index=[1,3,5])\n",
    "unempl"
   ]
  },
  {
   "cell_type": "code",
   "execution_count": 29,
   "metadata": {
    "jupyter": {
     "outputs_hidden": false
    }
   },
   "outputs": [
    {
     "data": {
      "text/html": [
       "<div>\n",
       "<style scoped>\n",
       "    .dataframe tbody tr th:only-of-type {\n",
       "        vertical-align: middle;\n",
       "    }\n",
       "\n",
       "    .dataframe tbody tr th {\n",
       "        vertical-align: top;\n",
       "    }\n",
       "\n",
       "    .dataframe thead th {\n",
       "        text-align: right;\n",
       "    }\n",
       "</style>\n",
       "<table border=\"1\" class=\"dataframe\">\n",
       "  <thead>\n",
       "    <tr style=\"text-align: right;\">\n",
       "      <th></th>\n",
       "      <th>year</th>\n",
       "      <th>state</th>\n",
       "      <th>popu</th>\n",
       "      <th>unempl</th>\n",
       "    </tr>\n",
       "  </thead>\n",
       "  <tbody>\n",
       "    <tr>\n",
       "      <th>0</th>\n",
       "      <td>2012</td>\n",
       "      <td>VA</td>\n",
       "      <td>5.0</td>\n",
       "      <td>NaN</td>\n",
       "    </tr>\n",
       "    <tr>\n",
       "      <th>1</th>\n",
       "      <td>2013</td>\n",
       "      <td>VA</td>\n",
       "      <td>5.1</td>\n",
       "      <td>1.0</td>\n",
       "    </tr>\n",
       "    <tr>\n",
       "      <th>2</th>\n",
       "      <td>2014</td>\n",
       "      <td>VA</td>\n",
       "      <td>5.2</td>\n",
       "      <td>NaN</td>\n",
       "    </tr>\n",
       "    <tr>\n",
       "      <th>3</th>\n",
       "      <td>2014</td>\n",
       "      <td>MD</td>\n",
       "      <td>4.0</td>\n",
       "      <td>2.0</td>\n",
       "    </tr>\n",
       "    <tr>\n",
       "      <th>4</th>\n",
       "      <td>2015</td>\n",
       "      <td>MD</td>\n",
       "      <td>4.1</td>\n",
       "      <td>NaN</td>\n",
       "    </tr>\n",
       "  </tbody>\n",
       "</table>\n",
       "</div>"
      ],
      "text/plain": [
       "   year state  popu  unempl\n",
       "0  2012    VA   5.0     NaN\n",
       "1  2013    VA   5.1     1.0\n",
       "2  2014    VA   5.2     NaN\n",
       "3  2014    MD   4.0     2.0\n",
       "4  2015    MD   4.1     NaN"
      ]
     },
     "execution_count": 29,
     "metadata": {},
     "output_type": "execute_result"
    }
   ],
   "source": [
    "df_2['unempl'] = unempl\n",
    "df_2"
   ]
  },
  {
   "cell_type": "code",
   "execution_count": 30,
   "metadata": {
    "jupyter": {
     "outputs_hidden": false
    }
   },
   "outputs": [
    {
     "data": {
      "text/plain": [
       "0     True\n",
       "1    False\n",
       "2     True\n",
       "3    False\n",
       "4     True\n",
       "Name: unempl, dtype: bool"
      ]
     },
     "execution_count": 30,
     "metadata": {},
     "output_type": "execute_result"
    }
   ],
   "source": [
    "df_2.unempl.isnull()"
   ]
  },
  {
   "cell_type": "markdown",
   "metadata": {},
   "source": [
    "You can also __transpose__ a DataFrame, i.e. switch rows by columns, and columns by rows"
   ]
  },
  {
   "cell_type": "code",
   "execution_count": 31,
   "metadata": {
    "jupyter": {
     "outputs_hidden": false
    }
   },
   "outputs": [
    {
     "data": {
      "text/html": [
       "<div>\n",
       "<style scoped>\n",
       "    .dataframe tbody tr th:only-of-type {\n",
       "        vertical-align: middle;\n",
       "    }\n",
       "\n",
       "    .dataframe tbody tr th {\n",
       "        vertical-align: top;\n",
       "    }\n",
       "\n",
       "    .dataframe thead th {\n",
       "        text-align: right;\n",
       "    }\n",
       "</style>\n",
       "<table border=\"1\" class=\"dataframe\">\n",
       "  <thead>\n",
       "    <tr style=\"text-align: right;\">\n",
       "      <th></th>\n",
       "      <th>0</th>\n",
       "      <th>1</th>\n",
       "      <th>2</th>\n",
       "      <th>3</th>\n",
       "      <th>4</th>\n",
       "    </tr>\n",
       "  </thead>\n",
       "  <tbody>\n",
       "    <tr>\n",
       "      <th>year</th>\n",
       "      <td>2012</td>\n",
       "      <td>2013</td>\n",
       "      <td>2014</td>\n",
       "      <td>2014</td>\n",
       "      <td>2015</td>\n",
       "    </tr>\n",
       "    <tr>\n",
       "      <th>state</th>\n",
       "      <td>VA</td>\n",
       "      <td>VA</td>\n",
       "      <td>VA</td>\n",
       "      <td>MD</td>\n",
       "      <td>MD</td>\n",
       "    </tr>\n",
       "    <tr>\n",
       "      <th>popu</th>\n",
       "      <td>5</td>\n",
       "      <td>5.1</td>\n",
       "      <td>5.2</td>\n",
       "      <td>4</td>\n",
       "      <td>4.1</td>\n",
       "    </tr>\n",
       "    <tr>\n",
       "      <th>unempl</th>\n",
       "      <td>NaN</td>\n",
       "      <td>1</td>\n",
       "      <td>NaN</td>\n",
       "      <td>2</td>\n",
       "      <td>NaN</td>\n",
       "    </tr>\n",
       "  </tbody>\n",
       "</table>\n",
       "</div>"
      ],
      "text/plain": [
       "           0     1     2     3     4\n",
       "year    2012  2013  2014  2014  2015\n",
       "state     VA    VA    VA    MD    MD\n",
       "popu       5   5.1   5.2     4   4.1\n",
       "unempl   NaN     1   NaN     2   NaN"
      ]
     },
     "execution_count": 31,
     "metadata": {},
     "output_type": "execute_result"
    }
   ],
   "source": [
    "df_2.T"
   ]
  },
  {
   "cell_type": "markdown",
   "metadata": {},
   "source": [
    "Now, let's say you want to show __only the 'year' and 'popu' columns__.\n",
    "You can do it by:"
   ]
  },
  {
   "cell_type": "code",
   "execution_count": 32,
   "metadata": {},
   "outputs": [
    {
     "data": {
      "text/html": [
       "<div>\n",
       "<style scoped>\n",
       "    .dataframe tbody tr th:only-of-type {\n",
       "        vertical-align: middle;\n",
       "    }\n",
       "\n",
       "    .dataframe tbody tr th {\n",
       "        vertical-align: top;\n",
       "    }\n",
       "\n",
       "    .dataframe thead th {\n",
       "        text-align: right;\n",
       "    }\n",
       "</style>\n",
       "<table border=\"1\" class=\"dataframe\">\n",
       "  <thead>\n",
       "    <tr style=\"text-align: right;\">\n",
       "      <th></th>\n",
       "      <th>year</th>\n",
       "      <th>state</th>\n",
       "      <th>popu</th>\n",
       "      <th>unempl</th>\n",
       "    </tr>\n",
       "  </thead>\n",
       "  <tbody>\n",
       "    <tr>\n",
       "      <th>0</th>\n",
       "      <td>2012</td>\n",
       "      <td>VA</td>\n",
       "      <td>5.0</td>\n",
       "      <td>NaN</td>\n",
       "    </tr>\n",
       "    <tr>\n",
       "      <th>1</th>\n",
       "      <td>2013</td>\n",
       "      <td>VA</td>\n",
       "      <td>5.1</td>\n",
       "      <td>1.0</td>\n",
       "    </tr>\n",
       "    <tr>\n",
       "      <th>2</th>\n",
       "      <td>2014</td>\n",
       "      <td>VA</td>\n",
       "      <td>5.2</td>\n",
       "      <td>NaN</td>\n",
       "    </tr>\n",
       "    <tr>\n",
       "      <th>3</th>\n",
       "      <td>2014</td>\n",
       "      <td>MD</td>\n",
       "      <td>4.0</td>\n",
       "      <td>2.0</td>\n",
       "    </tr>\n",
       "    <tr>\n",
       "      <th>4</th>\n",
       "      <td>2015</td>\n",
       "      <td>MD</td>\n",
       "      <td>4.1</td>\n",
       "      <td>NaN</td>\n",
       "    </tr>\n",
       "  </tbody>\n",
       "</table>\n",
       "</div>"
      ],
      "text/plain": [
       "   year state  popu  unempl\n",
       "0  2012    VA   5.0     NaN\n",
       "1  2013    VA   5.1     1.0\n",
       "2  2014    VA   5.2     NaN\n",
       "3  2014    MD   4.0     2.0\n",
       "4  2015    MD   4.1     NaN"
      ]
     },
     "execution_count": 32,
     "metadata": {},
     "output_type": "execute_result"
    }
   ],
   "source": [
    "df_2"
   ]
  },
  {
   "cell_type": "code",
   "execution_count": 33,
   "metadata": {
    "jupyter": {
     "outputs_hidden": false
    }
   },
   "outputs": [
    {
     "data": {
      "text/html": [
       "<div>\n",
       "<style scoped>\n",
       "    .dataframe tbody tr th:only-of-type {\n",
       "        vertical-align: middle;\n",
       "    }\n",
       "\n",
       "    .dataframe tbody tr th {\n",
       "        vertical-align: top;\n",
       "    }\n",
       "\n",
       "    .dataframe thead th {\n",
       "        text-align: right;\n",
       "    }\n",
       "</style>\n",
       "<table border=\"1\" class=\"dataframe\">\n",
       "  <thead>\n",
       "    <tr style=\"text-align: right;\">\n",
       "      <th></th>\n",
       "      <th>year</th>\n",
       "      <th>unempl</th>\n",
       "    </tr>\n",
       "  </thead>\n",
       "  <tbody>\n",
       "    <tr>\n",
       "      <th>0</th>\n",
       "      <td>2012</td>\n",
       "      <td>NaN</td>\n",
       "    </tr>\n",
       "    <tr>\n",
       "      <th>1</th>\n",
       "      <td>2013</td>\n",
       "      <td>1.0</td>\n",
       "    </tr>\n",
       "    <tr>\n",
       "      <th>2</th>\n",
       "      <td>2014</td>\n",
       "      <td>NaN</td>\n",
       "    </tr>\n",
       "    <tr>\n",
       "      <th>3</th>\n",
       "      <td>2014</td>\n",
       "      <td>2.0</td>\n",
       "    </tr>\n",
       "    <tr>\n",
       "      <th>4</th>\n",
       "      <td>2015</td>\n",
       "      <td>NaN</td>\n",
       "    </tr>\n",
       "  </tbody>\n",
       "</table>\n",
       "</div>"
      ],
      "text/plain": [
       "   year  unempl\n",
       "0  2012     NaN\n",
       "1  2013     1.0\n",
       "2  2014     NaN\n",
       "3  2014     2.0\n",
       "4  2015     NaN"
      ]
     },
     "execution_count": 33,
     "metadata": {},
     "output_type": "execute_result"
    }
   ],
   "source": [
    "df_2[['year', 'unempl']]"
   ]
  },
  {
   "cell_type": "markdown",
   "metadata": {},
   "source": [
    "# Dropping Entries"
   ]
  },
  {
   "cell_type": "markdown",
   "metadata": {},
   "source": [
    "Let's say you only need a subsample of the table that you have, and you need to __drop__ a column from the DataFrame.\n",
    "You can do that by using the '_drop_' option:"
   ]
  },
  {
   "cell_type": "code",
   "execution_count": 34,
   "metadata": {
    "jupyter": {
     "outputs_hidden": false
    }
   },
   "outputs": [
    {
     "data": {
      "text/html": [
       "<div>\n",
       "<style scoped>\n",
       "    .dataframe tbody tr th:only-of-type {\n",
       "        vertical-align: middle;\n",
       "    }\n",
       "\n",
       "    .dataframe tbody tr th {\n",
       "        vertical-align: top;\n",
       "    }\n",
       "\n",
       "    .dataframe thead th {\n",
       "        text-align: right;\n",
       "    }\n",
       "</style>\n",
       "<table border=\"1\" class=\"dataframe\">\n",
       "  <thead>\n",
       "    <tr style=\"text-align: right;\">\n",
       "      <th></th>\n",
       "      <th>year</th>\n",
       "      <th>state</th>\n",
       "      <th>popu</th>\n",
       "      <th>unempl</th>\n",
       "    </tr>\n",
       "  </thead>\n",
       "  <tbody>\n",
       "    <tr>\n",
       "      <th>0</th>\n",
       "      <td>2012</td>\n",
       "      <td>VA</td>\n",
       "      <td>5.0</td>\n",
       "      <td>NaN</td>\n",
       "    </tr>\n",
       "    <tr>\n",
       "      <th>1</th>\n",
       "      <td>2013</td>\n",
       "      <td>VA</td>\n",
       "      <td>5.1</td>\n",
       "      <td>1.0</td>\n",
       "    </tr>\n",
       "    <tr>\n",
       "      <th>2</th>\n",
       "      <td>2014</td>\n",
       "      <td>VA</td>\n",
       "      <td>5.2</td>\n",
       "      <td>NaN</td>\n",
       "    </tr>\n",
       "    <tr>\n",
       "      <th>3</th>\n",
       "      <td>2014</td>\n",
       "      <td>MD</td>\n",
       "      <td>4.0</td>\n",
       "      <td>2.0</td>\n",
       "    </tr>\n",
       "    <tr>\n",
       "      <th>4</th>\n",
       "      <td>2015</td>\n",
       "      <td>MD</td>\n",
       "      <td>4.1</td>\n",
       "      <td>NaN</td>\n",
       "    </tr>\n",
       "  </tbody>\n",
       "</table>\n",
       "</div>"
      ],
      "text/plain": [
       "   year state  popu  unempl\n",
       "0  2012    VA   5.0     NaN\n",
       "1  2013    VA   5.1     1.0\n",
       "2  2014    VA   5.2     NaN\n",
       "3  2014    MD   4.0     2.0\n",
       "4  2015    MD   4.1     NaN"
      ]
     },
     "execution_count": 34,
     "metadata": {},
     "output_type": "execute_result"
    }
   ],
   "source": [
    "df_2"
   ]
  },
  {
   "cell_type": "code",
   "execution_count": 35,
   "metadata": {
    "jupyter": {
     "outputs_hidden": false
    }
   },
   "outputs": [
    {
     "data": {
      "text/html": [
       "<div>\n",
       "<style scoped>\n",
       "    .dataframe tbody tr th:only-of-type {\n",
       "        vertical-align: middle;\n",
       "    }\n",
       "\n",
       "    .dataframe tbody tr th {\n",
       "        vertical-align: top;\n",
       "    }\n",
       "\n",
       "    .dataframe thead th {\n",
       "        text-align: right;\n",
       "    }\n",
       "</style>\n",
       "<table border=\"1\" class=\"dataframe\">\n",
       "  <thead>\n",
       "    <tr style=\"text-align: right;\">\n",
       "      <th></th>\n",
       "      <th>year</th>\n",
       "      <th>state</th>\n",
       "      <th>popu</th>\n",
       "    </tr>\n",
       "  </thead>\n",
       "  <tbody>\n",
       "    <tr>\n",
       "      <th>0</th>\n",
       "      <td>2012</td>\n",
       "      <td>VA</td>\n",
       "      <td>5.0</td>\n",
       "    </tr>\n",
       "    <tr>\n",
       "      <th>1</th>\n",
       "      <td>2013</td>\n",
       "      <td>VA</td>\n",
       "      <td>5.1</td>\n",
       "    </tr>\n",
       "    <tr>\n",
       "      <th>2</th>\n",
       "      <td>2014</td>\n",
       "      <td>VA</td>\n",
       "      <td>5.2</td>\n",
       "    </tr>\n",
       "    <tr>\n",
       "      <th>3</th>\n",
       "      <td>2014</td>\n",
       "      <td>MD</td>\n",
       "      <td>4.0</td>\n",
       "    </tr>\n",
       "    <tr>\n",
       "      <th>4</th>\n",
       "      <td>2015</td>\n",
       "      <td>MD</td>\n",
       "      <td>4.1</td>\n",
       "    </tr>\n",
       "  </tbody>\n",
       "</table>\n",
       "</div>"
      ],
      "text/plain": [
       "   year state  popu\n",
       "0  2012    VA   5.0\n",
       "1  2013    VA   5.1\n",
       "2  2014    VA   5.2\n",
       "3  2014    MD   4.0\n",
       "4  2015    MD   4.1"
      ]
     },
     "execution_count": 35,
     "metadata": {},
     "output_type": "execute_result"
    }
   ],
   "source": [
    "df_3 = df_2.drop('unempl', axis=1)\n",
    "df_3\n",
    "\n",
    "df_2.drop('unempl', axis=1)"
   ]
  },
  {
   "cell_type": "code",
   "execution_count": 36,
   "metadata": {},
   "outputs": [
    {
     "data": {
      "text/html": [
       "<div>\n",
       "<style scoped>\n",
       "    .dataframe tbody tr th:only-of-type {\n",
       "        vertical-align: middle;\n",
       "    }\n",
       "\n",
       "    .dataframe tbody tr th {\n",
       "        vertical-align: top;\n",
       "    }\n",
       "\n",
       "    .dataframe thead th {\n",
       "        text-align: right;\n",
       "    }\n",
       "</style>\n",
       "<table border=\"1\" class=\"dataframe\">\n",
       "  <thead>\n",
       "    <tr style=\"text-align: right;\">\n",
       "      <th></th>\n",
       "      <th>year</th>\n",
       "      <th>state</th>\n",
       "      <th>popu</th>\n",
       "      <th>unempl</th>\n",
       "    </tr>\n",
       "  </thead>\n",
       "  <tbody>\n",
       "    <tr>\n",
       "      <th>0</th>\n",
       "      <td>2012</td>\n",
       "      <td>VA</td>\n",
       "      <td>5.0</td>\n",
       "      <td>NaN</td>\n",
       "    </tr>\n",
       "    <tr>\n",
       "      <th>1</th>\n",
       "      <td>2013</td>\n",
       "      <td>VA</td>\n",
       "      <td>5.1</td>\n",
       "      <td>1.0</td>\n",
       "    </tr>\n",
       "    <tr>\n",
       "      <th>2</th>\n",
       "      <td>2014</td>\n",
       "      <td>VA</td>\n",
       "      <td>5.2</td>\n",
       "      <td>NaN</td>\n",
       "    </tr>\n",
       "    <tr>\n",
       "      <th>3</th>\n",
       "      <td>2014</td>\n",
       "      <td>MD</td>\n",
       "      <td>4.0</td>\n",
       "      <td>2.0</td>\n",
       "    </tr>\n",
       "    <tr>\n",
       "      <th>4</th>\n",
       "      <td>2015</td>\n",
       "      <td>MD</td>\n",
       "      <td>4.1</td>\n",
       "      <td>NaN</td>\n",
       "    </tr>\n",
       "  </tbody>\n",
       "</table>\n",
       "</div>"
      ],
      "text/plain": [
       "   year state  popu  unempl\n",
       "0  2012    VA   5.0     NaN\n",
       "1  2013    VA   5.1     1.0\n",
       "2  2014    VA   5.2     NaN\n",
       "3  2014    MD   4.0     2.0\n",
       "4  2015    MD   4.1     NaN"
      ]
     },
     "execution_count": 36,
     "metadata": {},
     "output_type": "execute_result"
    }
   ],
   "source": [
    "df_2"
   ]
  },
  {
   "cell_type": "markdown",
   "metadata": {},
   "source": [
    "You can also __drop certain rows__:"
   ]
  },
  {
   "cell_type": "code",
   "execution_count": 37,
   "metadata": {},
   "outputs": [
    {
     "data": {
      "text/html": [
       "<div>\n",
       "<style scoped>\n",
       "    .dataframe tbody tr th:only-of-type {\n",
       "        vertical-align: middle;\n",
       "    }\n",
       "\n",
       "    .dataframe tbody tr th {\n",
       "        vertical-align: top;\n",
       "    }\n",
       "\n",
       "    .dataframe thead th {\n",
       "        text-align: right;\n",
       "    }\n",
       "</style>\n",
       "<table border=\"1\" class=\"dataframe\">\n",
       "  <thead>\n",
       "    <tr style=\"text-align: right;\">\n",
       "      <th></th>\n",
       "      <th>year</th>\n",
       "      <th>state</th>\n",
       "      <th>popu</th>\n",
       "      <th>unempl</th>\n",
       "    </tr>\n",
       "  </thead>\n",
       "  <tbody>\n",
       "    <tr>\n",
       "      <th>0</th>\n",
       "      <td>2012</td>\n",
       "      <td>VA</td>\n",
       "      <td>5.0</td>\n",
       "      <td>NaN</td>\n",
       "    </tr>\n",
       "    <tr>\n",
       "      <th>1</th>\n",
       "      <td>2013</td>\n",
       "      <td>VA</td>\n",
       "      <td>5.1</td>\n",
       "      <td>1.0</td>\n",
       "    </tr>\n",
       "    <tr>\n",
       "      <th>2</th>\n",
       "      <td>2014</td>\n",
       "      <td>VA</td>\n",
       "      <td>5.2</td>\n",
       "      <td>NaN</td>\n",
       "    </tr>\n",
       "    <tr>\n",
       "      <th>3</th>\n",
       "      <td>2014</td>\n",
       "      <td>MD</td>\n",
       "      <td>4.0</td>\n",
       "      <td>2.0</td>\n",
       "    </tr>\n",
       "    <tr>\n",
       "      <th>4</th>\n",
       "      <td>2015</td>\n",
       "      <td>MD</td>\n",
       "      <td>4.1</td>\n",
       "      <td>NaN</td>\n",
       "    </tr>\n",
       "  </tbody>\n",
       "</table>\n",
       "</div>"
      ],
      "text/plain": [
       "   year state  popu  unempl\n",
       "0  2012    VA   5.0     NaN\n",
       "1  2013    VA   5.1     1.0\n",
       "2  2014    VA   5.2     NaN\n",
       "3  2014    MD   4.0     2.0\n",
       "4  2015    MD   4.1     NaN"
      ]
     },
     "execution_count": 37,
     "metadata": {},
     "output_type": "execute_result"
    }
   ],
   "source": [
    "df_2"
   ]
  },
  {
   "cell_type": "code",
   "execution_count": 38,
   "metadata": {
    "jupyter": {
     "outputs_hidden": false
    }
   },
   "outputs": [
    {
     "data": {
      "text/html": [
       "<div>\n",
       "<style scoped>\n",
       "    .dataframe tbody tr th:only-of-type {\n",
       "        vertical-align: middle;\n",
       "    }\n",
       "\n",
       "    .dataframe tbody tr th {\n",
       "        vertical-align: top;\n",
       "    }\n",
       "\n",
       "    .dataframe thead th {\n",
       "        text-align: right;\n",
       "    }\n",
       "</style>\n",
       "<table border=\"1\" class=\"dataframe\">\n",
       "  <thead>\n",
       "    <tr style=\"text-align: right;\">\n",
       "      <th></th>\n",
       "      <th>year</th>\n",
       "      <th>state</th>\n",
       "      <th>popu</th>\n",
       "      <th>unempl</th>\n",
       "    </tr>\n",
       "  </thead>\n",
       "  <tbody>\n",
       "    <tr>\n",
       "      <th>0</th>\n",
       "      <td>2012</td>\n",
       "      <td>VA</td>\n",
       "      <td>5.0</td>\n",
       "      <td>NaN</td>\n",
       "    </tr>\n",
       "    <tr>\n",
       "      <th>3</th>\n",
       "      <td>2014</td>\n",
       "      <td>MD</td>\n",
       "      <td>4.0</td>\n",
       "      <td>2.0</td>\n",
       "    </tr>\n",
       "    <tr>\n",
       "      <th>4</th>\n",
       "      <td>2015</td>\n",
       "      <td>MD</td>\n",
       "      <td>4.1</td>\n",
       "      <td>NaN</td>\n",
       "    </tr>\n",
       "  </tbody>\n",
       "</table>\n",
       "</div>"
      ],
      "text/plain": [
       "   year state  popu  unempl\n",
       "0  2012    VA   5.0     NaN\n",
       "3  2014    MD   4.0     2.0\n",
       "4  2015    MD   4.1     NaN"
      ]
     },
     "execution_count": 38,
     "metadata": {},
     "output_type": "execute_result"
    }
   ],
   "source": [
    "df_4 = df_2.drop([1,2])\n",
    "df_4"
   ]
  },
  {
   "cell_type": "markdown",
   "metadata": {},
   "source": [
    "__Look at this carefully__! The DataFrame _preserved_ the same indices as for __df_2__.\n",
    "\n",
    "If you can to __reset__ the indices, you can do that by:"
   ]
  },
  {
   "cell_type": "code",
   "execution_count": 39,
   "metadata": {
    "jupyter": {
     "outputs_hidden": false
    }
   },
   "outputs": [
    {
     "data": {
      "text/html": [
       "<div>\n",
       "<style scoped>\n",
       "    .dataframe tbody tr th:only-of-type {\n",
       "        vertical-align: middle;\n",
       "    }\n",
       "\n",
       "    .dataframe tbody tr th {\n",
       "        vertical-align: top;\n",
       "    }\n",
       "\n",
       "    .dataframe thead th {\n",
       "        text-align: right;\n",
       "    }\n",
       "</style>\n",
       "<table border=\"1\" class=\"dataframe\">\n",
       "  <thead>\n",
       "    <tr style=\"text-align: right;\">\n",
       "      <th></th>\n",
       "      <th>index</th>\n",
       "      <th>year</th>\n",
       "      <th>state</th>\n",
       "      <th>popu</th>\n",
       "      <th>unempl</th>\n",
       "    </tr>\n",
       "  </thead>\n",
       "  <tbody>\n",
       "    <tr>\n",
       "      <th>0</th>\n",
       "      <td>0</td>\n",
       "      <td>2012</td>\n",
       "      <td>VA</td>\n",
       "      <td>5.0</td>\n",
       "      <td>NaN</td>\n",
       "    </tr>\n",
       "    <tr>\n",
       "      <th>1</th>\n",
       "      <td>3</td>\n",
       "      <td>2014</td>\n",
       "      <td>MD</td>\n",
       "      <td>4.0</td>\n",
       "      <td>2.0</td>\n",
       "    </tr>\n",
       "    <tr>\n",
       "      <th>2</th>\n",
       "      <td>4</td>\n",
       "      <td>2015</td>\n",
       "      <td>MD</td>\n",
       "      <td>4.1</td>\n",
       "      <td>NaN</td>\n",
       "    </tr>\n",
       "  </tbody>\n",
       "</table>\n",
       "</div>"
      ],
      "text/plain": [
       "   index  year state  popu  unempl\n",
       "0      0  2012    VA   5.0     NaN\n",
       "1      3  2014    MD   4.0     2.0\n",
       "2      4  2015    MD   4.1     NaN"
      ]
     },
     "execution_count": 39,
     "metadata": {},
     "output_type": "execute_result"
    }
   ],
   "source": [
    "df_4.reset_index(inplace=True)\n",
    "df_4"
   ]
  },
  {
   "cell_type": "markdown",
   "metadata": {},
   "source": [
    "# Gaia Dataset \n",
    "![Gaia](http://pbs.twimg.com/profile_images/1266601315/gaiaLogo_reasonably_small.png)\n",
    "\n",
    "Pandas is great at reading Data tables and CSV files, and other kinds of documents.\n",
    "For the remainder of this notebook, we will be using the [Gaia](https://www.cosmos.esa.int/web/gaia)'s DR1 catalogue."
   ]
  },
  {
   "cell_type": "code",
   "execution_count": 3,
   "metadata": {},
   "outputs": [],
   "source": [
    "import pandas as pd\n",
    "# Path to online file\n",
    "url_path = 'http://cdn.gea.esac.esa.int/Gaia/gdr2/gaia_source/csv/GaiaSource_1000172165251650944_1000424567594791808.csv.gz'\n",
    "\n",
    "# Converting data to DataFrame\n",
    "gaia_df = pd.read_csv(url_path, compression='gzip')"
   ]
  },
  {
   "cell_type": "code",
   "execution_count": 4,
   "metadata": {
    "jupyter": {
     "outputs_hidden": false
    }
   },
   "outputs": [
    {
     "data": {
      "text/html": [
       "<div>\n",
       "<style scoped>\n",
       "    .dataframe tbody tr th:only-of-type {\n",
       "        vertical-align: middle;\n",
       "    }\n",
       "\n",
       "    .dataframe tbody tr th {\n",
       "        vertical-align: top;\n",
       "    }\n",
       "\n",
       "    .dataframe thead th {\n",
       "        text-align: right;\n",
       "    }\n",
       "</style>\n",
       "<table border=\"1\" class=\"dataframe\">\n",
       "  <thead>\n",
       "    <tr style=\"text-align: right;\">\n",
       "      <th></th>\n",
       "      <th>solution_id</th>\n",
       "      <th>designation</th>\n",
       "      <th>source_id</th>\n",
       "      <th>random_index</th>\n",
       "      <th>ref_epoch</th>\n",
       "      <th>ra</th>\n",
       "      <th>ra_error</th>\n",
       "      <th>dec</th>\n",
       "      <th>dec_error</th>\n",
       "      <th>parallax</th>\n",
       "      <th>...</th>\n",
       "      <th>e_bp_min_rp_val</th>\n",
       "      <th>e_bp_min_rp_percentile_lower</th>\n",
       "      <th>e_bp_min_rp_percentile_upper</th>\n",
       "      <th>flame_flags</th>\n",
       "      <th>radius_val</th>\n",
       "      <th>radius_percentile_lower</th>\n",
       "      <th>radius_percentile_upper</th>\n",
       "      <th>lum_val</th>\n",
       "      <th>lum_percentile_lower</th>\n",
       "      <th>lum_percentile_upper</th>\n",
       "    </tr>\n",
       "  </thead>\n",
       "  <tbody>\n",
       "    <tr>\n",
       "      <th>0</th>\n",
       "      <td>1635721458409799680</td>\n",
       "      <td>Gaia DR2 1000225938242805248</td>\n",
       "      <td>1000225938242805248</td>\n",
       "      <td>1197051105</td>\n",
       "      <td>2015.5</td>\n",
       "      <td>103.447529</td>\n",
       "      <td>0.041099</td>\n",
       "      <td>56.022025</td>\n",
       "      <td>0.045175</td>\n",
       "      <td>0.582790</td>\n",
       "      <td>...</td>\n",
       "      <td>0.0595</td>\n",
       "      <td>0.0080</td>\n",
       "      <td>0.1351</td>\n",
       "      <td>200111.0</td>\n",
       "      <td>1.024730</td>\n",
       "      <td>1.017359</td>\n",
       "      <td>1.038814</td>\n",
       "      <td>1.075774</td>\n",
       "      <td>0.801798</td>\n",
       "      <td>1.349751</td>\n",
       "    </tr>\n",
       "    <tr>\n",
       "      <th>1</th>\n",
       "      <td>1635721458409799680</td>\n",
       "      <td>Gaia DR2 1000383512003001728</td>\n",
       "      <td>1000383512003001728</td>\n",
       "      <td>598525552</td>\n",
       "      <td>2015.5</td>\n",
       "      <td>105.187856</td>\n",
       "      <td>0.016978</td>\n",
       "      <td>56.267982</td>\n",
       "      <td>0.016904</td>\n",
       "      <td>1.385686</td>\n",
       "      <td>...</td>\n",
       "      <td>0.2430</td>\n",
       "      <td>0.0830</td>\n",
       "      <td>0.4030</td>\n",
       "      <td>200111.0</td>\n",
       "      <td>1.388711</td>\n",
       "      <td>1.311143</td>\n",
       "      <td>1.453106</td>\n",
       "      <td>1.937890</td>\n",
       "      <td>1.852440</td>\n",
       "      <td>2.023341</td>\n",
       "    </tr>\n",
       "    <tr>\n",
       "      <th>2</th>\n",
       "      <td>1635721458409799680</td>\n",
       "      <td>Gaia DR2 1000274106300491264</td>\n",
       "      <td>1000274106300491264</td>\n",
       "      <td>299262776</td>\n",
       "      <td>2015.5</td>\n",
       "      <td>103.424758</td>\n",
       "      <td>0.464608</td>\n",
       "      <td>56.450903</td>\n",
       "      <td>0.582490</td>\n",
       "      <td>0.314035</td>\n",
       "      <td>...</td>\n",
       "      <td>NaN</td>\n",
       "      <td>NaN</td>\n",
       "      <td>NaN</td>\n",
       "      <td>NaN</td>\n",
       "      <td>NaN</td>\n",
       "      <td>NaN</td>\n",
       "      <td>NaN</td>\n",
       "      <td>NaN</td>\n",
       "      <td>NaN</td>\n",
       "      <td>NaN</td>\n",
       "    </tr>\n",
       "    <tr>\n",
       "      <th>3</th>\n",
       "      <td>1635721458409799680</td>\n",
       "      <td>Gaia DR2 1000396156385741312</td>\n",
       "      <td>1000396156385741312</td>\n",
       "      <td>1148557518</td>\n",
       "      <td>2015.5</td>\n",
       "      <td>105.049751</td>\n",
       "      <td>0.838232</td>\n",
       "      <td>56.508777</td>\n",
       "      <td>0.744511</td>\n",
       "      <td>1.939951</td>\n",
       "      <td>...</td>\n",
       "      <td>NaN</td>\n",
       "      <td>NaN</td>\n",
       "      <td>NaN</td>\n",
       "      <td>NaN</td>\n",
       "      <td>NaN</td>\n",
       "      <td>NaN</td>\n",
       "      <td>NaN</td>\n",
       "      <td>NaN</td>\n",
       "      <td>NaN</td>\n",
       "      <td>NaN</td>\n",
       "    </tr>\n",
       "    <tr>\n",
       "      <th>4</th>\n",
       "      <td>1635721458409799680</td>\n",
       "      <td>Gaia DR2 1000250024419296000</td>\n",
       "      <td>1000250024419296000</td>\n",
       "      <td>574278759</td>\n",
       "      <td>2015.5</td>\n",
       "      <td>103.352525</td>\n",
       "      <td>0.023159</td>\n",
       "      <td>56.395144</td>\n",
       "      <td>0.022836</td>\n",
       "      <td>0.747108</td>\n",
       "      <td>...</td>\n",
       "      <td>0.2870</td>\n",
       "      <td>0.1196</td>\n",
       "      <td>0.4051</td>\n",
       "      <td>200111.0</td>\n",
       "      <td>1.507958</td>\n",
       "      <td>1.435618</td>\n",
       "      <td>1.540208</td>\n",
       "      <td>2.427377</td>\n",
       "      <td>2.152597</td>\n",
       "      <td>2.702158</td>\n",
       "    </tr>\n",
       "  </tbody>\n",
       "</table>\n",
       "<p>5 rows × 94 columns</p>\n",
       "</div>"
      ],
      "text/plain": [
       "           solution_id                   designation            source_id  \\\n",
       "0  1635721458409799680  Gaia DR2 1000225938242805248  1000225938242805248   \n",
       "1  1635721458409799680  Gaia DR2 1000383512003001728  1000383512003001728   \n",
       "2  1635721458409799680  Gaia DR2 1000274106300491264  1000274106300491264   \n",
       "3  1635721458409799680  Gaia DR2 1000396156385741312  1000396156385741312   \n",
       "4  1635721458409799680  Gaia DR2 1000250024419296000  1000250024419296000   \n",
       "\n",
       "   random_index  ref_epoch          ra  ra_error        dec  dec_error  \\\n",
       "0    1197051105     2015.5  103.447529  0.041099  56.022025   0.045175   \n",
       "1     598525552     2015.5  105.187856  0.016978  56.267982   0.016904   \n",
       "2     299262776     2015.5  103.424758  0.464608  56.450903   0.582490   \n",
       "3    1148557518     2015.5  105.049751  0.838232  56.508777   0.744511   \n",
       "4     574278759     2015.5  103.352525  0.023159  56.395144   0.022836   \n",
       "\n",
       "   parallax  ...  e_bp_min_rp_val  e_bp_min_rp_percentile_lower  \\\n",
       "0  0.582790  ...           0.0595                        0.0080   \n",
       "1  1.385686  ...           0.2430                        0.0830   \n",
       "2  0.314035  ...              NaN                           NaN   \n",
       "3  1.939951  ...              NaN                           NaN   \n",
       "4  0.747108  ...           0.2870                        0.1196   \n",
       "\n",
       "   e_bp_min_rp_percentile_upper  flame_flags  radius_val  \\\n",
       "0                        0.1351     200111.0    1.024730   \n",
       "1                        0.4030     200111.0    1.388711   \n",
       "2                           NaN          NaN         NaN   \n",
       "3                           NaN          NaN         NaN   \n",
       "4                        0.4051     200111.0    1.507958   \n",
       "\n",
       "   radius_percentile_lower  radius_percentile_upper   lum_val  \\\n",
       "0                 1.017359                 1.038814  1.075774   \n",
       "1                 1.311143                 1.453106  1.937890   \n",
       "2                      NaN                      NaN       NaN   \n",
       "3                      NaN                      NaN       NaN   \n",
       "4                 1.435618                 1.540208  2.427377   \n",
       "\n",
       "   lum_percentile_lower  lum_percentile_upper  \n",
       "0              0.801798              1.349751  \n",
       "1              1.852440              2.023341  \n",
       "2                   NaN                   NaN  \n",
       "3                   NaN                   NaN  \n",
       "4              2.152597              2.702158  \n",
       "\n",
       "[5 rows x 94 columns]"
      ]
     },
     "execution_count": 4,
     "metadata": {},
     "output_type": "execute_result"
    }
   ],
   "source": [
    "gaia_df.head()"
   ]
  },
  {
   "cell_type": "markdown",
   "metadata": {},
   "source": [
    "### Shape, Columns and Rows"
   ]
  },
  {
   "cell_type": "markdown",
   "metadata": {},
   "source": [
    "You can get the shape of the \"gaia_df\" DataFrame by typing: "
   ]
  },
  {
   "cell_type": "code",
   "execution_count": 42,
   "metadata": {
    "jupyter": {
     "outputs_hidden": false
    }
   },
   "outputs": [
    {
     "data": {
      "text/plain": [
       "(14209, 94)"
      ]
     },
     "execution_count": 42,
     "metadata": {},
     "output_type": "execute_result"
    }
   ],
   "source": [
    "gaia_df.shape"
   ]
  },
  {
   "cell_type": "markdown",
   "metadata": {},
   "source": [
    "That means there are __14209 rows__ and __94 columns__."
   ]
  },
  {
   "cell_type": "markdown",
   "metadata": {},
   "source": [
    "To get an array of the columns available, one could write:"
   ]
  },
  {
   "cell_type": "code",
   "execution_count": 43,
   "metadata": {
    "jupyter": {
     "outputs_hidden": false
    }
   },
   "outputs": [
    {
     "data": {
      "text/plain": [
       "array(['a_g_percentile_lower', 'a_g_percentile_upper', 'a_g_val',\n",
       "       'astrometric_chi2_al', 'astrometric_excess_noise',\n",
       "       'astrometric_excess_noise_sig', 'astrometric_gof_al',\n",
       "       'astrometric_matched_observations', 'astrometric_n_bad_obs_al',\n",
       "       'astrometric_n_good_obs_al', 'astrometric_n_obs_ac',\n",
       "       'astrometric_n_obs_al', 'astrometric_params_solved',\n",
       "       'astrometric_primary_flag', 'astrometric_pseudo_colour',\n",
       "       'astrometric_pseudo_colour_error', 'astrometric_sigma5d_max',\n",
       "       'astrometric_weight_al', 'b', 'bp_g', 'bp_rp', 'dec', 'dec_error',\n",
       "       'dec_parallax_corr', 'dec_pmdec_corr', 'dec_pmra_corr',\n",
       "       'designation', 'duplicated_source', 'e_bp_min_rp_percentile_lower',\n",
       "       'e_bp_min_rp_percentile_upper', 'e_bp_min_rp_val', 'ecl_lat',\n",
       "       'ecl_lon', 'flame_flags', 'frame_rotator_object_type', 'g_rp', 'l',\n",
       "       'lum_percentile_lower', 'lum_percentile_upper', 'lum_val',\n",
       "       'matched_observations', 'mean_varpi_factor_al', 'parallax',\n",
       "       'parallax_error', 'parallax_over_error', 'parallax_pmdec_corr',\n",
       "       'parallax_pmra_corr', 'phot_bp_mean_flux',\n",
       "       'phot_bp_mean_flux_error', 'phot_bp_mean_flux_over_error',\n",
       "       'phot_bp_mean_mag', 'phot_bp_n_obs', 'phot_bp_rp_excess_factor',\n",
       "       'phot_g_mean_flux', 'phot_g_mean_flux_error',\n",
       "       'phot_g_mean_flux_over_error', 'phot_g_mean_mag', 'phot_g_n_obs',\n",
       "       'phot_proc_mode', 'phot_rp_mean_flux', 'phot_rp_mean_flux_error',\n",
       "       'phot_rp_mean_flux_over_error', 'phot_rp_mean_mag',\n",
       "       'phot_rp_n_obs', 'phot_variable_flag', 'pmdec', 'pmdec_error',\n",
       "       'pmra', 'pmra_error', 'pmra_pmdec_corr', 'priam_flags', 'ra',\n",
       "       'ra_dec_corr', 'ra_error', 'ra_parallax_corr', 'ra_pmdec_corr',\n",
       "       'ra_pmra_corr', 'radial_velocity', 'radial_velocity_error',\n",
       "       'radius_percentile_lower', 'radius_percentile_upper', 'radius_val',\n",
       "       'random_index', 'ref_epoch', 'rv_nb_transits', 'rv_template_fe_h',\n",
       "       'rv_template_logg', 'rv_template_teff', 'solution_id', 'source_id',\n",
       "       'teff_percentile_lower', 'teff_percentile_upper', 'teff_val',\n",
       "       'visibility_periods_used'], dtype=object)"
      ]
     },
     "execution_count": 43,
     "metadata": {},
     "output_type": "execute_result"
    }
   ],
   "source": [
    "gaia_df.columns.values.sort()\n",
    "gaia_df.columns.values"
   ]
  },
  {
   "cell_type": "markdown",
   "metadata": {},
   "source": [
    "Let's say you only want a DataFrame with the the colums:\n",
    "- ra (right ascension)\n",
    "- dec (declination)\n",
    "- l (galactic longitude)\n",
    "- b (galactic latitude)\n",
    "\n",
    "You do this by using the __loc__ option for the DataFrame:"
   ]
  },
  {
   "cell_type": "code",
   "execution_count": 11,
   "metadata": {
    "jupyter": {
     "outputs_hidden": false
    }
   },
   "outputs": [
    {
     "data": {
      "text/html": [
       "<div>\n",
       "<style scoped>\n",
       "    .dataframe tbody tr th:only-of-type {\n",
       "        vertical-align: middle;\n",
       "    }\n",
       "\n",
       "    .dataframe tbody tr th {\n",
       "        vertical-align: top;\n",
       "    }\n",
       "\n",
       "    .dataframe thead th {\n",
       "        text-align: right;\n",
       "    }\n",
       "</style>\n",
       "<table border=\"1\" class=\"dataframe\">\n",
       "  <thead>\n",
       "    <tr style=\"text-align: right;\">\n",
       "      <th></th>\n",
       "      <th>ra</th>\n",
       "      <th>dec</th>\n",
       "      <th>l</th>\n",
       "      <th>b</th>\n",
       "    </tr>\n",
       "  </thead>\n",
       "  <tbody>\n",
       "    <tr>\n",
       "      <th>0</th>\n",
       "      <td>103.447529</td>\n",
       "      <td>56.022025</td>\n",
       "      <td>160.163475</td>\n",
       "      <td>22.533932</td>\n",
       "    </tr>\n",
       "    <tr>\n",
       "      <th>1</th>\n",
       "      <td>105.187856</td>\n",
       "      <td>56.267982</td>\n",
       "      <td>160.174346</td>\n",
       "      <td>23.534087</td>\n",
       "    </tr>\n",
       "    <tr>\n",
       "      <th>2</th>\n",
       "      <td>103.424758</td>\n",
       "      <td>56.450903</td>\n",
       "      <td>159.712110</td>\n",
       "      <td>22.635989</td>\n",
       "    </tr>\n",
       "    <tr>\n",
       "      <th>3</th>\n",
       "      <td>105.049751</td>\n",
       "      <td>56.508777</td>\n",
       "      <td>159.899324</td>\n",
       "      <td>23.518554</td>\n",
       "    </tr>\n",
       "    <tr>\n",
       "      <th>4</th>\n",
       "      <td>103.352525</td>\n",
       "      <td>56.395144</td>\n",
       "      <td>159.758838</td>\n",
       "      <td>22.582657</td>\n",
       "    </tr>\n",
       "    <tr>\n",
       "      <th>5</th>\n",
       "      <td>101.929791</td>\n",
       "      <td>55.973333</td>\n",
       "      <td>159.959619</td>\n",
       "      <td>21.705035</td>\n",
       "    </tr>\n",
       "    <tr>\n",
       "      <th>6</th>\n",
       "      <td>101.853926</td>\n",
       "      <td>56.129320</td>\n",
       "      <td>159.785705</td>\n",
       "      <td>21.709303</td>\n",
       "    </tr>\n",
       "    <tr>\n",
       "      <th>7</th>\n",
       "      <td>105.128850</td>\n",
       "      <td>56.285081</td>\n",
       "      <td>160.147553</td>\n",
       "      <td>23.506483</td>\n",
       "    </tr>\n",
       "    <tr>\n",
       "      <th>8</th>\n",
       "      <td>103.396330</td>\n",
       "      <td>56.714410</td>\n",
       "      <td>159.432230</td>\n",
       "      <td>22.690559</td>\n",
       "    </tr>\n",
       "    <tr>\n",
       "      <th>9</th>\n",
       "      <td>101.780437</td>\n",
       "      <td>55.945333</td>\n",
       "      <td>159.962507</td>\n",
       "      <td>21.616907</td>\n",
       "    </tr>\n",
       "    <tr>\n",
       "      <th>10</th>\n",
       "      <td>103.500366</td>\n",
       "      <td>56.844629</td>\n",
       "      <td>159.312220</td>\n",
       "      <td>22.779748</td>\n",
       "    </tr>\n",
       "    <tr>\n",
       "      <th>11</th>\n",
       "      <td>105.649481</td>\n",
       "      <td>56.632527</td>\n",
       "      <td>159.854367</td>\n",
       "      <td>23.868954</td>\n",
       "    </tr>\n",
       "    <tr>\n",
       "      <th>12</th>\n",
       "      <td>103.189617</td>\n",
       "      <td>56.815154</td>\n",
       "      <td>159.294467</td>\n",
       "      <td>22.607972</td>\n",
       "    </tr>\n",
       "    <tr>\n",
       "      <th>13</th>\n",
       "      <td>103.530144</td>\n",
       "      <td>55.988175</td>\n",
       "      <td>160.212164</td>\n",
       "      <td>22.569395</td>\n",
       "    </tr>\n",
       "    <tr>\n",
       "      <th>14</th>\n",
       "      <td>105.938862</td>\n",
       "      <td>56.588687</td>\n",
       "      <td>159.941603</td>\n",
       "      <td>24.013615</td>\n",
       "    </tr>\n",
       "  </tbody>\n",
       "</table>\n",
       "</div>"
      ],
      "text/plain": [
       "            ra        dec           l          b\n",
       "0   103.447529  56.022025  160.163475  22.533932\n",
       "1   105.187856  56.267982  160.174346  23.534087\n",
       "2   103.424758  56.450903  159.712110  22.635989\n",
       "3   105.049751  56.508777  159.899324  23.518554\n",
       "4   103.352525  56.395144  159.758838  22.582657\n",
       "5   101.929791  55.973333  159.959619  21.705035\n",
       "6   101.853926  56.129320  159.785705  21.709303\n",
       "7   105.128850  56.285081  160.147553  23.506483\n",
       "8   103.396330  56.714410  159.432230  22.690559\n",
       "9   101.780437  55.945333  159.962507  21.616907\n",
       "10  103.500366  56.844629  159.312220  22.779748\n",
       "11  105.649481  56.632527  159.854367  23.868954\n",
       "12  103.189617  56.815154  159.294467  22.607972\n",
       "13  103.530144  55.988175  160.212164  22.569395\n",
       "14  105.938862  56.588687  159.941603  24.013615"
      ]
     },
     "execution_count": 11,
     "metadata": {},
     "output_type": "execute_result"
    }
   ],
   "source": [
    "gaia_df_2 = gaia_df.loc[:,['ra','dec','l','b']]\n",
    "\n",
    "# Displaying the first 15 lines\n",
    "gaia_df_2.head(15)"
   ]
  },
  {
   "cell_type": "markdown",
   "metadata": {},
   "source": [
    "This selects all of the rows, and only the selected columns in the list."
   ]
  },
  {
   "cell_type": "markdown",
   "metadata": {},
   "source": [
    "You can also select only a subsample of the rows as well, as in the following example.\n",
    "Let's say I just want a random subsample of __10%__ of the galaxies in the Gaia DR1 catalogue. I can do that by:"
   ]
  },
  {
   "cell_type": "code",
   "execution_count": 8,
   "metadata": {},
   "outputs": [
    {
     "data": {
      "text/plain": [
       "<bound method Random.sample of <random.Random object at 0x7fe7fa829a10>>"
      ]
     },
     "execution_count": 8,
     "metadata": {},
     "output_type": "execute_result"
    }
   ],
   "source": [
    "import random\n",
    "random.sample"
   ]
  },
  {
   "cell_type": "code",
   "execution_count": 12,
   "metadata": {},
   "outputs": [
    {
     "data": {
      "text/plain": [
       "(14209, 4)"
      ]
     },
     "execution_count": 12,
     "metadata": {},
     "output_type": "execute_result"
    }
   ],
   "source": [
    "# Decission indices to select from DataFrame\n",
    "import random\n",
    "\n",
    "# Number of rows\n",
    "nrows = len(gaia_df_2)\n",
    "\n",
    "# Randomly selecting `nrows` from `gaia_df_2`\n",
    "gaia_df_3 = gaia_df_2.sample(nrows)\n",
    "\n",
    "gaia_df_3.shape"
   ]
  },
  {
   "cell_type": "markdown",
   "metadata": {},
   "source": [
    "I'm __re-normalizing__ the indices of this DataFrame"
   ]
  },
  {
   "cell_type": "code",
   "execution_count": 13,
   "metadata": {
    "jupyter": {
     "outputs_hidden": false
    }
   },
   "outputs": [
    {
     "data": {
      "text/html": [
       "<div>\n",
       "<style scoped>\n",
       "    .dataframe tbody tr th:only-of-type {\n",
       "        vertical-align: middle;\n",
       "    }\n",
       "\n",
       "    .dataframe tbody tr th {\n",
       "        vertical-align: top;\n",
       "    }\n",
       "\n",
       "    .dataframe thead th {\n",
       "        text-align: right;\n",
       "    }\n",
       "</style>\n",
       "<table border=\"1\" class=\"dataframe\">\n",
       "  <thead>\n",
       "    <tr style=\"text-align: right;\">\n",
       "      <th></th>\n",
       "      <th>ra</th>\n",
       "      <th>dec</th>\n",
       "      <th>l</th>\n",
       "      <th>b</th>\n",
       "    </tr>\n",
       "  </thead>\n",
       "  <tbody>\n",
       "    <tr>\n",
       "      <th>0</th>\n",
       "      <td>102.981797</td>\n",
       "      <td>56.296865</td>\n",
       "      <td>159.801427</td>\n",
       "      <td>22.358339</td>\n",
       "    </tr>\n",
       "    <tr>\n",
       "      <th>1</th>\n",
       "      <td>102.759414</td>\n",
       "      <td>56.727099</td>\n",
       "      <td>159.317674</td>\n",
       "      <td>22.357236</td>\n",
       "    </tr>\n",
       "    <tr>\n",
       "      <th>2</th>\n",
       "      <td>102.694956</td>\n",
       "      <td>56.937573</td>\n",
       "      <td>159.088273</td>\n",
       "      <td>22.380467</td>\n",
       "    </tr>\n",
       "    <tr>\n",
       "      <th>3</th>\n",
       "      <td>105.753636</td>\n",
       "      <td>56.333815</td>\n",
       "      <td>160.186629</td>\n",
       "      <td>23.854630</td>\n",
       "    </tr>\n",
       "    <tr>\n",
       "      <th>4</th>\n",
       "      <td>102.065830</td>\n",
       "      <td>56.185515</td>\n",
       "      <td>159.764057</td>\n",
       "      <td>21.838456</td>\n",
       "    </tr>\n",
       "    <tr>\n",
       "      <th>...</th>\n",
       "      <td>...</td>\n",
       "      <td>...</td>\n",
       "      <td>...</td>\n",
       "      <td>...</td>\n",
       "    </tr>\n",
       "    <tr>\n",
       "      <th>14204</th>\n",
       "      <td>102.914890</td>\n",
       "      <td>56.806513</td>\n",
       "      <td>159.259922</td>\n",
       "      <td>22.460755</td>\n",
       "    </tr>\n",
       "    <tr>\n",
       "      <th>14205</th>\n",
       "      <td>105.341856</td>\n",
       "      <td>56.339353</td>\n",
       "      <td>160.121359</td>\n",
       "      <td>23.634263</td>\n",
       "    </tr>\n",
       "    <tr>\n",
       "      <th>14206</th>\n",
       "      <td>103.448194</td>\n",
       "      <td>56.682987</td>\n",
       "      <td>159.473220</td>\n",
       "      <td>22.709751</td>\n",
       "    </tr>\n",
       "    <tr>\n",
       "      <th>14207</th>\n",
       "      <td>105.300382</td>\n",
       "      <td>56.119358</td>\n",
       "      <td>160.348210</td>\n",
       "      <td>23.558673</td>\n",
       "    </tr>\n",
       "    <tr>\n",
       "      <th>14208</th>\n",
       "      <td>101.958205</td>\n",
       "      <td>56.445492</td>\n",
       "      <td>159.477238</td>\n",
       "      <td>21.855131</td>\n",
       "    </tr>\n",
       "  </tbody>\n",
       "</table>\n",
       "<p>14209 rows × 4 columns</p>\n",
       "</div>"
      ],
      "text/plain": [
       "               ra        dec           l          b\n",
       "0      102.981797  56.296865  159.801427  22.358339\n",
       "1      102.759414  56.727099  159.317674  22.357236\n",
       "2      102.694956  56.937573  159.088273  22.380467\n",
       "3      105.753636  56.333815  160.186629  23.854630\n",
       "4      102.065830  56.185515  159.764057  21.838456\n",
       "...           ...        ...         ...        ...\n",
       "14204  102.914890  56.806513  159.259922  22.460755\n",
       "14205  105.341856  56.339353  160.121359  23.634263\n",
       "14206  103.448194  56.682987  159.473220  22.709751\n",
       "14207  105.300382  56.119358  160.348210  23.558673\n",
       "14208  101.958205  56.445492  159.477238  21.855131\n",
       "\n",
       "[14209 rows x 4 columns]"
      ]
     },
     "execution_count": 13,
     "metadata": {},
     "output_type": "execute_result"
    }
   ],
   "source": [
    "gaia_df_3.reset_index(inplace=True, drop=True)\n",
    "gaia_df_3"
   ]
  },
  {
   "cell_type": "markdown",
   "metadata": {},
   "source": [
    "You can produce __plots__ directly from the DataFrame"
   ]
  },
  {
   "cell_type": "code",
   "execution_count": 14,
   "metadata": {
    "jupyter": {
     "outputs_hidden": false
    }
   },
   "outputs": [
    {
     "name": "stderr",
     "output_type": "stream",
     "text": [
      "/Users/anaconda3/lib/python3.9/site-packages/pandas/plotting/_matplotlib/core.py:1114: UserWarning: No data for colormapping provided via 'c'. Parameters 'cmap' will be ignored\n",
      "  scatter = ax.scatter(\n"
     ]
    },
    {
     "data": {
      "text/plain": [
       "<Axes: title={'center': 'Right Ascension and Declination for Gaia'}, xlabel='ra', ylabel='dec'>"
      ]
     },
     "execution_count": 14,
     "metadata": {},
     "output_type": "execute_result"
    },
    {
     "data": {
      "image/png": "[encoded data removed]",
      "text/plain": [
       "<Figure size 1200x800 with 1 Axes>"
      ]
     },
     "metadata": {},
     "output_type": "display_data"
    }
   ],
   "source": [
    "title_txt = 'Right Ascension and Declination for Gaia'\n",
    "\n",
    "gaia_df_3.plot('ra','dec',       # Columns to plot\n",
    "               kind='scatter',   # Kind of plot. In this case, it's `scatter`\n",
    "               label='Gaia',     # Label of the points\n",
    "               title=title_txt,  # Title of the figure\n",
    "               color='#4c72b0',  # Color of the points\n",
    "               figsize=(12,8))  # Size of the fiure"
   ]
  },
  {
   "cell_type": "markdown",
   "metadata": {},
   "source": [
    "Or even __Scatterplot Matrices__:"
   ]
  },
  {
   "cell_type": "code",
   "execution_count": 25,
   "metadata": {
    "jupyter": {
     "outputs_hidden": false
    }
   },
   "outputs": [
    {
     "data": {
      "text/plain": [
       "<seaborn.axisgrid.PairGrid at 0x7fe8113824c0>"
      ]
     },
     "execution_count": 25,
     "metadata": {},
     "output_type": "execute_result"
    },
    {
     "data": {
      "image/png": "[encoded data removed]",
      "text/plain": [
       "<Figure size 1000x1000 with 20 Axes>"
      ]
     },
     "metadata": {},
     "output_type": "display_data"
    }
   ],
   "source": [
    "import seaborn as sns\n",
    "sns.pairplot(gaia_df_3, plot_kws={'color': '#4c72b0'}, diag_kws={'color': '#4c72b0'})"
   ]
  },
  {
   "cell_type": "code",
   "execution_count": 50,
   "metadata": {
    "jupyter": {
     "outputs_hidden": false
    }
   },
   "outputs": [
    {
     "data": {
      "text/plain": [
       "<seaborn.axisgrid.JointGrid at 0x1a193999e8>"
      ]
     },
     "execution_count": 50,
     "metadata": {},
     "output_type": "execute_result"
    },
    {
     "data": {
      "image/png": "[encoded data removed]",
      "text/plain": [
       "<Figure size 432x432 with 3 Axes>"
      ]
     },
     "metadata": {
      "needs_background": "light"
     },
     "output_type": "display_data"
    }
   ],
   "source": [
    "sns.jointplot(gaia_df_3['l'], gaia_df_3['b'], color='#3c8f40')"
   ]
  },
  {
   "cell_type": "markdown",
   "metadata": {},
   "source": [
    "# Indexing, Selecting, Filtering Data\n",
    "\n",
    "Now I want to filter the data based on __ra__ and __dec__:\n",
    "\n",
    "I want to select all the stars within:\n",
    "- 45 < RA < 50\n",
    "- 5 < Dec < 10\n",
    "\n",
    "Normally, you would could do in numpy using the __`np.where`__ function, like in the following example:"
   ]
  },
  {
   "cell_type": "code",
   "execution_count": 17,
   "metadata": {
    "jupyter": {
     "outputs_hidden": false
    }
   },
   "outputs": [],
   "source": [
    "ra_arr = gaia_df.ra.values\n",
    "dec_arr = gaia_df.dec.values"
   ]
  },
  {
   "cell_type": "code",
   "execution_count": 19,
   "metadata": {
    "jupyter": {
     "outputs_hidden": false
    }
   },
   "outputs": [
    {
     "data": {
      "text/plain": [
       "array([[103.44752895,  56.02202543],\n",
       "       [105.18785594,  56.2679821 ],\n",
       "       [103.42475813,  56.45090293],\n",
       "       [105.04975071,  56.50877738],\n",
       "       [103.35252488,  56.39514381],\n",
       "       [101.92979073,  55.97333308],\n",
       "       [101.85392576,  56.12931976],\n",
       "       [105.12884963,  56.28508092],\n",
       "       [103.39632957,  56.7144103 ],\n",
       "       [101.78043734,  55.94533326],\n",
       "       [103.50036565,  56.84462941],\n",
       "       [105.64948082,  56.63252739],\n",
       "       [103.18961712,  56.81515376],\n",
       "       [103.53014423,  55.98817459],\n",
       "       [105.93886175,  56.58868695],\n",
       "       [102.24453393,  56.64103702],\n",
       "       [102.02432422,  56.0158414 ],\n",
       "       [103.0848673 ,  56.25264172],\n",
       "       [102.30172541,  56.6658301 ],\n",
       "       [103.28806439,  56.2536194 ],\n",
       "       [103.05853189,  56.72134178],\n",
       "       [102.0578448 ,  56.39003547],\n",
       "       [103.71357369,  56.62167297],\n",
       "       [103.37050966,  56.11391562],\n",
       "       [103.44554963,  56.29543043]])"
      ]
     },
     "execution_count": 19,
     "metadata": {},
     "output_type": "execute_result"
    }
   ],
   "source": [
    "import numpy as np\n",
    "# Just showing the first 25 elements\n",
    "np.column_stack((ra_arr, dec_arr))[0:25]"
   ]
  },
  {
   "cell_type": "code",
   "execution_count": 53,
   "metadata": {
    "jupyter": {
     "outputs_hidden": false
    }
   },
   "outputs": [
    {
     "name": "stdout",
     "output_type": "stream",
     "text": [
      "[[103.42475813  56.45090293]\n",
      " [102.24453393  56.64103702]\n",
      " [102.30172541  56.6658301 ]\n",
      " ...\n",
      " [103.81978156  56.62006303]\n",
      " [103.31712396  56.61945699]\n",
      " [103.57468884  56.4318757 ]]\n"
     ]
    }
   ],
   "source": [
    "## Numpy way of finding the stars that meet the criteria\n",
    "\n",
    "ra_min, ra_max = (102, 104)\n",
    "dec_min, dec_max = (56.4, 56.7)\n",
    "\n",
    "# RA critera\n",
    "ra_idx = np.where((ra_arr >= ra_min) & (ra_arr <= ra_max))[0]\n",
    "\n",
    "# Dec criteria\n",
    "dec_idx = np.where((dec_arr >= dec_min) & (dec_arr <= dec_max))[0]\n",
    "\n",
    "# Finding `intersecting' indices that meet both criteria\n",
    "radec_idx = np.intersect1d(ra_idx, dec_idx)\n",
    "\n",
    "# Selecting the values from only those indices\n",
    "ra_new = ra_arr[radec_idx]\n",
    "dec_new = dec_arr[radec_idx]\n",
    "\n",
    "# Printing out ra and dec for corresponding indices\n",
    "print(np.column_stack((ra_new, dec_new)))"
   ]
  },
  {
   "cell_type": "markdown",
   "metadata": {},
   "source": [
    "This is rather convoluted and __long__, and one can easily make a mistake if s/he doesn't keep track of which arrays s/he is using!\n",
    "\n",
    "In Pandas, this is __much easier!!__"
   ]
  },
  {
   "cell_type": "code",
   "execution_count": 54,
   "metadata": {
    "jupyter": {
     "outputs_hidden": false
    }
   },
   "outputs": [
    {
     "data": {
      "text/html": [
       "<div>\n",
       "<style scoped>\n",
       "    .dataframe tbody tr th:only-of-type {\n",
       "        vertical-align: middle;\n",
       "    }\n",
       "\n",
       "    .dataframe tbody tr th {\n",
       "        vertical-align: top;\n",
       "    }\n",
       "\n",
       "    .dataframe thead th {\n",
       "        text-align: right;\n",
       "    }\n",
       "</style>\n",
       "<table border=\"1\" class=\"dataframe\">\n",
       "  <thead>\n",
       "    <tr style=\"text-align: right;\">\n",
       "      <th></th>\n",
       "      <th>astrometric_excess_noise_sig</th>\n",
       "      <th>astrometric_matched_observations</th>\n",
       "    </tr>\n",
       "  </thead>\n",
       "  <tbody>\n",
       "    <tr>\n",
       "      <th>2</th>\n",
       "      <td>103.424758</td>\n",
       "      <td>56.450903</td>\n",
       "    </tr>\n",
       "    <tr>\n",
       "      <th>15</th>\n",
       "      <td>102.244534</td>\n",
       "      <td>56.641037</td>\n",
       "    </tr>\n",
       "    <tr>\n",
       "      <th>18</th>\n",
       "      <td>102.301725</td>\n",
       "      <td>56.665830</td>\n",
       "    </tr>\n",
       "    <tr>\n",
       "      <th>22</th>\n",
       "      <td>103.713574</td>\n",
       "      <td>56.621673</td>\n",
       "    </tr>\n",
       "    <tr>\n",
       "      <th>32</th>\n",
       "      <td>103.462653</td>\n",
       "      <td>56.532017</td>\n",
       "    </tr>\n",
       "    <tr>\n",
       "      <th>35</th>\n",
       "      <td>103.360486</td>\n",
       "      <td>56.413851</td>\n",
       "    </tr>\n",
       "    <tr>\n",
       "      <th>36</th>\n",
       "      <td>103.676326</td>\n",
       "      <td>56.623116</td>\n",
       "    </tr>\n",
       "    <tr>\n",
       "      <th>39</th>\n",
       "      <td>103.085718</td>\n",
       "      <td>56.447884</td>\n",
       "    </tr>\n",
       "    <tr>\n",
       "      <th>40</th>\n",
       "      <td>103.783947</td>\n",
       "      <td>56.521326</td>\n",
       "    </tr>\n",
       "    <tr>\n",
       "      <th>46</th>\n",
       "      <td>102.206913</td>\n",
       "      <td>56.640966</td>\n",
       "    </tr>\n",
       "    <tr>\n",
       "      <th>54</th>\n",
       "      <td>103.726192</td>\n",
       "      <td>56.673523</td>\n",
       "    </tr>\n",
       "    <tr>\n",
       "      <th>57</th>\n",
       "      <td>102.069819</td>\n",
       "      <td>56.405446</td>\n",
       "    </tr>\n",
       "    <tr>\n",
       "      <th>63</th>\n",
       "      <td>102.920433</td>\n",
       "      <td>56.430698</td>\n",
       "    </tr>\n",
       "    <tr>\n",
       "      <th>64</th>\n",
       "      <td>102.975403</td>\n",
       "      <td>56.593006</td>\n",
       "    </tr>\n",
       "    <tr>\n",
       "      <th>69</th>\n",
       "      <td>103.870145</td>\n",
       "      <td>56.684652</td>\n",
       "    </tr>\n",
       "    <tr>\n",
       "      <th>73</th>\n",
       "      <td>103.201988</td>\n",
       "      <td>56.538079</td>\n",
       "    </tr>\n",
       "    <tr>\n",
       "      <th>74</th>\n",
       "      <td>102.256910</td>\n",
       "      <td>56.592725</td>\n",
       "    </tr>\n",
       "    <tr>\n",
       "      <th>78</th>\n",
       "      <td>103.819070</td>\n",
       "      <td>56.577742</td>\n",
       "    </tr>\n",
       "    <tr>\n",
       "      <th>79</th>\n",
       "      <td>103.797238</td>\n",
       "      <td>56.403185</td>\n",
       "    </tr>\n",
       "    <tr>\n",
       "      <th>81</th>\n",
       "      <td>102.342651</td>\n",
       "      <td>56.599794</td>\n",
       "    </tr>\n",
       "    <tr>\n",
       "      <th>84</th>\n",
       "      <td>103.661779</td>\n",
       "      <td>56.492773</td>\n",
       "    </tr>\n",
       "    <tr>\n",
       "      <th>89</th>\n",
       "      <td>103.637186</td>\n",
       "      <td>56.622849</td>\n",
       "    </tr>\n",
       "    <tr>\n",
       "      <th>92</th>\n",
       "      <td>102.241080</td>\n",
       "      <td>56.684968</td>\n",
       "    </tr>\n",
       "    <tr>\n",
       "      <th>98</th>\n",
       "      <td>102.843411</td>\n",
       "      <td>56.658409</td>\n",
       "    </tr>\n",
       "    <tr>\n",
       "      <th>103</th>\n",
       "      <td>102.898776</td>\n",
       "      <td>56.470195</td>\n",
       "    </tr>\n",
       "    <tr>\n",
       "      <th>105</th>\n",
       "      <td>103.480558</td>\n",
       "      <td>56.617093</td>\n",
       "    </tr>\n",
       "    <tr>\n",
       "      <th>110</th>\n",
       "      <td>103.236574</td>\n",
       "      <td>56.509793</td>\n",
       "    </tr>\n",
       "    <tr>\n",
       "      <th>112</th>\n",
       "      <td>103.633321</td>\n",
       "      <td>56.650588</td>\n",
       "    </tr>\n",
       "    <tr>\n",
       "      <th>113</th>\n",
       "      <td>103.776568</td>\n",
       "      <td>56.622350</td>\n",
       "    </tr>\n",
       "    <tr>\n",
       "      <th>114</th>\n",
       "      <td>102.260166</td>\n",
       "      <td>56.659839</td>\n",
       "    </tr>\n",
       "    <tr>\n",
       "      <th>...</th>\n",
       "      <td>...</td>\n",
       "      <td>...</td>\n",
       "    </tr>\n",
       "    <tr>\n",
       "      <th>14066</th>\n",
       "      <td>102.337580</td>\n",
       "      <td>56.565822</td>\n",
       "    </tr>\n",
       "    <tr>\n",
       "      <th>14068</th>\n",
       "      <td>103.495447</td>\n",
       "      <td>56.455223</td>\n",
       "    </tr>\n",
       "    <tr>\n",
       "      <th>14069</th>\n",
       "      <td>103.408320</td>\n",
       "      <td>56.628237</td>\n",
       "    </tr>\n",
       "    <tr>\n",
       "      <th>14071</th>\n",
       "      <td>103.436448</td>\n",
       "      <td>56.564892</td>\n",
       "    </tr>\n",
       "    <tr>\n",
       "      <th>14075</th>\n",
       "      <td>102.350965</td>\n",
       "      <td>56.622774</td>\n",
       "    </tr>\n",
       "    <tr>\n",
       "      <th>14078</th>\n",
       "      <td>103.267697</td>\n",
       "      <td>56.473831</td>\n",
       "    </tr>\n",
       "    <tr>\n",
       "      <th>14080</th>\n",
       "      <td>102.227288</td>\n",
       "      <td>56.665774</td>\n",
       "    </tr>\n",
       "    <tr>\n",
       "      <th>14081</th>\n",
       "      <td>102.962817</td>\n",
       "      <td>56.594834</td>\n",
       "    </tr>\n",
       "    <tr>\n",
       "      <th>14088</th>\n",
       "      <td>103.021430</td>\n",
       "      <td>56.620846</td>\n",
       "    </tr>\n",
       "    <tr>\n",
       "      <th>14090</th>\n",
       "      <td>103.863479</td>\n",
       "      <td>56.469286</td>\n",
       "    </tr>\n",
       "    <tr>\n",
       "      <th>14104</th>\n",
       "      <td>102.954900</td>\n",
       "      <td>56.594641</td>\n",
       "    </tr>\n",
       "    <tr>\n",
       "      <th>14114</th>\n",
       "      <td>103.442994</td>\n",
       "      <td>56.647008</td>\n",
       "    </tr>\n",
       "    <tr>\n",
       "      <th>14119</th>\n",
       "      <td>102.902805</td>\n",
       "      <td>56.627175</td>\n",
       "    </tr>\n",
       "    <tr>\n",
       "      <th>14130</th>\n",
       "      <td>102.974802</td>\n",
       "      <td>56.451924</td>\n",
       "    </tr>\n",
       "    <tr>\n",
       "      <th>14135</th>\n",
       "      <td>103.838059</td>\n",
       "      <td>56.442466</td>\n",
       "    </tr>\n",
       "    <tr>\n",
       "      <th>14138</th>\n",
       "      <td>102.619619</td>\n",
       "      <td>56.504853</td>\n",
       "    </tr>\n",
       "    <tr>\n",
       "      <th>14139</th>\n",
       "      <td>103.687508</td>\n",
       "      <td>56.489265</td>\n",
       "    </tr>\n",
       "    <tr>\n",
       "      <th>14141</th>\n",
       "      <td>103.495952</td>\n",
       "      <td>56.632908</td>\n",
       "    </tr>\n",
       "    <tr>\n",
       "      <th>14142</th>\n",
       "      <td>103.412026</td>\n",
       "      <td>56.620438</td>\n",
       "    </tr>\n",
       "    <tr>\n",
       "      <th>14143</th>\n",
       "      <td>102.714416</td>\n",
       "      <td>56.661466</td>\n",
       "    </tr>\n",
       "    <tr>\n",
       "      <th>14161</th>\n",
       "      <td>102.844313</td>\n",
       "      <td>56.595309</td>\n",
       "    </tr>\n",
       "    <tr>\n",
       "      <th>14167</th>\n",
       "      <td>103.724074</td>\n",
       "      <td>56.430243</td>\n",
       "    </tr>\n",
       "    <tr>\n",
       "      <th>14168</th>\n",
       "      <td>103.211444</td>\n",
       "      <td>56.645173</td>\n",
       "    </tr>\n",
       "    <tr>\n",
       "      <th>14173</th>\n",
       "      <td>102.584448</td>\n",
       "      <td>56.539904</td>\n",
       "    </tr>\n",
       "    <tr>\n",
       "      <th>14180</th>\n",
       "      <td>103.682558</td>\n",
       "      <td>56.585142</td>\n",
       "    </tr>\n",
       "    <tr>\n",
       "      <th>14195</th>\n",
       "      <td>102.307805</td>\n",
       "      <td>56.625449</td>\n",
       "    </tr>\n",
       "    <tr>\n",
       "      <th>14200</th>\n",
       "      <td>103.733646</td>\n",
       "      <td>56.568726</td>\n",
       "    </tr>\n",
       "    <tr>\n",
       "      <th>14201</th>\n",
       "      <td>103.819782</td>\n",
       "      <td>56.620063</td>\n",
       "    </tr>\n",
       "    <tr>\n",
       "      <th>14204</th>\n",
       "      <td>103.317124</td>\n",
       "      <td>56.619457</td>\n",
       "    </tr>\n",
       "    <tr>\n",
       "      <th>14207</th>\n",
       "      <td>103.574689</td>\n",
       "      <td>56.431876</td>\n",
       "    </tr>\n",
       "  </tbody>\n",
       "</table>\n",
       "<p>3156 rows × 2 columns</p>\n",
       "</div>"
      ],
      "text/plain": [
       "       astrometric_excess_noise_sig  astrometric_matched_observations\n",
       "2                        103.424758                         56.450903\n",
       "15                       102.244534                         56.641037\n",
       "18                       102.301725                         56.665830\n",
       "22                       103.713574                         56.621673\n",
       "32                       103.462653                         56.532017\n",
       "35                       103.360486                         56.413851\n",
       "36                       103.676326                         56.623116\n",
       "39                       103.085718                         56.447884\n",
       "40                       103.783947                         56.521326\n",
       "46                       102.206913                         56.640966\n",
       "54                       103.726192                         56.673523\n",
       "57                       102.069819                         56.405446\n",
       "63                       102.920433                         56.430698\n",
       "64                       102.975403                         56.593006\n",
       "69                       103.870145                         56.684652\n",
       "73                       103.201988                         56.538079\n",
       "74                       102.256910                         56.592725\n",
       "78                       103.819070                         56.577742\n",
       "79                       103.797238                         56.403185\n",
       "81                       102.342651                         56.599794\n",
       "84                       103.661779                         56.492773\n",
       "89                       103.637186                         56.622849\n",
       "92                       102.241080                         56.684968\n",
       "98                       102.843411                         56.658409\n",
       "103                      102.898776                         56.470195\n",
       "105                      103.480558                         56.617093\n",
       "110                      103.236574                         56.509793\n",
       "112                      103.633321                         56.650588\n",
       "113                      103.776568                         56.622350\n",
       "114                      102.260166                         56.659839\n",
       "...                             ...                               ...\n",
       "14066                    102.337580                         56.565822\n",
       "14068                    103.495447                         56.455223\n",
       "14069                    103.408320                         56.628237\n",
       "14071                    103.436448                         56.564892\n",
       "14075                    102.350965                         56.622774\n",
       "14078                    103.267697                         56.473831\n",
       "14080                    102.227288                         56.665774\n",
       "14081                    102.962817                         56.594834\n",
       "14088                    103.021430                         56.620846\n",
       "14090                    103.863479                         56.469286\n",
       "14104                    102.954900                         56.594641\n",
       "14114                    103.442994                         56.647008\n",
       "14119                    102.902805                         56.627175\n",
       "14130                    102.974802                         56.451924\n",
       "14135                    103.838059                         56.442466\n",
       "14138                    102.619619                         56.504853\n",
       "14139                    103.687508                         56.489265\n",
       "14141                    103.495952                         56.632908\n",
       "14142                    103.412026                         56.620438\n",
       "14143                    102.714416                         56.661466\n",
       "14161                    102.844313                         56.595309\n",
       "14167                    103.724074                         56.430243\n",
       "14168                    103.211444                         56.645173\n",
       "14173                    102.584448                         56.539904\n",
       "14180                    103.682558                         56.585142\n",
       "14195                    102.307805                         56.625449\n",
       "14200                    103.733646                         56.568726\n",
       "14201                    103.819782                         56.620063\n",
       "14204                    103.317124                         56.619457\n",
       "14207                    103.574689                         56.431876\n",
       "\n",
       "[3156 rows x 2 columns]"
      ]
     },
     "execution_count": 54,
     "metadata": {},
     "output_type": "execute_result"
    }
   ],
   "source": [
    "gaia_df_4 = gaia_df.loc[(\n",
    "                (gaia_df.ra >= ra_min) & (gaia_df.ra <= ra_max) &\n",
    "                (gaia_df.dec >= dec_min) & (gaia_df.dec <= dec_max))]\n",
    "gaia_df_4[['ra','dec']]"
   ]
  },
  {
   "cell_type": "markdown",
   "metadata": {},
   "source": [
    "# <span style=\"color:red\">Future of Pandas </span>\n",
    "Pandas is a __great__ for handling data, especially comma-delimited or space-separated data. Pandas is also compatible with many other packages, like __seaborn__, __astropy__, NumPy, etc.\n",
    "\n",
    "We will have another lecture on Pandas that will cover much more advanced aspects of Pandas. __Make sure you keep checking the schedule!__"
   ]
  },
  {
   "cell_type": "markdown",
   "metadata": {},
   "source": [
    "# <span style=\"color:blue\">Resources </span>\n",
    "- [12 Useful Pandas Techniques in Python for Data Manipulation](https://www.analyticsvidhya.com/blog/2016/01/12-pandas-techniques-python-data-manipulation/)\n",
    "- [Datacamp Pandas Tutorial](https://www.datacamp.com/community/tutorials/pandas-tutorial-dataframe-python)\n",
    "- [Top 8 resources for learning data analysis with pandas](http://www.dataschool.io/best-python-pandas-resources/)"
   ]
  },
  {
   "cell_type": "code",
   "execution_count": null,
   "metadata": {},
   "outputs": [],
   "source": []
  },
  {
   "cell_type": "code",
   "execution_count": 22,
   "metadata": {},
   "outputs": [],
   "source": [
    "# #! /usr/bin/env python\n",
    "# # -*- coding: utf-8 -*-\n",
    "\n",
    "# # Victor Calderon\n",
    "# # Created      : 2018-08-06\n",
    "# # Last Modified: 2018-08-06\n",
    "# # Vanderbilt University\n",
    "# from __future__ import absolute_import, division, print_function \n",
    "# __author__     = ['Victor Calderon']\n",
    "# __copyright__  = [\"Copyright 2018 Victor Calderon, Planck spectrum\"]\n",
    "# __email__      = ['victor.calderon@vanderbilt.edu']\n",
    "# __maintainer__ = ['Victor Calderon']\n",
    "# \"\"\"\n",
    "\n",
    "# \"\"\"\n",
    "# # Importing Modules\n",
    "# import os\n",
    "# import sys\n",
    "# import numpy as np\n",
    "# import matplotlib.pyplot as plt\n",
    "\n",
    "# ## Functions\n",
    "\n",
    "# # Dictionary of constants\n",
    "# def const_dict_func():\n",
    "#     \"\"\"\n",
    "#     Dictionary of constants\n",
    "\n",
    "#     Returns\n",
    "#     ---------\n",
    "#     const_dict : `dict`\n",
    "#         Dictionary of constants\n",
    "#     \"\"\"\n",
    "#     const_dict = {}\n",
    "#     const_dict['c'] = 3.0e8 # Speed of light\n",
    "#     const_dict['h'] = 6.62e-34 # Planck's constant\n",
    "#     const_dict['k'] = 1.38e-23 # Boltzmann's constant\n",
    "\n",
    "#     return const_dict\n",
    "\n",
    "# # Function for the Planck spectrum\n",
    "# def planck_spectrum(T, wavelen, const_dict):\n",
    "#     \"\"\"\n",
    "#     Computes the Planck spectrum for a given Temperature and wavelength\n",
    "\n",
    "#     Parameters\n",
    "#     -----------\n",
    "#     T : `float`, `int`\n",
    "#         Temperature used. In units of `Kelvin`\n",
    "\n",
    "#     wavelen : `float`, `int`\n",
    "#         Wavelengths to evaluate\n",
    "\n",
    "#     const_dict : `dict`\n",
    "#         Dictionary with constants used.\n",
    "\n",
    "#     Returns\n",
    "#     -----------\n",
    "#     I : `np.ndarray`, `float`, `int`\n",
    "#         Intensity of the Power spectrum at given temperature and wavelength\n",
    "#     \"\"\"\n",
    "#     # Constants\n",
    "#     c = const_dict['c']\n",
    "#     h = const_dict['h']\n",
    "#     k = const_dict['k']\n",
    "#     # Radiance\n",
    "#     I = (2 * h * c ** 5) / (wavelen**5)\n",
    "#     I *= 1./(-1. + np.exp((h * c)/(wavelen * k * T)))\n",
    "\n",
    "#     return I\n",
    "\n",
    "# # Plotting data\n",
    "\n",
    "# def plot_planck(data):\n",
    "#     \"\"\"\n",
    "#     Plots the Planck spectrum\n",
    "\n",
    "#     Parameters\n",
    "#     ------------\n",
    "#     data : `np.ndarray`\n",
    "#         Data containing wavelength and planck spectrum information.\n",
    "#         Shape is (N, 2)\n",
    "#     \"\"\"\n",
    "#     # Clearing previous figures\n",
    "#     plt.clf()\n",
    "#     plt.close()\n",
    "#     # Initializing figure\n",
    "#     fig = plt.figure(figsize=(8,8))\n",
    "#     ax  = fig.add_subplot(111, facecolor='white')\n",
    "#     # Plotting spectrum\n",
    "#     plt.plot(data[:, 0], data[:, 1], marker='o', color='b', linestyle='',\n",
    "#                 label='Planck spectrum')\n",
    "#     #\n",
    "#     # Axis labels\n",
    "#     ax.set_xlabel(r'$\\lambda$ [m]', fontsize=20)\n",
    "#     ax.set_ylabel('Intensity', fontsize=20)\n",
    "#     #\n",
    "#     # Showing figure\n",
    "#     plt.show()\n",
    "\n",
    "\n",
    "# def main():\n",
    "#     \"\"\"\n",
    "#     Main function\n",
    "#     \"\"\"\n",
    "#     #\n",
    "#     # Dictionary of constants\n",
    "#     const_dict = const_dict_func()\n",
    "#     #\n",
    "#     # Temperature as an input parameter\n",
    "#     T = float(sys.argv[1])\n",
    "#     #\n",
    "#     # Wavelenght\n",
    "#     wavelen_min = 1.e-7 # Minimum wavelength in meters\n",
    "#     waveln_max  = 6.e-5 #Maximum wavelength in meters\n",
    "#     samples     = 100 # Number of steps to output\n",
    "#     #\n",
    "#     # List of wavelengths\n",
    "#     wavelen = np.arange(samples)\n",
    "#     wavelen = wavelen_min + (waveln_max - wavelen_min) * wavelen / float(samples)\n",
    "#     #\n",
    "#     # Computing the radiance\n",
    "#     radiance = planck_spectrum(T, wavelen, const_dict)\n",
    "#     #\n",
    "#     # Stacking the data\n",
    "#     data = np.column_stack((wavelen, radiance))\n",
    "#     #\n",
    "#     ## Saving data to file\n",
    "#     # Definiing output path and checking if it exists\n",
    "#     output_path = '../datafiles'\n",
    "#     if not (os.path.exists(output_path)):\n",
    "#         os.makedirs(output_path)\n",
    "#     # Saving data to file\n",
    "#     np.savetxt('{0}/spectrum.dat'.format(output_path), data)\n",
    "#     #\n",
    "#     # Plotting data\n",
    "#     plot_planck(data)\n",
    "\n",
    "# # Main function\n",
    "# if __name__=='__main__':\n",
    "#     # Main Function\n",
    "#     main()\n",
    "\n"
   ]
  },
  {
   "cell_type": "code",
   "execution_count": 24,
   "metadata": {},
   "outputs": [
    {
     "name": "stderr",
     "output_type": "stream",
     "text": [
      "/var/folders/q2/2v_9qp1s1n9635tlzjm697gc0000gr/T/ipykernel_62819/2690346145.py:6: DtypeWarning: Columns (10) have mixed types. Specify dtype option on import or set low_memory=False.\n",
      "  imdb_data = pd.read_csv('archive/movies_metadata.csv')  # Replace with your dataset file path\n"
     ]
    }
   ],
   "source": [
    "import pandas as pd\n",
    "import seaborn as sns\n",
    "import matplotlib.pyplot as plt\n",
    "\n",
    "# Step 1: Load the IMDb Movie Dataset\n",
    "imdb_data = pd.read_csv('archive/movies_metadata.csv')  # Replace with your dataset file path\n",
    "\n",
    "# Step 2: Data Cleaning (if needed)\n",
    "# Remove duplicates and handle missing values if necessary\n",
    "\n",
    "# Step 3: Data Exploration\n",
    "summary_stats = imdb_data.describe()\n",
    "\n",
    "# Step 4: Data Visualization\n"
   ]
  },
  {
   "cell_type": "code",
   "execution_count": null,
   "metadata": {},
   "outputs": [],
   "source": [
    "plt.figure(figsize=(10, 6))\n",
    "\n",
    "# Histogram of movie ratings\n",
    "plt.subplot(2, 2, 1)\n",
    "sns.histplot(data=imdb_data, x='Rating', bins=10, kde=True)\n",
    "plt.title('Distribution of Movie Ratings')\n",
    "\n",
    "# Bar chart of movie genres\n",
    "plt.subplot(2, 2, 2)\n",
    "genre_counts = imdb_data['Genre'].value_counts()\n",
    "sns.barplot(x=genre_counts.index, y=genre_counts.values)\n",
    "plt.xticks(rotation=45)\n",
    "plt.title('Number of Movies in Each Genre')\n",
    "\n",
    "# Scatter plot of budget vs. box office earnings\n",
    "plt.subplot(2, 2, 3)\n",
    "sns.scatterplot(data=imdb_data, x='Budget', y='Gross_Earnings')\n",
    "plt.title('Budget vs. Gross Earnings')\n",
    "\n",
    "# Box plot of ratings by genre\n",
    "plt.subplot(2, 2, 4)\n",
    "sns.boxplot(data=imdb_data, x='Genre', y='Rating')\n",
    "plt.xticks(rotation=45)\n",
    "plt.title('Movie Ratings by Genre')\n",
    "\n",
    "plt.tight_layout()\n",
    "plt.show()\n",
    "\n",
    "# Step 5: Correlation Analysis\n",
    "correlation_matrix = imdb_data.corr()\n",
    "plt.figure(figsize=(8, 6))\n",
    "sns.heatmap(correlation_matrix, annot=True, cmap='coolwarm')\n",
    "plt.title('Correlation Heatmap')\n",
    "\n",
    "# Step 6: Insights and Findings\n",
    "# Write a summary of your findings based on the analysis and visualizations\n"
   ]
  },
  {
   "cell_type": "code",
   "execution_count": null,
   "metadata": {},
   "outputs": [],
   "source": []
  }
 ],
 "metadata": {
  "kernelspec": {
   "display_name": "Python 3 (ipykernel)",
   "language": "python",
   "name": "python3"
  },
  "language_info": {
   "codemirror_mode": {
    "name": "ipython",
    "version": 3
   },
   "file_extension": ".py",
   "mimetype": "text/x-python",
   "name": "python",
   "nbconvert_exporter": "python",
   "pygments_lexer": "ipython3",
   "version": "3.9.13"
  }
 },
 "nbformat": 4,
 "nbformat_minor": 4
}
