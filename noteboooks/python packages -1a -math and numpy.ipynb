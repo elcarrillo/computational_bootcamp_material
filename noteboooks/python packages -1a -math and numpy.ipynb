{
 "cells": [
  {
   "cell_type": "markdown",
   "id": "220f9110",
   "metadata": {},
   "source": [
    "# math"
   ]
  },
  {
   "cell_type": "code",
   "execution_count": 20,
   "id": "1899e1df",
   "metadata": {},
   "outputs": [],
   "source": [
    "import math"
   ]
  },
  {
   "cell_type": "code",
   "execution_count": 22,
   "id": "99a13971",
   "metadata": {},
   "outputs": [
    {
     "name": "stdout",
     "output_type": "stream",
     "text": [
      "pi is 3.141592653589793\n",
      "cos(pi) is : -1.0\n"
     ]
    }
   ],
   "source": [
    "print('pi is', math.pi)\n",
    "print('cos(pi) is :', math.cos(math.pi))"
   ]
  },
  {
   "cell_type": "code",
   "execution_count": 23,
   "id": "a5ab02c2",
   "metadata": {},
   "outputs": [
    {
     "name": "stdout",
     "output_type": "stream",
     "text": [
      "cos(pi) is: -1.0\n"
     ]
    }
   ],
   "source": [
    "import math as m\n",
    "print('cos(pi) is:', m.cos(m.pi))"
   ]
  },
  {
   "cell_type": "markdown",
   "id": "74b1dcb3",
   "metadata": {},
   "source": [
    "# numpy"
   ]
  },
  {
   "cell_type": "code",
   "execution_count": 2,
   "id": "dbeeb2d3",
   "metadata": {},
   "outputs": [],
   "source": [
    "import numpy as np"
   ]
  },
  {
   "cell_type": "code",
   "execution_count": 12,
   "id": "1a193232",
   "metadata": {},
   "outputs": [
    {
     "name": "stdout",
     "output_type": "stream",
     "text": [
      "[1 2 3]    [list([1, 2, 3, 4]) list([5, 6, 7, 8]) 9 list([10, 11, 12])]\n"
     ]
    }
   ],
   "source": [
    "a0 = np.array([1, 2,3])\n",
    "a1 = np.array([[1,2,3,4], [5,6,7,8],9,[10,11,12]], dtype = object)\n",
    "print(a0,'  ' ,a1)"
   ]
  },
  {
   "cell_type": "code",
   "execution_count": 19,
   "id": "ab5f6963",
   "metadata": {},
   "outputs": [
    {
     "name": "stdout",
     "output_type": "stream",
     "text": [
      "[ 1  2  3  4  5  6  7  8  9 10]\n"
     ]
    }
   ],
   "source": [
    "start,stop, \\\n",
    "step = [1, 11, 1]\n",
    "\n",
    "x = np.arange(start, stop, step)\n",
    "print(x)"
   ]
  },
  {
   "cell_type": "code",
   "execution_count": 26,
   "id": "7b1a0a52",
   "metadata": {},
   "outputs": [
    {
     "name": "stdout",
     "output_type": "stream",
     "text": [
      "[  0.   1.   2.   3.   4.   5.   6.   7.   8.   9.  10.  11.  12.  13.\n",
      "  14.  15.  16.  17.  18.  19.  20.  21.  22.  23.  24.  25.  26.  27.\n",
      "  28.  29.  30.  31.  32.  33.  34.  35.  36.  37.  38.  39.  40.  41.\n",
      "  42.  43.  44.  45.  46.  47.  48.  49.  50.  51.  52.  53.  54.  55.\n",
      "  56.  57.  58.  59.  60.  61.  62.  63.  64.  65.  66.  67.  68.  69.\n",
      "  70.  71.  72.  73.  74.  75.  76.  77.  78.  79.  80.  81.  82.  83.\n",
      "  84.  85.  86.  87.  88.  89.  90.  91.  92.  93.  94.  95.  96.  97.\n",
      "  98.  99. 100.]\n"
     ]
    }
   ],
   "source": [
    "start, stop,n_elements = [0,100,101]\n",
    "x = np.linspace(start, stop, n_elements)\n",
    "print(x)"
   ]
  },
  {
   "cell_type": "code",
   "execution_count": 29,
   "id": "df253af9",
   "metadata": {},
   "outputs": [
    {
     "name": "stdout",
     "output_type": "stream",
     "text": [
      "(array([  0,   5,  10,  15,  20,  25,  30,  35,  40,  45,  50,  55,  60,\n",
      "        65,  70,  75,  80,  85,  90,  95, 100]),)\n",
      "[  0.   5.  10.  15.  20.  25.  30.  35.  40.  45.  50.  55.  60.  65.\n",
      "  70.  75.  80.  85.  90.  95. 100.]\n"
     ]
    }
   ],
   "source": [
    "## recall x = list of 1-100 from above\n",
    "x_5 = np.where(x%5 == 0)\n",
    "print(x_5)\n",
    "print(x[x_5])"
   ]
  },
  {
   "cell_type": "code",
   "execution_count": 32,
   "id": "5c101c53",
   "metadata": {},
   "outputs": [],
   "source": [
    "start, stop, n_elem = [0,100,101]\n",
    "x = np.linspace(start, stop, n_elem)\n",
    "y = (.1*x)**2 - (5*x)+3\n",
    "\n",
    "np.savetxt('myfile.txt', np.transpose([x,y]))\n",
    "\n",
    "data = np.loadtxt('myfile.txt')\n",
    "#print(data)"
   ]
  },
  {
   "cell_type": "code",
   "execution_count": 34,
   "id": "8da769e2",
   "metadata": {},
   "outputs": [
    {
     "name": "stdout",
     "output_type": "stream",
     "text": [
      "0.000000000000000000e+00 3.000000000000000000e+00\r\n",
      "1.000000000000000000e+00 -1.990000000000000213e+00\r\n",
      "2.000000000000000000e+00 -6.960000000000000853e+00\r\n",
      "3.000000000000000000e+00 -1.191000000000000014e+01\r\n",
      "4.000000000000000000e+00 -1.683999999999999986e+01\r\n",
      "5.000000000000000000e+00 -2.175000000000000000e+01\r\n",
      "6.000000000000000000e+00 -2.664000000000000057e+01\r\n",
      "7.000000000000000000e+00 -3.150999999999999801e+01\r\n",
      "8.000000000000000000e+00 -3.635999999999999943e+01\r\n",
      "9.000000000000000000e+00 -4.118999999999999773e+01\r\n"
     ]
    }
   ],
   "source": [
    "#!pwd\n",
    "!head myfile.txt  # remember we can run unix commands"
   ]
  },
  {
   "cell_type": "code",
   "execution_count": 35,
   "id": "634612cc",
   "metadata": {},
   "outputs": [
    {
     "data": {
      "text/plain": [
       "array([0, 1, 2, 3, 4])"
      ]
     },
     "execution_count": 35,
     "metadata": {},
     "output_type": "execute_result"
    }
   ],
   "source": [
    "np.arange(5)"
   ]
  },
  {
   "cell_type": "markdown",
   "id": "040bf982",
   "metadata": {},
   "source": [
    "### some numpy methods"
   ]
  },
  {
   "cell_type": "code",
   "execution_count": 46,
   "id": "a1d56a5e",
   "metadata": {},
   "outputs": [
    {
     "name": "stdout",
     "output_type": "stream",
     "text": [
      "[12.11347741 11.45168741  9.68630449 12.34760581]\n"
     ]
    }
   ],
   "source": [
    "b = np.random.normal(10,3,5) # 5 element arry of normally distrubet values with mean 10 and var 3\n",
    "mask = b>9   ## creates a boolean array determining which numbers are greater than 9\n",
    "print(b[mask])\n"
   ]
  },
  {
   "cell_type": "code",
   "execution_count": 47,
   "id": "9429fc65",
   "metadata": {},
   "outputs": [
    {
     "name": "stdout",
     "output_type": "stream",
     "text": [
      "[0.         0.         0.         0.         7.65174315]\n"
     ]
    }
   ],
   "source": [
    "b[mask]= 0 ## sets values >9 to zero\n",
    "print(b)"
   ]
  },
  {
   "cell_type": "code",
   "execution_count": null,
   "id": "6a058780",
   "metadata": {},
   "outputs": [],
   "source": []
  }
 ],
 "metadata": {
  "kernelspec": {
   "display_name": "Python 3 (ipykernel)",
   "language": "python",
   "name": "python3"
  },
  "language_info": {
   "codemirror_mode": {
    "name": "ipython",
    "version": 3
   },
   "file_extension": ".py",
   "mimetype": "text/x-python",
   "name": "python",
   "nbconvert_exporter": "python",
   "pygments_lexer": "ipython3",
   "version": "3.9.13"
  }
 },
 "nbformat": 4,
 "nbformat_minor": 5
}
